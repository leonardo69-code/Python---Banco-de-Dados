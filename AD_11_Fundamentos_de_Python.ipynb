{
  "nbformat": 4,
  "nbformat_minor": 0,
  "metadata": {
    "colab": {
      "provenance": [],
      "include_colab_link": true
    },
    "kernelspec": {
      "name": "python3",
      "display_name": "Python 3"
    },
    "language_info": {
      "name": "python"
    }
  },
  "cells": [
    {
      "cell_type": "markdown",
      "metadata": {
        "id": "view-in-github",
        "colab_type": "text"
      },
      "source": [
        "<a href=\"https://colab.research.google.com/github/leonardo69-code/Python---Banco-de-Dados/blob/main/AD_11_Fundamentos_de_Python.ipynb\" target=\"_parent\"><img src=\"https://colab.research.google.com/assets/colab-badge.svg\" alt=\"Open In Colab\"/></a>"
      ]
    },
    {
      "cell_type": "markdown",
      "source": [
        "# 1 - Variáveis e tipos de dados"
      ],
      "metadata": {
        "id": "kdGY4ZocS3pW"
      }
    },
    {
      "cell_type": "code",
      "execution_count": null,
      "metadata": {
        "id": "mT8loC27P33a"
      },
      "outputs": [],
      "source": [
        "'''\n",
        "Variáveis:\n",
        "'''\n",
        "cliente = 'Douglas' # nesta linha criamos a variável cliente e armazenamos o nome mais bonito"
      ]
    },
    {
      "cell_type": "code",
      "source": [
        "# exibindo o valor de uma variável\n",
        "print(cliente)"
      ],
      "metadata": {
        "colab": {
          "base_uri": "https://localhost:8080/"
        },
        "id": "_6DGTwTTVIn4",
        "outputId": "5ff6b6f5-c057-4034-a5b5-fc34379d3a2e"
      },
      "execution_count": null,
      "outputs": [
        {
          "output_type": "stream",
          "name": "stdout",
          "text": [
            "Douglas\n"
          ]
        }
      ]
    },
    {
      "cell_type": "code",
      "source": [
        "# Verficicando o tipo de dado armazenado\n",
        "type(cliente)"
      ],
      "metadata": {
        "id": "RacwKUztVkwi",
        "colab": {
          "base_uri": "https://localhost:8080/"
        },
        "outputId": "b874da1a-ae57-4e90-bff6-9c9a3be841bc"
      },
      "execution_count": null,
      "outputs": [
        {
          "output_type": "execute_result",
          "data": {
            "text/plain": [
              "str"
            ]
          },
          "metadata": {},
          "execution_count": 3
        }
      ]
    },
    {
      "cell_type": "code",
      "source": [
        "peso = 87\n",
        "type(peso)"
      ],
      "metadata": {
        "colab": {
          "base_uri": "https://localhost:8080/"
        },
        "id": "nYzApN6wX1ky",
        "outputId": "bf7bf866-5ea1-413c-d0fc-b91ffe1b40f2"
      },
      "execution_count": null,
      "outputs": [
        {
          "output_type": "execute_result",
          "data": {
            "text/plain": [
              "int"
            ]
          },
          "metadata": {},
          "execution_count": 8
        }
      ]
    },
    {
      "cell_type": "code",
      "source": [
        "altura = 1.85\n",
        "type(altura)"
      ],
      "metadata": {
        "colab": {
          "base_uri": "https://localhost:8080/"
        },
        "id": "vhoFn3fYX8d9",
        "outputId": "a62c7f39-fc13-4836-ff5a-4bcf88b173de"
      },
      "execution_count": null,
      "outputs": [
        {
          "output_type": "execute_result",
          "data": {
            "text/plain": [
              "float"
            ]
          },
          "metadata": {},
          "execution_count": 10
        }
      ]
    },
    {
      "cell_type": "markdown",
      "source": [
        "# 2 - Operadores matemáticos"
      ],
      "metadata": {
        "id": "AJ_5RIy5YlZV"
      }
    },
    {
      "cell_type": "code",
      "source": [
        "# Soma (+)\n",
        "soma = 3 + 2\n",
        "print(soma)"
      ],
      "metadata": {
        "colab": {
          "base_uri": "https://localhost:8080/"
        },
        "id": "XkJbiuIrYov1",
        "outputId": "63a46f78-d337-4a80-a1a2-8410db7dbc9a"
      },
      "execution_count": null,
      "outputs": [
        {
          "output_type": "stream",
          "name": "stdout",
          "text": [
            "5\n"
          ]
        }
      ]
    },
    {
      "cell_type": "code",
      "source": [
        "# Subtração (-)\n",
        "sub = 3 - 2\n",
        "print(sub)"
      ],
      "metadata": {
        "colab": {
          "base_uri": "https://localhost:8080/"
        },
        "id": "ZUKz6nFJZZyM",
        "outputId": "81c27604-7a19-4f35-e234-ec553f2fe4b9"
      },
      "execution_count": null,
      "outputs": [
        {
          "output_type": "stream",
          "name": "stdout",
          "text": [
            "1\n"
          ]
        }
      ]
    },
    {
      "cell_type": "code",
      "source": [
        "# Multiplicação (*)\n",
        "mult = 3 * 2\n",
        "print(mult)"
      ],
      "metadata": {
        "colab": {
          "base_uri": "https://localhost:8080/"
        },
        "id": "TcVRB7YNZt5t",
        "outputId": "2c2c5252-5a93-405b-ba5c-746df21c93ca"
      },
      "execution_count": null,
      "outputs": [
        {
          "output_type": "stream",
          "name": "stdout",
          "text": [
            "6\n"
          ]
        }
      ]
    },
    {
      "cell_type": "code",
      "source": [
        "# Divisão (/)\n",
        "div = 3 / 2\n",
        "print(div)"
      ],
      "metadata": {
        "colab": {
          "base_uri": "https://localhost:8080/"
        },
        "id": "pM9MZZJ_aCVm",
        "outputId": "5b3a8499-4df3-431a-995d-46d8060f840c"
      },
      "execution_count": null,
      "outputs": [
        {
          "output_type": "stream",
          "name": "stdout",
          "text": [
            "1.5\n"
          ]
        }
      ]
    },
    {
      "cell_type": "code",
      "source": [
        "# Parte inteira da divisão (//)\n",
        "int_div = 3 // 2\n",
        "print(int_div)"
      ],
      "metadata": {
        "colab": {
          "base_uri": "https://localhost:8080/"
        },
        "id": "6syTosHMbBdi",
        "outputId": "c3bc13c4-cacd-472c-e4cc-b4182eb17a68"
      },
      "execution_count": null,
      "outputs": [
        {
          "output_type": "stream",
          "name": "stdout",
          "text": [
            "1\n"
          ]
        }
      ]
    },
    {
      "cell_type": "code",
      "source": [
        "# resto da divisão (%)\n",
        "resto = 3 % 2\n",
        "print(resto)"
      ],
      "metadata": {
        "colab": {
          "base_uri": "https://localhost:8080/"
        },
        "id": "hcUh8sFjbKmK",
        "outputId": "9bb41be6-e2ae-41fd-c124-9a6b2ecdb184"
      },
      "execution_count": null,
      "outputs": [
        {
          "output_type": "stream",
          "name": "stdout",
          "text": [
            "1\n"
          ]
        }
      ]
    },
    {
      "cell_type": "code",
      "source": [
        "# Potenciação\n",
        "potencia = 3 ** 2\n",
        "print(potencia)"
      ],
      "metadata": {
        "colab": {
          "base_uri": "https://localhost:8080/"
        },
        "id": "feyBo77HbVQ9",
        "outputId": "e2242049-4254-4321-b749-54584a01ff89"
      },
      "execution_count": null,
      "outputs": [
        {
          "output_type": "stream",
          "name": "stdout",
          "text": [
            "9\n"
          ]
        }
      ]
    },
    {
      "cell_type": "markdown",
      "source": [
        "# 3 - Strings"
      ],
      "metadata": {
        "id": "w7WYRrTxeqd3"
      }
    },
    {
      "cell_type": "code",
      "source": [
        "# Formatação de strings (f-string)\n",
        "cliente = 'Daniela'\n",
        "print(cliente)"
      ],
      "metadata": {
        "colab": {
          "base_uri": "https://localhost:8080/"
        },
        "id": "r6VaRP3cetPe",
        "outputId": "8c07ae4a-7230-4a9f-9dea-d21032de9346"
      },
      "execution_count": null,
      "outputs": [
        {
          "output_type": "stream",
          "name": "stdout",
          "text": [
            "Daniela\n"
          ]
        }
      ]
    },
    {
      "cell_type": "code",
      "source": [
        "# Formatação de strings (f-string)\n",
        "print(f'O no do cliente é {cliente}')"
      ],
      "metadata": {
        "colab": {
          "base_uri": "https://localhost:8080/"
        },
        "id": "WWEBXrGnfEYN",
        "outputId": "1af27b82-27c5-4def-8832-7f750bac60c9"
      },
      "execution_count": null,
      "outputs": [
        {
          "output_type": "stream",
          "name": "stdout",
          "text": [
            "O no do cliente é Daniela\n"
          ]
        }
      ]
    },
    {
      "cell_type": "code",
      "source": [
        "# Receber uma informação do usuário\n",
        "peso = float(input('Informe seu peso em Kg: '))\n",
        "altura = float(input('Infome sua altura em metros: '))\n",
        "imc = peso / altura ** 2\n",
        "print(f'{imc:.2f}') # Arreddonda a exibição"
      ],
      "metadata": {
        "colab": {
          "base_uri": "https://localhost:8080/"
        },
        "id": "XfxfxcctfexS",
        "outputId": "c2b75dcb-0a98-443f-97b8-1b27a1256dc4"
      },
      "execution_count": null,
      "outputs": [
        {
          "output_type": "stream",
          "name": "stdout",
          "text": [
            "Informe seu peso em Kg: 87\n",
            "Infome sua altura em metros: 1.85\n",
            "25.42\n"
          ]
        }
      ]
    },
    {
      "cell_type": "code",
      "source": [
        "'''\n",
        "É uma boa prática arredondar a exibição ao invÉs do armazenamente\n",
        "'''\n",
        "print(round(imc,2)) # Arreddonda a exibição"
      ],
      "metadata": {
        "colab": {
          "base_uri": "https://localhost:8080/"
        },
        "id": "dA-5xyQ9jM4P",
        "outputId": "5767636e-5bd8-4d60-c1a7-7c04248c04f3"
      },
      "execution_count": null,
      "outputs": [
        {
          "output_type": "stream",
          "name": "stdout",
          "text": [
            "25.42\n"
          ]
        }
      ]
    },
    {
      "cell_type": "code",
      "source": [
        "email = 'doug@gmail.com'\n",
        "# Indexação de strings\n",
        "# 0    1   2   3   4   5  6  7  8  9 10 11 12 13 (índice)\n",
        "# -14 -13 -12 -11 -10 -9 -8 -7 -6 -5 -4 -3 -2 -1 (índice reverso)\n",
        "# 1º 2º 3º 4º 5º 6º 7º 8º 9º 10º 11º 12º 13º 14º (ordinal)\n",
        "# d  o  u  g  @  g  m  a  i   l   .   c   o   m"
      ],
      "metadata": {
        "id": "1Ol-Pf1Gkesn"
      },
      "execution_count": null,
      "outputs": []
    },
    {
      "cell_type": "code",
      "source": [
        "# Exibindo o primeiro caracter da string\n",
        "letra1 = email[0]\n",
        "print(letra1)"
      ],
      "metadata": {
        "colab": {
          "base_uri": "https://localhost:8080/"
        },
        "id": "3c3dyANilP8F",
        "outputId": "2b176ff2-e244-46ba-febb-e1bb5fa816bb"
      },
      "execution_count": null,
      "outputs": [
        {
          "output_type": "stream",
          "name": "stdout",
          "text": [
            "d\n"
          ]
        }
      ]
    },
    {
      "cell_type": "code",
      "source": [
        "'''\n",
        "Imagine que você deseja fatiar uma string exibindo do primeiro ao último\n",
        "caracter\n",
        "'''\n",
        "print(email[0:14]) # início (0) inclusive e final(14) exclusivo"
      ],
      "metadata": {
        "colab": {
          "base_uri": "https://localhost:8080/"
        },
        "id": "-mAqTsWbmSH6",
        "outputId": "0406126c-c153-472c-b264-2e37284a9c68"
      },
      "execution_count": null,
      "outputs": [
        {
          "output_type": "stream",
          "name": "stdout",
          "text": [
            "doug@gmail.co\n"
          ]
        }
      ]
    },
    {
      "cell_type": "code",
      "source": [
        "# Exibindo o última caracter de uma string com tanho desconhecido\n",
        "print(email[-1])"
      ],
      "metadata": {
        "colab": {
          "base_uri": "https://localhost:8080/"
        },
        "id": "zU8FOpNJn37L",
        "outputId": "d3aae2f3-f11f-45de-8e28-010eb403c6eb"
      },
      "execution_count": null,
      "outputs": [
        {
          "output_type": "stream",
          "name": "stdout",
          "text": [
            "m\n"
          ]
        }
      ]
    },
    {
      "cell_type": "code",
      "source": [
        "# Fatiamento de um intervalo de caractceres com passos (saltos)\n",
        "'''\n",
        "Imagine que você deseja criar uma visualização de todos os caracteres\n",
        "com passo igual a 2\n",
        "'''\n",
        "print(email[::2]) # [início (inclusive):fim (exclusive):passo (de quanto em quanto)]"
      ],
      "metadata": {
        "colab": {
          "base_uri": "https://localhost:8080/"
        },
        "id": "zQ0u8BbtoyHQ",
        "outputId": "95d8b832-3b1b-4c7f-b1ad-a90114f0299a"
      },
      "execution_count": null,
      "outputs": [
        {
          "output_type": "stream",
          "name": "stdout",
          "text": [
            "du@mi.o\n"
          ]
        }
      ]
    },
    {
      "cell_type": "code",
      "source": [
        "# Função para contar a quantidade de caracteres de uma string\n",
        "len(email)"
      ],
      "metadata": {
        "colab": {
          "base_uri": "https://localhost:8080/"
        },
        "id": "qSnRLfzBpt4y",
        "outputId": "269f88ee-2b1c-4f81-f9cc-1bfc4ed4ff2f"
      },
      "execution_count": null,
      "outputs": [
        {
          "output_type": "execute_result",
          "data": {
            "text/plain": [
              "14"
            ]
          },
          "metadata": {},
          "execution_count": 58
        }
      ]
    },
    {
      "cell_type": "code",
      "source": [
        "# Operador IN (verifica a presença de um caracter em uma string)\n",
        "cliente = 'Douglas'\n",
        "'D' in cliente"
      ],
      "metadata": {
        "colab": {
          "base_uri": "https://localhost:8080/"
        },
        "id": "8k3uYrJXuShd",
        "outputId": "db6ea606-7e4c-42c4-925e-11c6d2ef5765"
      },
      "execution_count": null,
      "outputs": [
        {
          "output_type": "execute_result",
          "data": {
            "text/plain": [
              "True"
            ]
          },
          "metadata": {},
          "execution_count": 59
        }
      ]
    },
    {
      "cell_type": "code",
      "source": [
        "'d' in cliente"
      ],
      "metadata": {
        "colab": {
          "base_uri": "https://localhost:8080/"
        },
        "id": "VP49DIecuuVd",
        "outputId": "3a84290f-2bad-4a1e-b9a5-527c39316dd8"
      },
      "execution_count": null,
      "outputs": [
        {
          "output_type": "execute_result",
          "data": {
            "text/plain": [
              "False"
            ]
          },
          "metadata": {},
          "execution_count": 60
        }
      ]
    },
    {
      "cell_type": "code",
      "source": [
        "# Operador NOT IN (verifica a presença de um caracter em uma string)\n",
        "cliente = 'Douglas'\n",
        "'D' not in cliente"
      ],
      "metadata": {
        "colab": {
          "base_uri": "https://localhost:8080/"
        },
        "id": "WUkpf3_hu3xv",
        "outputId": "174f4834-8a61-4b70-f95c-519818ec35a4"
      },
      "execution_count": null,
      "outputs": [
        {
          "output_type": "execute_result",
          "data": {
            "text/plain": [
              "False"
            ]
          },
          "metadata": {},
          "execution_count": 61
        }
      ]
    },
    {
      "cell_type": "code",
      "source": [
        "'d' not in cliente"
      ],
      "metadata": {
        "colab": {
          "base_uri": "https://localhost:8080/"
        },
        "id": "-cfv289lvBne",
        "outputId": "c881ed67-ca8a-4f99-f2fb-34820c2f98f8"
      },
      "execution_count": null,
      "outputs": [
        {
          "output_type": "execute_result",
          "data": {
            "text/plain": [
              "True"
            ]
          },
          "metadata": {},
          "execution_count": 62
        }
      ]
    },
    {
      "cell_type": "code",
      "source": [
        "# Convertendo em caixa alta a primeira leta de uma string\n",
        "nome = 'douglas'\n",
        "print(nome)\n",
        "nome = nome.capitalize()\n",
        "print(nome)"
      ],
      "metadata": {
        "colab": {
          "base_uri": "https://localhost:8080/"
        },
        "id": "Qtm7X7U3vRQ_",
        "outputId": "8c6b2505-8ee7-46a2-9e35-18b2c27a3817"
      },
      "execution_count": null,
      "outputs": [
        {
          "output_type": "stream",
          "name": "stdout",
          "text": [
            "douglas\n",
            "Douglas\n"
          ]
        }
      ]
    },
    {
      "cell_type": "code",
      "source": [
        "nome_completo = 'douglas almeida ribeiro'\n",
        "print(nome_completo)\n",
        "nome_completo = nome_completo.capitalize()\n",
        "print(nome_completo)\n",
        "nome_completo = nome_completo.title()\n",
        "print(nome_completo)"
      ],
      "metadata": {
        "colab": {
          "base_uri": "https://localhost:8080/"
        },
        "id": "uds31Zi9vq3n",
        "outputId": "9c51802b-f594-4bb5-a9b2-e881c9a08210"
      },
      "execution_count": null,
      "outputs": [
        {
          "output_type": "stream",
          "name": "stdout",
          "text": [
            "douglas almeida ribeiro\n",
            "Douglas almeida ribeiro\n",
            "Douglas Almeida Ribeiro\n"
          ]
        }
      ]
    },
    {
      "cell_type": "code",
      "source": [
        "# Método upper deixa todas as letras em caixa alta\n",
        "nome = 'Douglas'\n",
        "print(nome)\n",
        "nome = nome.upper()\n",
        "print(nome)"
      ],
      "metadata": {
        "colab": {
          "base_uri": "https://localhost:8080/"
        },
        "id": "1MM9hKgRw4fl",
        "outputId": "f6f35d2e-a693-424c-aa47-90963661a408"
      },
      "execution_count": null,
      "outputs": [
        {
          "output_type": "stream",
          "name": "stdout",
          "text": [
            "Douglas\n",
            "DOUGLAS\n"
          ]
        }
      ]
    },
    {
      "cell_type": "code",
      "source": [
        "# Contando quantas vezes um caracter aparece em uma string\n",
        "nome = 'ANA'\n",
        "nome.count('A')"
      ],
      "metadata": {
        "colab": {
          "base_uri": "https://localhost:8080/"
        },
        "id": "Mqs3TJH_xvbh",
        "outputId": "40e0571a-1817-4e2b-87bf-995d629d74f9"
      },
      "execution_count": null,
      "outputs": [
        {
          "output_type": "execute_result",
          "data": {
            "text/plain": [
              "2"
            ]
          },
          "metadata": {},
          "execution_count": 74
        }
      ]
    },
    {
      "cell_type": "code",
      "source": [
        "# Descobrindo o índice da primeira correspondência encontrada\n",
        "email.find('o')"
      ],
      "metadata": {
        "colab": {
          "base_uri": "https://localhost:8080/"
        },
        "id": "bYHYMpXmyOIX",
        "outputId": "43a1d131-cf68-42ad-b13b-b62bc8550bfd"
      },
      "execution_count": null,
      "outputs": [
        {
          "output_type": "execute_result",
          "data": {
            "text/plain": [
              "1"
            ]
          },
          "metadata": {},
          "execution_count": 72
        }
      ]
    },
    {
      "cell_type": "code",
      "source": [
        "# Método para remover espaços indesejados\n",
        "nome = ' Douglas '\n",
        "print(len(nome))\n",
        "nome = nome.strip()\n",
        "print(len(nome))"
      ],
      "metadata": {
        "colab": {
          "base_uri": "https://localhost:8080/"
        },
        "id": "9Rfs-91JzYTR",
        "outputId": "a900b751-4f12-4f02-b203-ecd95893c509"
      },
      "execution_count": null,
      "outputs": [
        {
          "output_type": "stream",
          "name": "stdout",
          "text": [
            "9\n",
            "7\n"
          ]
        }
      ]
    },
    {
      "cell_type": "code",
      "source": [
        "# Método para substituir um caracter por outro\n",
        "\n",
        "custo = 'R$ 10.50'\n",
        "custo = custo.replace('.',',')\n",
        "print(custo)"
      ],
      "metadata": {
        "colab": {
          "base_uri": "https://localhost:8080/"
        },
        "id": "K0hryvZ50BDA",
        "outputId": "efae9e2e-66b6-46d1-9d80-4785e62f2fe5"
      },
      "execution_count": null,
      "outputs": [
        {
          "output_type": "stream",
          "name": "stdout",
          "text": [
            "R$ 10,50\n"
          ]
        }
      ]
    },
    {
      "cell_type": "code",
      "source": [
        "'''\n",
        "Imagine que você deseja criar um script que receba do usuário\n",
        "n nomes e os armazene separadamente em uma única variável\n",
        "'''\n",
        "nomes = input('Informe os nomes dos convidados sparados por espaços: ')\n",
        "print(nomes)\n",
        "print(type(nomes))"
      ],
      "metadata": {
        "colab": {
          "base_uri": "https://localhost:8080/"
        },
        "id": "L9rsbiDG16dY",
        "outputId": "181886f3-3259-49b0-88ce-f62b37639e2d"
      },
      "execution_count": null,
      "outputs": [
        {
          "output_type": "stream",
          "name": "stdout",
          "text": [
            "Informe os nomes dos convidados sparados por espaços: Douglas Daniela Eduardo Ester Maria Pedro\n",
            "Douglas Daniela Eduardo Ester Maria Pedro\n",
            "<class 'str'>\n"
          ]
        }
      ]
    },
    {
      "cell_type": "code",
      "source": [
        "nomes = nomes.split()\n",
        "print(nomes)\n",
        "print(type(nomes))"
      ],
      "metadata": {
        "colab": {
          "base_uri": "https://localhost:8080/"
        },
        "id": "L3YQDpKl25Cb",
        "outputId": "b386d1c1-aba6-4da7-8f5e-4e87ed89b2d9"
      },
      "execution_count": null,
      "outputs": [
        {
          "output_type": "stream",
          "name": "stdout",
          "text": [
            "['Douglas', 'Daniela', 'Eduardo', 'Ester', 'Maria', 'Pedro']\n",
            "<class 'list'>\n"
          ]
        }
      ]
    },
    {
      "cell_type": "markdown",
      "source": [
        "# 4 - Estruturas de Dados"
      ],
      "metadata": {
        "id": "C4SByaocG7G2"
      }
    },
    {
      "cell_type": "markdown",
      "source": [
        "## 4.1 - Tuplas"
      ],
      "metadata": {
        "id": "Q3n-NmGGHK_o"
      }
    },
    {
      "cell_type": "code",
      "source": [
        "clientes = ('Douglas', 'Daniela', 'Eduardo')\n",
        "print(clientes)"
      ],
      "metadata": {
        "colab": {
          "base_uri": "https://localhost:8080/"
        },
        "id": "rHtnxhD7HToR",
        "outputId": "eb82e562-48f7-459e-9256-2a17bdeff530"
      },
      "execution_count": null,
      "outputs": [
        {
          "output_type": "stream",
          "name": "stdout",
          "text": [
            "('Douglas', 'Daniela', 'Eduardo')\n"
          ]
        }
      ]
    },
    {
      "cell_type": "code",
      "source": [
        "# As tuplas são indexadas\n",
        "clientes[0][0]# acesso ao registro 0 da tupla e o registro 0 da string contida nesse registro"
      ],
      "metadata": {
        "colab": {
          "base_uri": "https://localhost:8080/",
          "height": 35
        },
        "id": "3CveT4pKIvz-",
        "outputId": "db74f165-daaa-4d59-c8c8-b4e1b29361ae"
      },
      "execution_count": null,
      "outputs": [
        {
          "output_type": "execute_result",
          "data": {
            "text/plain": [
              "'D'"
            ],
            "application/vnd.google.colaboratory.intrinsic+json": {
              "type": "string"
            }
          },
          "metadata": {},
          "execution_count": 5
        }
      ]
    },
    {
      "cell_type": "code",
      "source": [
        "# Verificando o tipo de objeto\n",
        "type(clientes)"
      ],
      "metadata": {
        "colab": {
          "base_uri": "https://localhost:8080/"
        },
        "id": "YogSztu6KR59",
        "outputId": "3d8d7726-3e58-4ab2-bf3f-280a36e1c108"
      },
      "execution_count": null,
      "outputs": [
        {
          "output_type": "execute_result",
          "data": {
            "text/plain": [
              "tuple"
            ]
          },
          "metadata": {},
          "execution_count": 6
        }
      ]
    },
    {
      "cell_type": "code",
      "source": [
        "# convertendo um objeto em uma tupla\n",
        "notas = [8, 10, 5]\n",
        "print(type(notas))\n",
        "notas = tuple(notas)\n",
        "print(type(notas))\n",
        "notas = list(notas)\n",
        "print(type(notas))"
      ],
      "metadata": {
        "colab": {
          "base_uri": "https://localhost:8080/"
        },
        "id": "SUWxfZcrKfVa",
        "outputId": "0e07e810-028f-4e23-bfb0-23610f4998f8"
      },
      "execution_count": null,
      "outputs": [
        {
          "output_type": "stream",
          "name": "stdout",
          "text": [
            "<class 'list'>\n",
            "<class 'tuple'>\n",
            "<class 'list'>\n"
          ]
        }
      ]
    },
    {
      "cell_type": "markdown",
      "source": [
        "## 4.2 - Listas"
      ],
      "metadata": {
        "id": "owNLlTjNMrhW"
      }
    },
    {
      "cell_type": "code",
      "source": [
        "# As listas são mutáveis (diferente das tuplas que são imutáveis)\n",
        "idades = [48,9]\n",
        "print(type(idades))"
      ],
      "metadata": {
        "colab": {
          "base_uri": "https://localhost:8080/"
        },
        "id": "228YBi6jMOEz",
        "outputId": "a190c6b5-b13d-4084-d527-42cf1c60bcbb"
      },
      "execution_count": null,
      "outputs": [
        {
          "output_type": "stream",
          "name": "stdout",
          "text": [
            "<class 'list'>\n"
          ]
        }
      ]
    },
    {
      "cell_type": "code",
      "source": [
        "# Acessando os valores de uma lista\n",
        "clientes = list(clientes)\n",
        "clientes[0][0]"
      ],
      "metadata": {
        "colab": {
          "base_uri": "https://localhost:8080/",
          "height": 35
        },
        "id": "FVbpwEheNGER",
        "outputId": "e8006e2a-d093-4883-8409-08ad8aac6af3"
      },
      "execution_count": null,
      "outputs": [
        {
          "output_type": "execute_result",
          "data": {
            "text/plain": [
              "'D'"
            ],
            "application/vnd.google.colaboratory.intrinsic+json": {
              "type": "string"
            }
          },
          "metadata": {},
          "execution_count": 25
        }
      ]
    },
    {
      "cell_type": "code",
      "source": [
        "clientes = ['Douglas',['Eduardo',['Ester','Daniela']]]\n",
        "type(clientes[1][1][0])"
      ],
      "metadata": {
        "colab": {
          "base_uri": "https://localhost:8080/"
        },
        "id": "f5ff1Qw5NNOs",
        "outputId": "6fc4b72c-7a94-4999-d8c4-e6e0d4848443"
      },
      "execution_count": null,
      "outputs": [
        {
          "output_type": "execute_result",
          "data": {
            "text/plain": [
              "str"
            ]
          },
          "metadata": {},
          "execution_count": 40
        }
      ]
    },
    {
      "cell_type": "code",
      "source": [
        "# Operações com listas\n",
        "nomes = ['Douglas','Daniela','Pedro','Maria','Eduardo','Ester']\n",
        "print(nomes)"
      ],
      "metadata": {
        "colab": {
          "base_uri": "https://localhost:8080/"
        },
        "id": "swTTenGwRz2K",
        "outputId": "7f5ba431-ded4-4fc8-86c2-815acf37d48e"
      },
      "execution_count": null,
      "outputs": [
        {
          "output_type": "stream",
          "name": "stdout",
          "text": [
            "['Douglas', 'Daniela', 'Pedro', 'Maria', 'Eduardo', 'Ester']\n"
          ]
        }
      ]
    },
    {
      "cell_type": "code",
      "source": [
        "# Incluir o nome José na última posição da lista\n",
        "nomes.append('José') # por definição o método append acrescente o dado na última posição da lista\n",
        "print(nomes)"
      ],
      "metadata": {
        "colab": {
          "base_uri": "https://localhost:8080/"
        },
        "id": "J5MLA2rqSHyM",
        "outputId": "ff11882c-76f2-4322-b938-677be430509d"
      },
      "execution_count": null,
      "outputs": [
        {
          "output_type": "stream",
          "name": "stdout",
          "text": [
            "['Douglas', 'Daniela', 'Pedro', 'Maria', 'Eduardo', 'Ester', 'José']\n"
          ]
        }
      ]
    },
    {
      "cell_type": "code",
      "source": [
        "'''\n",
        "Vamos supor que desejamos incluir o nome Raul entre Daniela e Pedro\n",
        "'''\n",
        "nomes.insert(2, 'Raul') # o método insert inclui um elemento em uma posição previamente determinada e \"empurra\" os outros para frente\n",
        "print(nomes)"
      ],
      "metadata": {
        "colab": {
          "base_uri": "https://localhost:8080/"
        },
        "id": "M9DmRG-rWUYP",
        "outputId": "cdee0174-c583-4f2f-90a2-9abf895707b3"
      },
      "execution_count": null,
      "outputs": [
        {
          "output_type": "stream",
          "name": "stdout",
          "text": [
            "['Douglas', 'Daniela', 'Raul', 'Pedro', 'Maria', 'Eduardo', 'Ester', 'José']\n"
          ]
        }
      ]
    },
    {
      "cell_type": "code",
      "source": [
        "'''\n",
        "Imagine que você deseja substituir José por Jonas\n",
        "'''\n",
        "nomes[7] = 'Jonas'\n",
        "print(nomes)"
      ],
      "metadata": {
        "colab": {
          "base_uri": "https://localhost:8080/"
        },
        "id": "Tzvvd7sxXgT5",
        "outputId": "6f77585d-4d1b-4cab-df79-7d0a9aa20c38"
      },
      "execution_count": null,
      "outputs": [
        {
          "output_type": "stream",
          "name": "stdout",
          "text": [
            "['Douglas', 'Daniela', 'Raul', 'Pedro', 'Maria', 'Eduardo', 'Ester', 'Jonas']\n"
          ]
        }
      ]
    },
    {
      "cell_type": "code",
      "source": [
        "# Descobrindo a posição de Jonas\n",
        "nomes.index('Jonas')"
      ],
      "metadata": {
        "colab": {
          "base_uri": "https://localhost:8080/"
        },
        "id": "tsmXU9wCX6UY",
        "outputId": "06207dbd-8c68-42ff-a605-85fc3f719146"
      },
      "execution_count": null,
      "outputs": [
        {
          "output_type": "execute_result",
          "data": {
            "text/plain": [
              "7"
            ]
          },
          "metadata": {},
          "execution_count": 51
        }
      ]
    },
    {
      "cell_type": "code",
      "source": [
        "# Excluindo um registro da lista pelo seu índice (exclusão de Jonas)\n",
        "nomes.pop(7)\n",
        "print(nomes)"
      ],
      "metadata": {
        "colab": {
          "base_uri": "https://localhost:8080/"
        },
        "id": "pq4--lm8YDKA",
        "outputId": "86f9732e-8c56-4969-9ce9-a59006a8fb2d"
      },
      "execution_count": null,
      "outputs": [
        {
          "output_type": "stream",
          "name": "stdout",
          "text": [
            "['Douglas', 'Daniela', 'Raul', 'Pedro', 'Maria', 'Eduardo', 'Ester']\n"
          ]
        }
      ]
    },
    {
      "cell_type": "code",
      "source": [
        "# Excluindo Raul da lista pelo seu valor\n",
        "nomes.remove('Raul')\n",
        "print(nomes)"
      ],
      "metadata": {
        "colab": {
          "base_uri": "https://localhost:8080/"
        },
        "id": "2pQf5Vu-ZZZH",
        "outputId": "77024079-eb9c-4414-ee46-3181582c2838"
      },
      "execution_count": null,
      "outputs": [
        {
          "output_type": "stream",
          "name": "stdout",
          "text": [
            "['Douglas', 'Daniela', 'Pedro', 'Maria', 'Eduardo', 'Ester']\n"
          ]
        }
      ]
    },
    {
      "cell_type": "markdown",
      "source": [
        "## 4.3 - Dicionários"
      ],
      "metadata": {
        "id": "rSEm1cjgZv7q"
      }
    },
    {
      "cell_type": "code",
      "source": [
        "carro = {'marca':'vw','modelo':'gol','tipo':'mec','cor':'cinza'}"
      ],
      "metadata": {
        "id": "ZZFo-nBGZt9n"
      },
      "execution_count": null,
      "outputs": []
    },
    {
      "cell_type": "code",
      "source": [
        "print(carro)"
      ],
      "metadata": {
        "colab": {
          "base_uri": "https://localhost:8080/"
        },
        "id": "0zqs9kpra-7T",
        "outputId": "b0cc42c4-2bf5-4648-f187-644d09bdc23a"
      },
      "execution_count": null,
      "outputs": [
        {
          "output_type": "stream",
          "name": "stdout",
          "text": [
            "{'marca': 'vw', 'modelo': 'gol', 'tipo': 'mec', 'cor': 'cinza'}\n"
          ]
        }
      ]
    },
    {
      "cell_type": "code",
      "source": [
        "type(carro)"
      ],
      "metadata": {
        "colab": {
          "base_uri": "https://localhost:8080/"
        },
        "id": "TnCyQjdFakCG",
        "outputId": "da3988c1-9762-4b93-e6b3-f9e4df20f9e3"
      },
      "execution_count": null,
      "outputs": [
        {
          "output_type": "execute_result",
          "data": {
            "text/plain": [
              "dict"
            ]
          },
          "metadata": {},
          "execution_count": 55
        }
      ]
    },
    {
      "cell_type": "code",
      "source": [
        "# Acessando dados de um dicionário\n",
        "carro['cor']"
      ],
      "metadata": {
        "colab": {
          "base_uri": "https://localhost:8080/",
          "height": 35
        },
        "id": "l9h1UqqkapAq",
        "outputId": "c7408745-ec38-4296-a897-77b1b3cd8c65"
      },
      "execution_count": null,
      "outputs": [
        {
          "output_type": "execute_result",
          "data": {
            "text/plain": [
              "'cinza'"
            ],
            "application/vnd.google.colaboratory.intrinsic+json": {
              "type": "string"
            }
          },
          "metadata": {},
          "execution_count": 56
        }
      ]
    },
    {
      "cell_type": "code",
      "source": [
        "carro['marca']"
      ],
      "metadata": {
        "colab": {
          "base_uri": "https://localhost:8080/",
          "height": 35
        },
        "id": "KZi2kdCsa0Kg",
        "outputId": "5ed7b1a8-3885-4d84-8994-0c43a21f4324"
      },
      "execution_count": null,
      "outputs": [
        {
          "output_type": "execute_result",
          "data": {
            "text/plain": [
              "'vw'"
            ],
            "application/vnd.google.colaboratory.intrinsic+json": {
              "type": "string"
            }
          },
          "metadata": {},
          "execution_count": 57
        }
      ]
    },
    {
      "cell_type": "code",
      "source": [
        "# Incluir uma chave e um valor (atribuição direta)\n",
        "carro['motor'] = '1.0'\n",
        "print(carro)"
      ],
      "metadata": {
        "colab": {
          "base_uri": "https://localhost:8080/"
        },
        "id": "C_boVWL2a485",
        "outputId": "b7a2789b-94ba-435a-8bae-bd4bc8f1a1f1"
      },
      "execution_count": null,
      "outputs": [
        {
          "output_type": "stream",
          "name": "stdout",
          "text": [
            "{'marca': 'vw', 'modelo': 'gol', 'tipo': 'mec', 'cor': 'cinza', 'motor': '1.0'}\n"
          ]
        }
      ]
    },
    {
      "cell_type": "code",
      "source": [
        "carro.get('motor')"
      ],
      "metadata": {
        "colab": {
          "base_uri": "https://localhost:8080/",
          "height": 35
        },
        "id": "VaFz_Ay_bQ6f",
        "outputId": "22882b09-1ac4-4c63-808f-3fa670d9d452"
      },
      "execution_count": null,
      "outputs": [
        {
          "output_type": "execute_result",
          "data": {
            "text/plain": [
              "'1.0'"
            ],
            "application/vnd.google.colaboratory.intrinsic+json": {
              "type": "string"
            }
          },
          "metadata": {},
          "execution_count": 60
        }
      ]
    },
    {
      "cell_type": "code",
      "source": [
        "# Excluindo um item de um dicionário (marca)\n",
        "carro.pop('marca')\n",
        "print(carro)"
      ],
      "metadata": {
        "colab": {
          "base_uri": "https://localhost:8080/"
        },
        "id": "WbPfYWX8bZ2b",
        "outputId": "e6212d5b-a4ce-4984-cf25-1a3f5baf49b7"
      },
      "execution_count": null,
      "outputs": [
        {
          "output_type": "stream",
          "name": "stdout",
          "text": [
            "{'modelo': 'gol', 'tipo': 'mec', 'cor': 'cinza', 'motor': '1.0'}\n"
          ]
        }
      ]
    },
    {
      "cell_type": "code",
      "source": [
        "# Excluindo o último par de chave/valor\n",
        "carro.popitem()\n",
        "print(carro)"
      ],
      "metadata": {
        "colab": {
          "base_uri": "https://localhost:8080/"
        },
        "id": "p9p1Urb_bojf",
        "outputId": "ea9beb20-729c-4327-cbfe-85e8f57672d7"
      },
      "execution_count": null,
      "outputs": [
        {
          "output_type": "stream",
          "name": "stdout",
          "text": [
            "{'modelo': 'gol', 'tipo': 'mec', 'cor': 'cinza'}\n"
          ]
        }
      ]
    },
    {
      "cell_type": "markdown",
      "source": [
        "## 4.4 - Sets (Conjuntos)"
      ],
      "metadata": {
        "id": "sXjOgAxrcJUY"
      }
    },
    {
      "cell_type": "code",
      "source": [
        "clientes = {'Douglas', 'Eduardo', 'Ester'}"
      ],
      "metadata": {
        "id": "XZus6NCQcI3I"
      },
      "execution_count": null,
      "outputs": []
    },
    {
      "cell_type": "code",
      "source": [
        "type(clientes)"
      ],
      "metadata": {
        "colab": {
          "base_uri": "https://localhost:8080/"
        },
        "id": "yQgAtNAMcw5-",
        "outputId": "4f1d38aa-14b0-4375-e24d-351d84f750be"
      },
      "execution_count": null,
      "outputs": [
        {
          "output_type": "execute_result",
          "data": {
            "text/plain": [
              "set"
            ]
          },
          "metadata": {},
          "execution_count": 64
        }
      ]
    },
    {
      "cell_type": "markdown",
      "source": [
        "# 5 - Estruturas de controle de fluxo"
      ],
      "metadata": {
        "id": "7-RX_lq9dI10"
      }
    },
    {
      "cell_type": "markdown",
      "source": [
        "## 5.1 - IF, ELIF e ELSE"
      ],
      "metadata": {
        "id": "3FBxrEi7dPMR"
      }
    },
    {
      "cell_type": "code",
      "source": [
        "'''\n",
        "Imagine que você deseja criar um código que receba do usuário uma nota de 0 a 10\n",
        "e caso a nota seja maior ou igual a 7 exiba a mensagem aprovado, caso contrario\n",
        "exiba a mensagem reprovado\n",
        "'''\n",
        "nota = float(input('Informe uma nota numérica de 0 a 10: '))\n",
        "if nota >= 7:\n",
        "  print('Aprovado')\n",
        "else:\n",
        "  print('Reprovado')"
      ],
      "metadata": {
        "colab": {
          "base_uri": "https://localhost:8080/"
        },
        "id": "eU3Yt4-TdNm1",
        "outputId": "2e146a2b-512c-44b2-9463-8737a99e98e7"
      },
      "execution_count": null,
      "outputs": [
        {
          "output_type": "stream",
          "name": "stdout",
          "text": [
            "Informe uma nota numérica de 0 a 10: 6.9\n",
            "Reprovado\n"
          ]
        }
      ]
    },
    {
      "cell_type": "code",
      "source": [
        "'''\n",
        "Imagine agora que se a nota for maior ou igual a 7 a mensagem deve ser\n",
        "Aprovado, se mnor que 7 e maior ou igual a 4, a mensagem dever ser Recuperação\n",
        "e caso a nota seja menor que 4 a mensagem dever ser Reprovado\n",
        "'''\n",
        "nota = float(input('Informe uma nota numérica de 0 a 10: '))\n",
        "if nota >= 7:\n",
        "  print('Aprovado')\n",
        "elif nota >= 4:\n",
        "  print('Recuperação')\n",
        "else:\n",
        "  print('Reprovado')"
      ],
      "metadata": {
        "colab": {
          "base_uri": "https://localhost:8080/"
        },
        "id": "ZqNOfsrrfVz7",
        "outputId": "32b90e42-efd3-4e4b-fed3-f144a2643deb"
      },
      "execution_count": null,
      "outputs": [
        {
          "output_type": "stream",
          "name": "stdout",
          "text": [
            "Informe uma nota numérica de 0 a 10: 11\n",
            "Aprovado\n"
          ]
        }
      ]
    },
    {
      "cell_type": "markdown",
      "source": [
        "## 5.2 - FOR"
      ],
      "metadata": {
        "id": "OIuosV5YlQWi"
      }
    },
    {
      "cell_type": "code",
      "source": [
        "nomes = ['Douglas','Daniela','Pedro','Maria','Eduardo','Ester']"
      ],
      "metadata": {
        "id": "sFKkOWGylPXy"
      },
      "execution_count": null,
      "outputs": []
    },
    {
      "cell_type": "code",
      "source": [
        "'''\n",
        "Imagine que você deseja percorrer a lista de nomes e imprimir separadamente\n",
        "cada nome encontrado\n",
        "'''\n",
        "for nome in nomes:\n",
        "  print(nome)"
      ],
      "metadata": {
        "colab": {
          "base_uri": "https://localhost:8080/"
        },
        "id": "Ab6lgu0Flb8h",
        "outputId": "12c658d5-ee3b-4aab-d432-9961be68645f"
      },
      "execution_count": null,
      "outputs": [
        {
          "output_type": "stream",
          "name": "stdout",
          "text": [
            "Douglas\n",
            "Daniela\n",
            "Pedro\n",
            "Maria\n",
            "Eduardo\n",
            "Ester\n"
          ]
        }
      ]
    },
    {
      "cell_type": "code",
      "source": [
        "pesos = [87, 35, 90, 70, 96, 67]\n",
        "alturas = [1.85, 1.41, 1.75, 1.70, 1.82, 1.74]"
      ],
      "metadata": {
        "id": "jHIsPwUimQc6"
      },
      "execution_count": null,
      "outputs": []
    },
    {
      "cell_type": "code",
      "source": [
        "for numero in range(6):\n",
        "  print(numero)"
      ],
      "metadata": {
        "colab": {
          "base_uri": "https://localhost:8080/"
        },
        "id": "-JSPvI9gnDVg",
        "outputId": "eca5d000-2423-4d3f-ca02-721e78fdc933"
      },
      "execution_count": null,
      "outputs": [
        {
          "output_type": "stream",
          "name": "stdout",
          "text": [
            "0\n",
            "1\n",
            "2\n",
            "3\n",
            "4\n",
            "5\n"
          ]
        }
      ]
    },
    {
      "cell_type": "code",
      "source": [
        "'''\n",
        "suponha que você deseja criar uma lista de imc relaciocionando\n",
        "os pesos com suas respectivas alturas\n",
        "'''\n",
        "imc = []\n",
        "for index in range(len(pesos)):\n",
        "  imc.append(round(pesos[index]/alturas[index]**2,2))\n",
        "print(imc)"
      ],
      "metadata": {
        "colab": {
          "base_uri": "https://localhost:8080/"
        },
        "id": "YXCsiovvmmgc",
        "outputId": "b46762b6-09ad-48e6-ea01-626cff61c29c"
      },
      "execution_count": null,
      "outputs": [
        {
          "output_type": "stream",
          "name": "stdout",
          "text": [
            "[25.42, 17.6, 29.39, 24.22, 28.98, 22.13]\n"
          ]
        }
      ]
    },
    {
      "cell_type": "markdown",
      "source": [
        "## 5.3 - While"
      ],
      "metadata": {
        "id": "dfPq7TmOqZ4P"
      }
    },
    {
      "cell_type": "code",
      "source": [
        "'''\n",
        "Imagine que você deseja criar uma lista que receba do usuário uma quantidade\n",
        "de notas determinada pelo usuário e armazena cada nota em uma lista e ao final\n",
        "exiba a média aritmética\n",
        "'''\n",
        "n = int(input('Informe a quantidade de notas para calcular a média: '))\n",
        "notas = []\n",
        "c = 0\n",
        "while c < n:\n",
        "  notas.append(float(input(f'Informa a {c+1}ª nota: ')))\n",
        "  c += 1\n",
        "media = sum(notas)/n\n",
        "print(f'A média é {media:.2f}')"
      ],
      "metadata": {
        "colab": {
          "base_uri": "https://localhost:8080/"
        },
        "id": "ddKM9B3Cqm_t",
        "outputId": "131b643b-350b-430e-fc91-3d85082a56c5"
      },
      "execution_count": null,
      "outputs": [
        {
          "output_type": "stream",
          "name": "stdout",
          "text": [
            "Informe a quantidade de notas para calcular a média: 2\n",
            "Informa a 1ª nota: 5\n",
            "Informa a 2ª nota: 8\n",
            "A média é 6.5\n"
          ]
        }
      ]
    },
    {
      "cell_type": "code",
      "source": [
        "# Alternativa\n",
        "'''\n",
        "Imagine que você deseja criar uma lista que receba do usuário uma quantidade\n",
        "de notas determinada pelo usuário e armazena cada nota em uma lista e ao final\n",
        "exiba a média aritmética\n",
        "'''\n",
        "notas = input('Informe as notas separadas por espaços: ')\n",
        "notas = notas.split()\n",
        "for i in range(len(notas)):\n",
        "  notas[i] = float(notas[i])\n",
        "media = sum(notas)/len(notas)\n",
        "print(f'A média é {media:.2f}')"
      ],
      "metadata": {
        "colab": {
          "base_uri": "https://localhost:8080/"
        },
        "id": "E5zyogSAt-of",
        "outputId": "d52ca1eb-91b9-4a8f-f94d-ad6fcb28a2b2"
      },
      "execution_count": null,
      "outputs": [
        {
          "output_type": "stream",
          "name": "stdout",
          "text": [
            "Informe as notas separadas por espaços: 10 8\n",
            "A média é 9.00\n"
          ]
        }
      ]
    }
  ]
}
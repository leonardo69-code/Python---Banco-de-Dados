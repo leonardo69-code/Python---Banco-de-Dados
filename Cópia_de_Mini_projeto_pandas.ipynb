{
  "nbformat": 4,
  "nbformat_minor": 0,
  "metadata": {
    "colab": {
      "provenance": [],
      "include_colab_link": true
    },
    "kernelspec": {
      "name": "python3",
      "display_name": "Python 3"
    },
    "language_info": {
      "name": "python"
    }
  },
  "cells": [
    {
      "cell_type": "markdown",
      "metadata": {
        "id": "view-in-github",
        "colab_type": "text"
      },
      "source": [
        "<a href=\"https://colab.research.google.com/github/leonardo69-code/Python---Banco-de-Dados/blob/main/C%C3%B3pia_de_Mini_projeto_pandas.ipynb\" target=\"_parent\"><img src=\"https://colab.research.google.com/assets/colab-badge.svg\" alt=\"Open In Colab\"/></a>"
      ]
    },
    {
      "cell_type": "code",
      "execution_count": null,
      "metadata": {
        "id": "iaSrr7qFyXdC"
      },
      "outputs": [],
      "source": [
        "'''\n",
        "Você recebeu uma base de dados com informações de funcionários.\n",
        "Sua tarefa é responder às seguintes perguntas utilizando a biblioteca pandas:\n",
        "\n",
        "01 - Quantos registros existem na base de dados?\n",
        "02 - Quantos registros têm informações completas (sem valores ausentes)?\n",
        "03 - Substitua os valores ausentes na coluna \"Salário\" pela média dos salários\n",
        "      e exiba a nova média.\n",
        "04 - Substitua todos os valores \"TI\" na coluna \"Departamento\" por\n",
        "     \"Tecnologia da Informação\".\n",
        "05 - Qual é o salário mais alto e quem o recebe?\n",
        "06 - Quantos funcionários estão no departamento de Marketing?\n",
        "07 - Qual é a idade média dos funcionários por departamento?\n",
        "08 - Liste os cargos únicos presentes na base.\n",
        "09 - Crie uma nova coluna chamada \"Tempo na Empresa\" que calcula o tempo de\n",
        "     trabalho com base na data de contratação.\n",
        "10 - Liste os 5 funcionários com mais tempo de empresa.\n",
        "11 - Quantos funcionários têm desempenho avaliado acima de 8?\n",
        "12 - Qual é o salário total por departamento?\n",
        "13 - Liste os 5 funcionários mais jovens.\n",
        "14 - Existe algum registro sem salário? Liste-os.\n",
        "15 - Utilize a função apply para criar uma nova coluna \"Categoria de Salário\",\n",
        "     classificando os funcionários como \"Baixo\" (salário < 3000), \"Médio\"\n",
        "     (3000 ≤ salário ≤ 7000) e \"Alto\" (salário > 7000).\n",
        "16 - Utilize a função map para criar uma nova coluna chamada\n",
        "     \"Desempenho Simplificado\", substituindo a \"Avaliação de Desempenho\" em\n",
        "     uma escala simples: \"Baixo\" (1-3), \"Médio\" (4-7) e \"Alto\" (8-10).\n",
        "17 - Utilize uma função lambda para criar uma nova coluna \"Idade em 5 Anos\",\n",
        "     que adiciona 5 anos à idade atual dos funcionários.\n",
        "18 - Quantos funcionários estão na categoria de salário \"Alto\"?\n",
        "19 - Use dropna para excluir registros com valores ausentes e salve o\n",
        "     DataFrame limpo em um novo arquivo CSV.\n",
        "20 - Faça o casting da coluna \"Avaliação de Desempenho\" para o tipo inteiro e\n",
        "     exiba o DataFrame.\n",
        "'''"
      ]
    },
    {
      "cell_type": "code",
      "source": [
        "import pandas as pd"
      ],
      "metadata": {
        "id": "s-ZC4H2bzAiD"
      },
      "execution_count": 1,
      "outputs": []
    },
    {
      "cell_type": "code",
      "source": [
        "df = pd.read_csv('https://docs.google.com/spreadsheets/d/e/2PACX-1vSpCW9yMoUMQ4tknj5Lg_TYVfIC3P9KoVPPqlJKsBu2HzGaC579yCp9Ohxni2ncY-xyLfugXan9K6yf/pub?gid=636707205&single=true&output=csv')\n",
        "display(df.head(2))"
      ],
      "metadata": {
        "colab": {
          "base_uri": "https://localhost:8080/",
          "height": 112
        },
        "id": "aGIhWlFFzDmp",
        "outputId": "1b38b74e-0706-4b0f-c3bb-a3e04a6040e0"
      },
      "execution_count": 2,
      "outputs": [
        {
          "output_type": "display_data",
          "data": {
            "text/plain": [
              "   ID      Nome  Idade  Salário     Cargo Departamento Data de Contratação  \\\n",
              "0   1      Juan   42.0  9276.79  Florista   Financeiro          2024-03-01   \n",
              "1   2  Isabelly   65.0      NaN       NaN    Operações          2023-04-04   \n",
              "\n",
              "   Avaliação de Desempenho  \n",
              "0                      3.6  \n",
              "1                      6.3  "
            ],
            "text/html": [
              "\n",
              "  <div id=\"df-3f518b31-0003-4e0b-a041-0b2556d93465\" class=\"colab-df-container\">\n",
              "    <div>\n",
              "<style scoped>\n",
              "    .dataframe tbody tr th:only-of-type {\n",
              "        vertical-align: middle;\n",
              "    }\n",
              "\n",
              "    .dataframe tbody tr th {\n",
              "        vertical-align: top;\n",
              "    }\n",
              "\n",
              "    .dataframe thead th {\n",
              "        text-align: right;\n",
              "    }\n",
              "</style>\n",
              "<table border=\"1\" class=\"dataframe\">\n",
              "  <thead>\n",
              "    <tr style=\"text-align: right;\">\n",
              "      <th></th>\n",
              "      <th>ID</th>\n",
              "      <th>Nome</th>\n",
              "      <th>Idade</th>\n",
              "      <th>Salário</th>\n",
              "      <th>Cargo</th>\n",
              "      <th>Departamento</th>\n",
              "      <th>Data de Contratação</th>\n",
              "      <th>Avaliação de Desempenho</th>\n",
              "    </tr>\n",
              "  </thead>\n",
              "  <tbody>\n",
              "    <tr>\n",
              "      <th>0</th>\n",
              "      <td>1</td>\n",
              "      <td>Juan</td>\n",
              "      <td>42.0</td>\n",
              "      <td>9276.79</td>\n",
              "      <td>Florista</td>\n",
              "      <td>Financeiro</td>\n",
              "      <td>2024-03-01</td>\n",
              "      <td>3.6</td>\n",
              "    </tr>\n",
              "    <tr>\n",
              "      <th>1</th>\n",
              "      <td>2</td>\n",
              "      <td>Isabelly</td>\n",
              "      <td>65.0</td>\n",
              "      <td>NaN</td>\n",
              "      <td>NaN</td>\n",
              "      <td>Operações</td>\n",
              "      <td>2023-04-04</td>\n",
              "      <td>6.3</td>\n",
              "    </tr>\n",
              "  </tbody>\n",
              "</table>\n",
              "</div>\n",
              "    <div class=\"colab-df-buttons\">\n",
              "\n",
              "  <div class=\"colab-df-container\">\n",
              "    <button class=\"colab-df-convert\" onclick=\"convertToInteractive('df-3f518b31-0003-4e0b-a041-0b2556d93465')\"\n",
              "            title=\"Convert this dataframe to an interactive table.\"\n",
              "            style=\"display:none;\">\n",
              "\n",
              "  <svg xmlns=\"http://www.w3.org/2000/svg\" height=\"24px\" viewBox=\"0 -960 960 960\">\n",
              "    <path d=\"M120-120v-720h720v720H120Zm60-500h600v-160H180v160Zm220 220h160v-160H400v160Zm0 220h160v-160H400v160ZM180-400h160v-160H180v160Zm440 0h160v-160H620v160ZM180-180h160v-160H180v160Zm440 0h160v-160H620v160Z\"/>\n",
              "  </svg>\n",
              "    </button>\n",
              "\n",
              "  <style>\n",
              "    .colab-df-container {\n",
              "      display:flex;\n",
              "      gap: 12px;\n",
              "    }\n",
              "\n",
              "    .colab-df-convert {\n",
              "      background-color: #E8F0FE;\n",
              "      border: none;\n",
              "      border-radius: 50%;\n",
              "      cursor: pointer;\n",
              "      display: none;\n",
              "      fill: #1967D2;\n",
              "      height: 32px;\n",
              "      padding: 0 0 0 0;\n",
              "      width: 32px;\n",
              "    }\n",
              "\n",
              "    .colab-df-convert:hover {\n",
              "      background-color: #E2EBFA;\n",
              "      box-shadow: 0px 1px 2px rgba(60, 64, 67, 0.3), 0px 1px 3px 1px rgba(60, 64, 67, 0.15);\n",
              "      fill: #174EA6;\n",
              "    }\n",
              "\n",
              "    .colab-df-buttons div {\n",
              "      margin-bottom: 4px;\n",
              "    }\n",
              "\n",
              "    [theme=dark] .colab-df-convert {\n",
              "      background-color: #3B4455;\n",
              "      fill: #D2E3FC;\n",
              "    }\n",
              "\n",
              "    [theme=dark] .colab-df-convert:hover {\n",
              "      background-color: #434B5C;\n",
              "      box-shadow: 0px 1px 3px 1px rgba(0, 0, 0, 0.15);\n",
              "      filter: drop-shadow(0px 1px 2px rgba(0, 0, 0, 0.3));\n",
              "      fill: #FFFFFF;\n",
              "    }\n",
              "  </style>\n",
              "\n",
              "    <script>\n",
              "      const buttonEl =\n",
              "        document.querySelector('#df-3f518b31-0003-4e0b-a041-0b2556d93465 button.colab-df-convert');\n",
              "      buttonEl.style.display =\n",
              "        google.colab.kernel.accessAllowed ? 'block' : 'none';\n",
              "\n",
              "      async function convertToInteractive(key) {\n",
              "        const element = document.querySelector('#df-3f518b31-0003-4e0b-a041-0b2556d93465');\n",
              "        const dataTable =\n",
              "          await google.colab.kernel.invokeFunction('convertToInteractive',\n",
              "                                                    [key], {});\n",
              "        if (!dataTable) return;\n",
              "\n",
              "        const docLinkHtml = 'Like what you see? Visit the ' +\n",
              "          '<a target=\"_blank\" href=https://colab.research.google.com/notebooks/data_table.ipynb>data table notebook</a>'\n",
              "          + ' to learn more about interactive tables.';\n",
              "        element.innerHTML = '';\n",
              "        dataTable['output_type'] = 'display_data';\n",
              "        await google.colab.output.renderOutput(dataTable, element);\n",
              "        const docLink = document.createElement('div');\n",
              "        docLink.innerHTML = docLinkHtml;\n",
              "        element.appendChild(docLink);\n",
              "      }\n",
              "    </script>\n",
              "  </div>\n",
              "\n",
              "\n",
              "<div id=\"df-20d4513f-7612-429b-b674-e290daba5087\">\n",
              "  <button class=\"colab-df-quickchart\" onclick=\"quickchart('df-20d4513f-7612-429b-b674-e290daba5087')\"\n",
              "            title=\"Suggest charts\"\n",
              "            style=\"display:none;\">\n",
              "\n",
              "<svg xmlns=\"http://www.w3.org/2000/svg\" height=\"24px\"viewBox=\"0 0 24 24\"\n",
              "     width=\"24px\">\n",
              "    <g>\n",
              "        <path d=\"M19 3H5c-1.1 0-2 .9-2 2v14c0 1.1.9 2 2 2h14c1.1 0 2-.9 2-2V5c0-1.1-.9-2-2-2zM9 17H7v-7h2v7zm4 0h-2V7h2v10zm4 0h-2v-4h2v4z\"/>\n",
              "    </g>\n",
              "</svg>\n",
              "  </button>\n",
              "\n",
              "<style>\n",
              "  .colab-df-quickchart {\n",
              "      --bg-color: #E8F0FE;\n",
              "      --fill-color: #1967D2;\n",
              "      --hover-bg-color: #E2EBFA;\n",
              "      --hover-fill-color: #174EA6;\n",
              "      --disabled-fill-color: #AAA;\n",
              "      --disabled-bg-color: #DDD;\n",
              "  }\n",
              "\n",
              "  [theme=dark] .colab-df-quickchart {\n",
              "      --bg-color: #3B4455;\n",
              "      --fill-color: #D2E3FC;\n",
              "      --hover-bg-color: #434B5C;\n",
              "      --hover-fill-color: #FFFFFF;\n",
              "      --disabled-bg-color: #3B4455;\n",
              "      --disabled-fill-color: #666;\n",
              "  }\n",
              "\n",
              "  .colab-df-quickchart {\n",
              "    background-color: var(--bg-color);\n",
              "    border: none;\n",
              "    border-radius: 50%;\n",
              "    cursor: pointer;\n",
              "    display: none;\n",
              "    fill: var(--fill-color);\n",
              "    height: 32px;\n",
              "    padding: 0;\n",
              "    width: 32px;\n",
              "  }\n",
              "\n",
              "  .colab-df-quickchart:hover {\n",
              "    background-color: var(--hover-bg-color);\n",
              "    box-shadow: 0 1px 2px rgba(60, 64, 67, 0.3), 0 1px 3px 1px rgba(60, 64, 67, 0.15);\n",
              "    fill: var(--button-hover-fill-color);\n",
              "  }\n",
              "\n",
              "  .colab-df-quickchart-complete:disabled,\n",
              "  .colab-df-quickchart-complete:disabled:hover {\n",
              "    background-color: var(--disabled-bg-color);\n",
              "    fill: var(--disabled-fill-color);\n",
              "    box-shadow: none;\n",
              "  }\n",
              "\n",
              "  .colab-df-spinner {\n",
              "    border: 2px solid var(--fill-color);\n",
              "    border-color: transparent;\n",
              "    border-bottom-color: var(--fill-color);\n",
              "    animation:\n",
              "      spin 1s steps(1) infinite;\n",
              "  }\n",
              "\n",
              "  @keyframes spin {\n",
              "    0% {\n",
              "      border-color: transparent;\n",
              "      border-bottom-color: var(--fill-color);\n",
              "      border-left-color: var(--fill-color);\n",
              "    }\n",
              "    20% {\n",
              "      border-color: transparent;\n",
              "      border-left-color: var(--fill-color);\n",
              "      border-top-color: var(--fill-color);\n",
              "    }\n",
              "    30% {\n",
              "      border-color: transparent;\n",
              "      border-left-color: var(--fill-color);\n",
              "      border-top-color: var(--fill-color);\n",
              "      border-right-color: var(--fill-color);\n",
              "    }\n",
              "    40% {\n",
              "      border-color: transparent;\n",
              "      border-right-color: var(--fill-color);\n",
              "      border-top-color: var(--fill-color);\n",
              "    }\n",
              "    60% {\n",
              "      border-color: transparent;\n",
              "      border-right-color: var(--fill-color);\n",
              "    }\n",
              "    80% {\n",
              "      border-color: transparent;\n",
              "      border-right-color: var(--fill-color);\n",
              "      border-bottom-color: var(--fill-color);\n",
              "    }\n",
              "    90% {\n",
              "      border-color: transparent;\n",
              "      border-bottom-color: var(--fill-color);\n",
              "    }\n",
              "  }\n",
              "</style>\n",
              "\n",
              "  <script>\n",
              "    async function quickchart(key) {\n",
              "      const quickchartButtonEl =\n",
              "        document.querySelector('#' + key + ' button');\n",
              "      quickchartButtonEl.disabled = true;  // To prevent multiple clicks.\n",
              "      quickchartButtonEl.classList.add('colab-df-spinner');\n",
              "      try {\n",
              "        const charts = await google.colab.kernel.invokeFunction(\n",
              "            'suggestCharts', [key], {});\n",
              "      } catch (error) {\n",
              "        console.error('Error during call to suggestCharts:', error);\n",
              "      }\n",
              "      quickchartButtonEl.classList.remove('colab-df-spinner');\n",
              "      quickchartButtonEl.classList.add('colab-df-quickchart-complete');\n",
              "    }\n",
              "    (() => {\n",
              "      let quickchartButtonEl =\n",
              "        document.querySelector('#df-20d4513f-7612-429b-b674-e290daba5087 button');\n",
              "      quickchartButtonEl.style.display =\n",
              "        google.colab.kernel.accessAllowed ? 'block' : 'none';\n",
              "    })();\n",
              "  </script>\n",
              "</div>\n",
              "\n",
              "    </div>\n",
              "  </div>\n"
            ],
            "application/vnd.google.colaboratory.intrinsic+json": {
              "type": "dataframe",
              "summary": "{\n  \"name\": \"display(df\",\n  \"rows\": 2,\n  \"fields\": [\n    {\n      \"column\": \"ID\",\n      \"properties\": {\n        \"dtype\": \"number\",\n        \"std\": 0,\n        \"min\": 1,\n        \"max\": 2,\n        \"num_unique_values\": 2,\n        \"samples\": [\n          2,\n          1\n        ],\n        \"semantic_type\": \"\",\n        \"description\": \"\"\n      }\n    },\n    {\n      \"column\": \"Nome\",\n      \"properties\": {\n        \"dtype\": \"string\",\n        \"num_unique_values\": 2,\n        \"samples\": [\n          \"Isabelly\",\n          \"Juan\"\n        ],\n        \"semantic_type\": \"\",\n        \"description\": \"\"\n      }\n    },\n    {\n      \"column\": \"Idade\",\n      \"properties\": {\n        \"dtype\": \"number\",\n        \"std\": 16.263455967290593,\n        \"min\": 42.0,\n        \"max\": 65.0,\n        \"num_unique_values\": 2,\n        \"samples\": [\n          65.0,\n          42.0\n        ],\n        \"semantic_type\": \"\",\n        \"description\": \"\"\n      }\n    },\n    {\n      \"column\": \"Sal\\u00e1rio\",\n      \"properties\": {\n        \"dtype\": \"number\",\n        \"std\": null,\n        \"min\": 9276.79,\n        \"max\": 9276.79,\n        \"num_unique_values\": 1,\n        \"samples\": [\n          9276.79\n        ],\n        \"semantic_type\": \"\",\n        \"description\": \"\"\n      }\n    },\n    {\n      \"column\": \"Cargo\",\n      \"properties\": {\n        \"dtype\": \"string\",\n        \"num_unique_values\": 1,\n        \"samples\": [\n          \"Florista\"\n        ],\n        \"semantic_type\": \"\",\n        \"description\": \"\"\n      }\n    },\n    {\n      \"column\": \"Departamento\",\n      \"properties\": {\n        \"dtype\": \"string\",\n        \"num_unique_values\": 2,\n        \"samples\": [\n          \"Opera\\u00e7\\u00f5es\"\n        ],\n        \"semantic_type\": \"\",\n        \"description\": \"\"\n      }\n    },\n    {\n      \"column\": \"Data de Contrata\\u00e7\\u00e3o\",\n      \"properties\": {\n        \"dtype\": \"object\",\n        \"num_unique_values\": 2,\n        \"samples\": [\n          \"2023-04-04\"\n        ],\n        \"semantic_type\": \"\",\n        \"description\": \"\"\n      }\n    },\n    {\n      \"column\": \"Avalia\\u00e7\\u00e3o de Desempenho\",\n      \"properties\": {\n        \"dtype\": \"number\",\n        \"std\": 1.909188309203678,\n        \"min\": 3.6,\n        \"max\": 6.3,\n        \"num_unique_values\": 2,\n        \"samples\": [\n          6.3\n        ],\n        \"semantic_type\": \"\",\n        \"description\": \"\"\n      }\n    }\n  ]\n}"
            }
          },
          "metadata": {}
        }
      ]
    },
    {
      "cell_type": "code",
      "source": [
        "import pandas as pd\n",
        "\n",
        "# Dados fornecidos\n",
        "data = \"\"\"\n",
        "ID,Nome,Idade,Salário,Cargo,Departamento,Data de Contratação,Avaliação de Desempenho\n",
        "1,Juan,42.0,9276.79,Florista,Financeiro,2024-03-01,3.6\n",
        "2,Isabelly,65.0,,,Operações,2023-04-04,6.3\n",
        "... (demais linhas) ...\n",
        "\"\"\"\n",
        "\n",
        "# Carregar os dados em um DataFrame\n",
        "from io import StringIO\n",
        "df = pd.read_csv(StringIO(data))"
      ],
      "metadata": {
        "id": "IcGNwQfwvKy-"
      },
      "execution_count": 3,
      "outputs": []
    },
    {
      "cell_type": "code",
      "source": [
        "total_registros = len(df)\n",
        "print(f\"Total de registros: {total_registros}\")"
      ],
      "metadata": {
        "colab": {
          "base_uri": "https://localhost:8080/"
        },
        "id": "TdQjBwXQvPlc",
        "outputId": "cf156077-2875-4051-9b6b-b9b365e4c8e3"
      },
      "execution_count": 4,
      "outputs": [
        {
          "output_type": "stream",
          "name": "stdout",
          "text": [
            "Total de registros: 3\n"
          ]
        }
      ]
    },
    {
      "cell_type": "code",
      "source": [
        "registros_completos = len(df.dropna())\n",
        "print(f\"Registros com informações completas: {registros_completos}\")"
      ],
      "metadata": {
        "colab": {
          "base_uri": "https://localhost:8080/"
        },
        "id": "F4QLY6zFvTWW",
        "outputId": "b9e4a4eb-8156-454a-84d8-c55cbc378443"
      },
      "execution_count": 5,
      "outputs": [
        {
          "output_type": "stream",
          "name": "stdout",
          "text": [
            "Registros com informações completas: 1\n"
          ]
        }
      ]
    },
    {
      "cell_type": "code",
      "source": [
        "media_salarios = df['Salário'].mean(skipna=True)\n",
        "df['Salário'].fillna(media_salarios, inplace=True)\n",
        "nova_media = df['Salário'].mean()\n",
        "print(f\"Nova média salarial: {nova_media:.2f}\")"
      ],
      "metadata": {
        "colab": {
          "base_uri": "https://localhost:8080/"
        },
        "id": "1K9jZhRAvXKV",
        "outputId": "f9483863-412d-4768-ebaf-d5af0e59981a"
      },
      "execution_count": 6,
      "outputs": [
        {
          "output_type": "stream",
          "name": "stdout",
          "text": [
            "Nova média salarial: 9276.79\n"
          ]
        },
        {
          "output_type": "stream",
          "name": "stderr",
          "text": [
            "<ipython-input-6-3209e6356598>:2: FutureWarning: A value is trying to be set on a copy of a DataFrame or Series through chained assignment using an inplace method.\n",
            "The behavior will change in pandas 3.0. This inplace method will never work because the intermediate object on which we are setting values always behaves as a copy.\n",
            "\n",
            "For example, when doing 'df[col].method(value, inplace=True)', try using 'df.method({col: value}, inplace=True)' or df[col] = df[col].method(value) instead, to perform the operation inplace on the original object.\n",
            "\n",
            "\n",
            "  df['Salário'].fillna(media_salarios, inplace=True)\n"
          ]
        }
      ]
    },
    {
      "cell_type": "code",
      "source": [
        "df['Departamento'].replace('TI', 'Tecnologia da Informação', inplace=True)"
      ],
      "metadata": {
        "colab": {
          "base_uri": "https://localhost:8080/"
        },
        "id": "0SoaCEArvb9I",
        "outputId": "9685a4ff-1dfd-4dac-f1bb-293b8b924d00"
      },
      "execution_count": 7,
      "outputs": [
        {
          "output_type": "stream",
          "name": "stderr",
          "text": [
            "<ipython-input-7-773ab840b6a2>:1: FutureWarning: A value is trying to be set on a copy of a DataFrame or Series through chained assignment using an inplace method.\n",
            "The behavior will change in pandas 3.0. This inplace method will never work because the intermediate object on which we are setting values always behaves as a copy.\n",
            "\n",
            "For example, when doing 'df[col].method(value, inplace=True)', try using 'df.method({col: value}, inplace=True)' or df[col] = df[col].method(value) instead, to perform the operation inplace on the original object.\n",
            "\n",
            "\n",
            "  df['Departamento'].replace('TI', 'Tecnologia da Informação', inplace=True)\n"
          ]
        }
      ]
    },
    {
      "cell_type": "code",
      "source": [
        "salario_mais_alto = df['Salário'].max()\n",
        "funcionario_mais_rico = df[df['Salário'] == salario_mais_alto][['Nome', 'Cargo']]\n",
        "print(funcionario_mais_rico)"
      ],
      "metadata": {
        "colab": {
          "base_uri": "https://localhost:8080/"
        },
        "id": "qkio4uwGvgKT",
        "outputId": "b4e9313e-0f70-41f0-a709-bc0745de5ed7"
      },
      "execution_count": 8,
      "outputs": [
        {
          "output_type": "stream",
          "name": "stdout",
          "text": [
            "       Nome     Cargo\n",
            "0      Juan  Florista\n",
            "1  Isabelly       NaN\n",
            "2       NaN       NaN\n"
          ]
        }
      ]
    },
    {
      "cell_type": "code",
      "source": [
        "marketing_count = df[df['Departamento'] == 'Marketing'].shape[0]\n",
        "print(f\"Funcionários no Marketing: {marketing_count}\")\n"
      ],
      "metadata": {
        "colab": {
          "base_uri": "https://localhost:8080/"
        },
        "id": "BZ6BEmy-vlHE",
        "outputId": "f93e77f2-cb76-4b68-cfce-49f0040a55df"
      },
      "execution_count": 9,
      "outputs": [
        {
          "output_type": "stream",
          "name": "stdout",
          "text": [
            "Funcionários no Marketing: 0\n"
          ]
        }
      ]
    },
    {
      "cell_type": "code",
      "source": [
        "idade_media = df.groupby('Departamento')['Idade'].mean()\n",
        "print(idade_media)"
      ],
      "metadata": {
        "colab": {
          "base_uri": "https://localhost:8080/"
        },
        "id": "L2NbLCzNvoTT",
        "outputId": "5db0370e-50e4-4f45-a996-9c90429a1c8c"
      },
      "execution_count": 10,
      "outputs": [
        {
          "output_type": "stream",
          "name": "stdout",
          "text": [
            "Departamento\n",
            "Financeiro    42.0\n",
            "Operações     65.0\n",
            "Name: Idade, dtype: float64\n"
          ]
        }
      ]
    },
    {
      "cell_type": "code",
      "source": [
        "cargos_unicos = df['Cargo'].unique()\n",
        "print(cargos_unicos)"
      ],
      "metadata": {
        "colab": {
          "base_uri": "https://localhost:8080/"
        },
        "id": "BgP_B-Gjvsbh",
        "outputId": "6d31adb6-d806-4c77-8cab-b3d114f6ca88"
      },
      "execution_count": 11,
      "outputs": [
        {
          "output_type": "stream",
          "name": "stdout",
          "text": [
            "['Florista' nan]\n"
          ]
        }
      ]
    },
    {
      "cell_type": "code",
      "source": [
        "df['Data de Contratação'] = pd.to_datetime(df['Data de Contratação'], errors='coerce')\n",
        "df['Tempo na Empresa'] = (pd.Timestamp.now() - df['Data de Contratação']).dt.days // 365"
      ],
      "metadata": {
        "id": "y3Hfd627vvvJ"
      },
      "execution_count": 12,
      "outputs": []
    },
    {
      "cell_type": "code",
      "source": [
        "mais_tempo = df.nlargest(5, 'Tempo na Empresa')[['Nome', 'Tempo na Empresa']]\n",
        "print(mais_tempo)"
      ],
      "metadata": {
        "colab": {
          "base_uri": "https://localhost:8080/"
        },
        "id": "yLjWFLwRvzi7",
        "outputId": "abfa4f63-ef73-47cb-9328-fcb8a04e7717"
      },
      "execution_count": 13,
      "outputs": [
        {
          "output_type": "stream",
          "name": "stdout",
          "text": [
            "       Nome  Tempo na Empresa\n",
            "1  Isabelly               1.0\n",
            "0      Juan               0.0\n",
            "2       NaN               NaN\n"
          ]
        }
      ]
    },
    {
      "cell_type": "code",
      "source": [
        "desempenho_acima_8 = df[df['Avaliação de Desempenho'] > 8].shape[0]\n",
        "print(f\"Funcionários com desempenho acima de 8: {desempenho_acima_8}\")"
      ],
      "metadata": {
        "colab": {
          "base_uri": "https://localhost:8080/"
        },
        "id": "_SDz1HMlv220",
        "outputId": "2fd728cc-e2e3-4a3a-88ea-725f4715ae25"
      },
      "execution_count": 14,
      "outputs": [
        {
          "output_type": "stream",
          "name": "stdout",
          "text": [
            "Funcionários com desempenho acima de 8: 0\n"
          ]
        }
      ]
    },
    {
      "cell_type": "code",
      "source": [
        "salario_total_departamento = df.groupby('Departamento')['Salário'].sum()\n",
        "print(salario_total_departamento)"
      ],
      "metadata": {
        "colab": {
          "base_uri": "https://localhost:8080/"
        },
        "id": "qknO1ZkNv8HV",
        "outputId": "d32c2578-b22b-488d-84dd-05aa2f190fc9"
      },
      "execution_count": 15,
      "outputs": [
        {
          "output_type": "stream",
          "name": "stdout",
          "text": [
            "Departamento\n",
            "Financeiro    9276.79\n",
            "Operações     9276.79\n",
            "Name: Salário, dtype: float64\n"
          ]
        }
      ]
    },
    {
      "cell_type": "code",
      "source": [
        "mais_jovens = df.nsmallest(5, 'Idade')[['Nome', 'Idade']]\n",
        "print(mais_jovens)"
      ],
      "metadata": {
        "colab": {
          "base_uri": "https://localhost:8080/"
        },
        "id": "Hi6dx0izv-1_",
        "outputId": "2dab7696-5d4f-49d5-d0a5-7ef24ca466ae"
      },
      "execution_count": 16,
      "outputs": [
        {
          "output_type": "stream",
          "name": "stdout",
          "text": [
            "       Nome  Idade\n",
            "0      Juan   42.0\n",
            "1  Isabelly   65.0\n",
            "2       NaN    NaN\n"
          ]
        }
      ]
    },
    {
      "cell_type": "code",
      "source": [
        "sem_salario = df[df['Salário'].isna()]\n",
        "print(sem_salario)"
      ],
      "metadata": {
        "colab": {
          "base_uri": "https://localhost:8080/"
        },
        "id": "3eebc_KYwB7g",
        "outputId": "96569105-7f67-4146-ba75-e00b298a5f3c"
      },
      "execution_count": 17,
      "outputs": [
        {
          "output_type": "stream",
          "name": "stdout",
          "text": [
            "Empty DataFrame\n",
            "Columns: [ID, Nome, Idade, Salário, Cargo, Departamento, Data de Contratação, Avaliação de Desempenho, Tempo na Empresa]\n",
            "Index: []\n"
          ]
        }
      ]
    },
    {
      "cell_type": "code",
      "source": [
        "df['Categoria de Salário'] = df['Salário'].apply(\n",
        "    lambda x: 'Baixo' if x < 3000 else 'Médio' if x <= 7000 else 'Alto'\n",
        ")"
      ],
      "metadata": {
        "id": "_HVL4AxrwFpn"
      },
      "execution_count": 18,
      "outputs": []
    },
    {
      "cell_type": "code",
      "source": [
        "df['Desempenho Simplificado'] = df['Avaliação de Desempenho'].map(\n",
        "    lambda x: 'Baixo' if x <= 3 else 'Médio' if x <= 7 else 'Alto'\n",
        ")"
      ],
      "metadata": {
        "id": "GkNfgNuowI2o"
      },
      "execution_count": 19,
      "outputs": []
    },
    {
      "cell_type": "code",
      "source": [
        "df['Idade em 5 Anos'] = df['Idade'].apply(lambda x: x + 5 if pd.notnull(x) else x)"
      ],
      "metadata": {
        "id": "1l3AfHz9wNFd"
      },
      "execution_count": 20,
      "outputs": []
    },
    {
      "cell_type": "code",
      "source": [
        "salario_alto = df[df['Categoria de Salário'] == 'Alto'].shape[0]\n",
        "print(f\"Funcionários na categoria de salário 'Alto': {salario_alto}\")"
      ],
      "metadata": {
        "colab": {
          "base_uri": "https://localhost:8080/"
        },
        "id": "pJ0NeM3BwQWQ",
        "outputId": "2a051335-e657-44e7-84ab-f304b6c6be22"
      },
      "execution_count": 21,
      "outputs": [
        {
          "output_type": "stream",
          "name": "stdout",
          "text": [
            "Funcionários na categoria de salário 'Alto': 3\n"
          ]
        }
      ]
    },
    {
      "cell_type": "code",
      "source": [
        "df_limpo = df.dropna()\n",
        "df_limpo.to_csv('funcionarios_limpo.csv', index=False)"
      ],
      "metadata": {
        "id": "DdbN4xBMwT0d"
      },
      "execution_count": 22,
      "outputs": []
    },
    {
      "cell_type": "code",
      "source": [
        "# Preencher valores ausentes com a média da coluna\n",
        "df['Avaliação de Desempenho'].fillna(df['Avaliação de Desempenho'].mean(), inplace=True)\n",
        "\n",
        "# Converter para inteiro\n",
        "df['Avaliação de Desempenho'] = df['Avaliação de Desempenho'].astype(int)"
      ],
      "metadata": {
        "id": "FuGpaq9NwXZt"
      },
      "execution_count": 24,
      "outputs": []
    },
    {
      "cell_type": "code",
      "source": [
        "# Remover linhas com valores ausentes na coluna \"Avaliação de Desempenho\"\n",
        "df = df.dropna(subset=['Avaliação de Desempenho'])\n",
        "\n",
        "# Converter para inteiro\n",
        "df['Avaliação de Desempenho'] = df['Avaliação de Desempenho'].astype(int)"
      ],
      "metadata": {
        "id": "jLSKoDH0wlLp"
      },
      "execution_count": 25,
      "outputs": []
    },
    {
      "cell_type": "code",
      "source": [
        "df['Avaliação de Desempenho'] = df['Avaliação de Desempenho'].astype(int)"
      ],
      "metadata": {
        "id": "Pj5R3c_9wrrt"
      },
      "execution_count": 26,
      "outputs": []
    }
  ]
}
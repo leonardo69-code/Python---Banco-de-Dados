{
  "nbformat": 4,
  "nbformat_minor": 0,
  "metadata": {
    "colab": {
      "provenance": [],
      "include_colab_link": true
    },
    "kernelspec": {
      "name": "python3",
      "display_name": "Python 3"
    },
    "language_info": {
      "name": "python"
    }
  },
  "cells": [
    {
      "cell_type": "markdown",
      "metadata": {
        "id": "view-in-github",
        "colab_type": "text"
      },
      "source": [
        "<a href=\"https://colab.research.google.com/github/leonardo69-code/Python---Banco-de-Dados/blob/main/Lista_de_Exerc%C3%ADcios_de_Python_B%C3%A1sico_01.ipynb\" target=\"_parent\"><img src=\"https://colab.research.google.com/assets/colab-badge.svg\" alt=\"Open In Colab\"/></a>"
      ]
    },
    {
      "cell_type": "markdown",
      "source": [
        "# 1 - Variáveis e Tipos de Dados"
      ],
      "metadata": {
        "id": "uxGISqtR2yNT"
      }
    },
    {
      "cell_type": "code",
      "source": [],
      "metadata": {
        "id": "heSYp8aFSD0W"
      },
      "execution_count": null,
      "outputs": []
    },
    {
      "cell_type": "code",
      "execution_count": null,
      "metadata": {
        "id": "tLS0FEGj2rS7"
      },
      "outputs": [],
      "source": [
        "'''\n",
        "1.1. Crie variáveis para armazenar o nome, idade, peso e altura de uma pessoa.\n",
        "Imprima os valores e os tipos de dados dessas variáveis.\n",
        "'''"
      ]
    },
    {
      "cell_type": "code",
      "source": [
        "nome = \"Leonardo\"\n",
        "idade = 31\n",
        "peso = 70.5\n",
        "altura = 1.75\n",
        "print(\"Nome:\", nome, \"- Tipo:\", type(nome))\n",
        "print(\"Idade:\", idade, \"- Tipo:\", type(idade))\n",
        "print(\"Peso:\", peso, \"- Tipo:\", type(peso))\n",
        "print(\"Altura:\", altura, \"- Tipo:\", type(altura))"
      ],
      "metadata": {
        "id": "r2cYHjTLSGwW",
        "outputId": "06931cda-612b-4b98-f5d7-198cac2d97db",
        "colab": {
          "base_uri": "https://localhost:8080/"
        }
      },
      "execution_count": 1,
      "outputs": [
        {
          "output_type": "stream",
          "name": "stdout",
          "text": [
            "Nome: Leonardo - Tipo: <class 'str'>\n",
            "Idade: 31 - Tipo: <class 'int'>\n",
            "Peso: 70.5 - Tipo: <class 'float'>\n",
            "Altura: 1.75 - Tipo: <class 'float'>\n"
          ]
        }
      ]
    },
    {
      "cell_type": "code",
      "source": [
        "'''\n",
        "1.2. Atualize a variável de peso para um valor diferente e imprima o novo valor.\n",
        "'''"
      ],
      "metadata": {
        "id": "VFVgrodF27TT"
      },
      "execution_count": null,
      "outputs": []
    },
    {
      "cell_type": "code",
      "source": [
        "peso = 75.0\n",
        "print(\"Novo peso:\", peso)"
      ],
      "metadata": {
        "id": "4soPwakDSd-D",
        "outputId": "0b925cfe-80d1-4734-e5b6-bdcf037b5a93",
        "colab": {
          "base_uri": "https://localhost:8080/"
        }
      },
      "execution_count": 2,
      "outputs": [
        {
          "output_type": "stream",
          "name": "stdout",
          "text": [
            "Novo peso: 75.0\n"
          ]
        }
      ]
    },
    {
      "cell_type": "markdown",
      "source": [
        "# 2 - Operadores Matemáticos"
      ],
      "metadata": {
        "id": "RRRbkSkr3Ajw"
      }
    },
    {
      "cell_type": "code",
      "source": [
        "'''\n",
        "2.1. Crie uma variável a com valor 10 e uma variável b com valor 3. Realize as\n",
        "seguintes operações e imprima os resultados:\n",
        "Soma\n",
        "Subtração\n",
        "Multiplicação\n",
        "Divisão\n",
        "Parte inteira da divisão\n",
        "Resto da divisão\n",
        "Exponenciação\n",
        "'''"
      ],
      "metadata": {
        "id": "hHAztIDU3AJP"
      },
      "execution_count": null,
      "outputs": []
    },
    {
      "cell_type": "code",
      "source": [
        "a = 10\n",
        "b = 3"
      ],
      "metadata": {
        "id": "vwsYeEv_S5Fx"
      },
      "execution_count": 4,
      "outputs": []
    },
    {
      "cell_type": "code",
      "source": [
        "soma = a + b\n",
        "subtracao = a - b\n",
        "multiplicacao = a * b\n",
        "divisao = a / b\n",
        "parte_inteira_divisao = a // b\n",
        "resto_divisao = a % b\n",
        "exponenciacao = a ** b\n",
        "print(\"Soma:\", soma)\n",
        "print(\"Subtração:\", subtracao)\n",
        "print(\"Multiplicação:\", multiplicacao)\n",
        "print(\"Divisão:\", divisao)\n",
        "print(\"Parte inteira da divisão:\", parte_inteira_divisao)\n",
        "print(\"Resto da divisão:\", resto_divisao)\n",
        "print(\"Exponenciação:\", exponenciacao)"
      ],
      "metadata": {
        "id": "fHUBGOEGS-7T",
        "outputId": "284cb5e8-bf34-436b-ec5e-bf32e0e651c0",
        "colab": {
          "base_uri": "https://localhost:8080/"
        }
      },
      "execution_count": 5,
      "outputs": [
        {
          "output_type": "stream",
          "name": "stdout",
          "text": [
            "Soma: 13\n",
            "Subtração: 7\n",
            "Multiplicação: 30\n",
            "Divisão: 3.3333333333333335\n",
            "Parte inteira da divisão: 3\n",
            "Resto da divisão: 1\n",
            "Exponenciação: 1000\n"
          ]
        }
      ]
    },
    {
      "cell_type": "markdown",
      "source": [
        "# 3 - Entrada de Dados pelo Usuário\n"
      ],
      "metadata": {
        "id": "jWJt5Ep23OFd"
      }
    },
    {
      "cell_type": "code",
      "source": [
        "'''\n",
        "3.1. Peça ao usuário para digitar seu nome e armazene em uma variável. Imprima\n",
        "uma mensagem de boas-vindas usando o nome fornecido.\n",
        "'''"
      ],
      "metadata": {
        "id": "IiD6jUJh3eiD"
      },
      "execution_count": null,
      "outputs": []
    },
    {
      "cell_type": "code",
      "source": [
        "nome_usuario = input(\"Digite seu nome: \")\n",
        "print(f\"Bem-vindo(a), {nome_usuario}!\")"
      ],
      "metadata": {
        "id": "NPsyt4gmTL4C",
        "outputId": "348bf889-8f62-4e82-d30d-771f4b94799a",
        "colab": {
          "base_uri": "https://localhost:8080/"
        }
      },
      "execution_count": 6,
      "outputs": [
        {
          "output_type": "stream",
          "name": "stdout",
          "text": [
            "Digite seu nome: Leonardo\n",
            "Bem-vindo(a), Leonardo!\n"
          ]
        }
      ]
    },
    {
      "cell_type": "code",
      "source": [
        "'''\n",
        "3.2. Peça ao usuário para digitar sua idade, peso e altura. Calcule o IMC e\n",
        "imprima o resultado arredondado para três casas decimais.\n",
        "'''"
      ],
      "metadata": {
        "id": "Y4kz72aR3k8d"
      },
      "execution_count": null,
      "outputs": []
    },
    {
      "cell_type": "code",
      "source": [
        "idade = int(input(\"Digite sua idade: \"))\n",
        "peso = float(input(\"Digite seu peso (kg): \"))\n",
        "altura = float(input(\"Digite sua altura (m): \"))\n",
        "imc = peso / (altura ** 2)\n",
        "print(f\"Seu IMC é: {imc:.3f}\")"
      ],
      "metadata": {
        "id": "LualCTJ3Thsy",
        "outputId": "0a380480-8857-4f55-d9d6-a2c5074f899e",
        "colab": {
          "base_uri": "https://localhost:8080/"
        }
      },
      "execution_count": 7,
      "outputs": [
        {
          "output_type": "stream",
          "name": "stdout",
          "text": [
            "Digite sua idade: 31\n",
            "Digite seu peso (kg): 73\n",
            "Digite sua altura (m): 1.70\n",
            "Seu IMC é: 25.260\n"
          ]
        }
      ]
    },
    {
      "cell_type": "markdown",
      "source": [
        "# 4 - Função de Impressão"
      ],
      "metadata": {
        "id": "zqRV3Plv3pjL"
      }
    },
    {
      "cell_type": "code",
      "source": [
        "'''\n",
        "4.1. Peça ao usuário para digitar um número e imprima o número digitado.\n",
        "'''"
      ],
      "metadata": {
        "id": "N5AbRV3i3vYV"
      },
      "execution_count": null,
      "outputs": []
    },
    {
      "cell_type": "code",
      "source": [
        "numero = input(\"Digite um número: \")\n",
        "print(f\"Você digitou: {numero}\")"
      ],
      "metadata": {
        "id": "-_8b3DfpTwrL",
        "outputId": "483590c4-43f4-4201-89cb-bc6469997a01",
        "colab": {
          "base_uri": "https://localhost:8080/"
        }
      },
      "execution_count": 8,
      "outputs": [
        {
          "output_type": "stream",
          "name": "stdout",
          "text": [
            "Digite um número: 31\n",
            "Você digitou: 31\n"
          ]
        }
      ]
    },
    {
      "cell_type": "code",
      "source": [
        "'''\n",
        "4.2. Peça ao usuário para digitar dois números e imprima a soma deles.\n",
        "'''"
      ],
      "metadata": {
        "id": "qM2ocOFl3vpB"
      },
      "execution_count": null,
      "outputs": []
    },
    {
      "cell_type": "code",
      "source": [
        "numero1 = float(input(\"Digite o primeiro número: \"))\n",
        "numero2 = float(input(\"Digite o segundo número: \"))\n",
        "soma = numero1 + numero2\n",
        "print(f\"A soma dos números é: {soma}\")"
      ],
      "metadata": {
        "id": "t4mB0eRFT5cw",
        "outputId": "b589d737-4bdb-4d6e-8de7-ee37c781a3a7",
        "colab": {
          "base_uri": "https://localhost:8080/"
        }
      },
      "execution_count": 9,
      "outputs": [
        {
          "output_type": "stream",
          "name": "stdout",
          "text": [
            "Digite o primeiro número: 10\n",
            "Digite o segundo número: 32841\n",
            "A soma dos números é: 32851.0\n"
          ]
        }
      ]
    },
    {
      "cell_type": "markdown",
      "source": [
        "# 5 - Métodos de Strings"
      ],
      "metadata": {
        "id": "RWwlLaOu35jq"
      }
    },
    {
      "cell_type": "code",
      "source": [
        "'''\n",
        "5.1. Peça ao usuário para digitar um e-mail e verifique se o e-mail contém o\n",
        "caractere '@'. Imprima uma mensagem indicando se é um e-mail válido ou não.\n",
        "'''"
      ],
      "metadata": {
        "id": "PnAPaeXY3-dA"
      },
      "execution_count": null,
      "outputs": []
    },
    {
      "cell_type": "code",
      "source": [
        "email = input(\"Digite seu e-mail: \")\n",
        "if '@' in email:\n",
        "    print(\"O e-mail é válido.\")\n",
        "else:\n",
        "    print(\"O e-mail não é válido.\")"
      ],
      "metadata": {
        "id": "0FjHfVTLUQAb",
        "outputId": "62d05554-4643-4233-f93a-bcd04c40f804",
        "colab": {
          "base_uri": "https://localhost:8080/"
        }
      },
      "execution_count": 10,
      "outputs": [
        {
          "output_type": "stream",
          "name": "stdout",
          "text": [
            "Digite seu e-mail: leoa.spaf.com.br\n",
            "O e-mail não é válido.\n"
          ]
        }
      ]
    },
    {
      "cell_type": "code",
      "source": [
        "'''\n",
        "5.2. Peça ao usuário para digitar uma frase e:\n",
        "Converta a frase para maiúsculas.\n",
        "Converta a frase para minúsculas.\n",
        "Converta a primeira letra de cada palavra para maiúscula.\n",
        "Verifique se a frase começa com uma determinada palavra (ex.: 'Olá').\n",
        "'''"
      ],
      "metadata": {
        "id": "nkwe0I9c3-w-"
      },
      "execution_count": null,
      "outputs": []
    },
    {
      "cell_type": "code",
      "source": [
        "frase = input(\"Digite uma frase: \")\n",
        "maiusculas = frase.upper()\n",
        "print(\"Frase em maiúsculas:\", maiusculas)\n",
        "minusculas = frase.lower()\n",
        "print(\"Frase em minúsculas:\", minusculas)\n",
        "primeira_maiuscula = frase.title()\n",
        "print(\"Frase com a primeira letra de cada palavra em maiúscula:\", primeira_maiuscula)\n",
        "comeca_com_ola = frase.startswith('Olá')\n",
        "if comeca_com_ola:\n",
        "    print(\"A frase começa com 'Olá'.\")\n",
        "else:\n",
        "    print(\"A frase não começa com 'Olá'.\")"
      ],
      "metadata": {
        "id": "meHctGZAUf_3",
        "outputId": "f65e4569-7399-4c21-fcab-b4c41a3fc071",
        "colab": {
          "base_uri": "https://localhost:8080/"
        }
      },
      "execution_count": 11,
      "outputs": [
        {
          "output_type": "stream",
          "name": "stdout",
          "text": [
            "Digite uma frase: Olá amigos\n",
            "Frase em maiúsculas: OLÁ AMIGOS\n",
            "Frase em minúsculas: olá amigos\n",
            "Frase com a primeira letra de cada palavra em maiúscula: Olá Amigos\n",
            "A frase começa com 'Olá'.\n"
          ]
        }
      ]
    },
    {
      "cell_type": "markdown",
      "source": [
        "# 6 - Listas"
      ],
      "metadata": {
        "id": "HZQlB-8K4snX"
      }
    },
    {
      "cell_type": "code",
      "source": [
        "'''\n",
        "6.1. Crie uma lista com os nomes de cinco amigos. Imprima o nome do terceiro\n",
        "amigo na lista.\n",
        "\n",
        "'''"
      ],
      "metadata": {
        "id": "3_3JLvXZ4sBG"
      },
      "execution_count": null,
      "outputs": []
    },
    {
      "cell_type": "code",
      "source": [
        "amigos = [\"Alice\", \"Bruno\", \"Carlos\", \"Daniela\", \"Eduardo\"]\n",
        "terceiro_amigo = amigos[2]\n",
        "print(\"O nome do terceiro amigo é:\", terceiro_amigo)"
      ],
      "metadata": {
        "id": "2nHdPCdZU1Rk",
        "outputId": "d79777ef-c218-4430-8da2-8e2e45cdd318",
        "colab": {
          "base_uri": "https://localhost:8080/"
        }
      },
      "execution_count": 12,
      "outputs": [
        {
          "output_type": "stream",
          "name": "stdout",
          "text": [
            "O nome do terceiro amigo é: Carlos\n"
          ]
        }
      ]
    },
    {
      "cell_type": "code",
      "source": [
        "'''\n",
        "6.2. Adicione um novo nome à lista de amigos e remova o primeiro nome.\n",
        "Imprima a lista atualizada.\n",
        "'''"
      ],
      "metadata": {
        "id": "ppcjLqMb4yDu"
      },
      "execution_count": null,
      "outputs": []
    },
    {
      "cell_type": "code",
      "source": [
        "amigos = [\"Alice\", \"Bruno\", \"Carlos\", \"Daniela\", \"Eduardo\"]\n",
        "amigos.append(\"Fernanda\")\n",
        "amigos.pop(0)\n",
        "print(\"Lista de amigos atualizada:\", amigos)"
      ],
      "metadata": {
        "id": "UY98NsuqVCTr",
        "outputId": "90b389e6-6c98-4017-e672-133997e78557",
        "colab": {
          "base_uri": "https://localhost:8080/"
        }
      },
      "execution_count": 13,
      "outputs": [
        {
          "output_type": "stream",
          "name": "stdout",
          "text": [
            "Lista de amigos atualizada: ['Bruno', 'Carlos', 'Daniela', 'Eduardo', 'Fernanda']\n"
          ]
        }
      ]
    },
    {
      "cell_type": "code",
      "source": [
        "'''\n",
        "6.3. Crie uma lista com as idades dos seus amigos e:\n",
        "Imprima a idade do amigo mais velho.\n",
        "Imprima a idade do amigo mais novo.\n",
        "Calcule e imprima a soma das idades.\n",
        "'''"
      ],
      "metadata": {
        "id": "Hoz7RcUW4zc4"
      },
      "execution_count": null,
      "outputs": []
    },
    {
      "cell_type": "code",
      "source": [
        "idades = [25, 30, 22, 27, 29]\n",
        "idade_mais_velho = max(idades)\n",
        "print(\"Idade do amigo mais velho:\", idade_mais_velho)\n",
        "idade_mais_novo = min(idades)\n",
        "print(\"Idade do amigo mais novo:\", idade_mais_novo)\n",
        "soma_idades = sum(idades)\n",
        "print(\"Soma das idades:\", soma_idades)"
      ],
      "metadata": {
        "id": "xp6tq92IVN3m",
        "outputId": "7087512b-78c8-4204-90cb-07dd3ae619f5",
        "colab": {
          "base_uri": "https://localhost:8080/"
        }
      },
      "execution_count": 14,
      "outputs": [
        {
          "output_type": "stream",
          "name": "stdout",
          "text": [
            "Idade do amigo mais velho: 30\n",
            "Idade do amigo mais novo: 22\n",
            "Soma das idades: 133\n"
          ]
        }
      ]
    },
    {
      "cell_type": "markdown",
      "source": [
        "# 7 - Tuplas"
      ],
      "metadata": {
        "id": "9WTzsCNH4-tT"
      }
    },
    {
      "cell_type": "code",
      "source": [
        "'''\n",
        "7.1 Crie uma tupla com as informações de um cliente (nome, idade, peso, altura).\n",
        "Imprima todas as informações.\n",
        "'''"
      ],
      "metadata": {
        "id": "XpWW7G-p5BOJ"
      },
      "execution_count": null,
      "outputs": []
    },
    {
      "cell_type": "code",
      "source": [
        "cliente = (\"João\", 30, 75.0, 1.75)\n",
        "print(\"Informações do cliente:\")\n",
        "print(\"Nome:\", cliente[0])\n",
        "print(\"Idade:\", cliente[1])\n",
        "print(\"Peso:\", cliente[2])\n",
        "print(\"Altura:\", cliente[3])"
      ],
      "metadata": {
        "id": "Ps7F8jO1Venv",
        "outputId": "277a3ff1-ba21-4884-fb62-508d488852e0",
        "colab": {
          "base_uri": "https://localhost:8080/"
        }
      },
      "execution_count": 15,
      "outputs": [
        {
          "output_type": "stream",
          "name": "stdout",
          "text": [
            "Informações do cliente:\n",
            "Nome: João\n",
            "Idade: 30\n",
            "Peso: 75.0\n",
            "Altura: 1.75\n"
          ]
        }
      ]
    },
    {
      "cell_type": "code",
      "source": [
        "'''\n",
        "7.2. Crie uma nova tupla concatenando a tupla do exercício anterior com o e-mail\n",
        "do cliente. Imprima a nova tupla.\n",
        "'''"
      ],
      "metadata": {
        "id": "tIzWFwzc5GQ8"
      },
      "execution_count": null,
      "outputs": []
    },
    {
      "cell_type": "code",
      "source": [
        "cliente = (\"João\", 30, 75.0, 1.75)\n",
        "email_cliente = \"joao@example.com\"\n",
        "nova_tupla = cliente + (email_cliente,)\n",
        "print(\"Nova tupla com informações do cliente e e-mail:\")\n",
        "print(nova_tupla)"
      ],
      "metadata": {
        "id": "A2A1jvyMVnj0",
        "outputId": "c601fcfb-6d55-4e19-a063-66438aa0a16a",
        "colab": {
          "base_uri": "https://localhost:8080/"
        }
      },
      "execution_count": 16,
      "outputs": [
        {
          "output_type": "stream",
          "name": "stdout",
          "text": [
            "Nova tupla com informações do cliente e e-mail:\n",
            "('João', 30, 75.0, 1.75, 'joao@example.com')\n"
          ]
        }
      ]
    },
    {
      "cell_type": "markdown",
      "source": [
        "# 8 - Dicionários"
      ],
      "metadata": {
        "id": "-zg06dPu5ZJC"
      }
    },
    {
      "cell_type": "code",
      "source": [
        "'''\n",
        "8.1. Crie um dicionário com informações de um cliente\n",
        "(nome, idade, peso, altura). Imprima o valor associado à chave 'nome'.\n",
        "'''"
      ],
      "metadata": {
        "id": "E_wd3pdX5clA"
      },
      "execution_count": null,
      "outputs": []
    },
    {
      "cell_type": "code",
      "source": [
        "cliente = {\n",
        "    \"nome\": \"João\",\n",
        "    \"idade\": 30,\n",
        "    \"peso\": 75.0,\n",
        "    \"altura\": 1.75\n",
        "}\n",
        "print(\"Nome do cliente:\", cliente[\"nome\"])"
      ],
      "metadata": {
        "id": "wKTlRg95V3cZ",
        "outputId": "ce35b48e-c168-4452-a4ab-6f088e577737",
        "colab": {
          "base_uri": "https://localhost:8080/"
        }
      },
      "execution_count": 17,
      "outputs": [
        {
          "output_type": "stream",
          "name": "stdout",
          "text": [
            "Nome do cliente: João\n"
          ]
        }
      ]
    },
    {
      "cell_type": "code",
      "source": [
        "'''\n",
        "8.2. Adicione uma nova chave 'email' ao dicionário do exercício anterior e\n",
        "imprima o dicionário atualizado.\n",
        "'''"
      ],
      "metadata": {
        "id": "kM-tUW7o5eK7"
      },
      "execution_count": null,
      "outputs": []
    },
    {
      "cell_type": "code",
      "source": [
        "cliente = {\n",
        "    \"nome\": \"João\",\n",
        "    \"idade\": 30,\n",
        "    \"peso\": 75.0,\n",
        "    \"altura\": 1.75\n",
        "}\n",
        "cliente[\"email\"] = \"joao@example.com\"\n",
        "print(\"Dicionário atualizado com informações do cliente:\")\n",
        "print(cliente)"
      ],
      "metadata": {
        "id": "S_l9Rpc0WCOU",
        "outputId": "90eb3e62-3f7b-44be-80eb-344a3bd8d04e",
        "colab": {
          "base_uri": "https://localhost:8080/"
        }
      },
      "execution_count": 18,
      "outputs": [
        {
          "output_type": "stream",
          "name": "stdout",
          "text": [
            "Dicionário atualizado com informações do cliente:\n",
            "{'nome': 'João', 'idade': 30, 'peso': 75.0, 'altura': 1.75, 'email': 'joao@example.com'}\n"
          ]
        }
      ]
    },
    {
      "cell_type": "code",
      "source": [
        "'''\n",
        "8.3. Remova a chave 'peso' do dicionário e verifique se a chave 'endereço' está\n",
        "no dicionário. Imprima os resultados.\n",
        "'''"
      ],
      "metadata": {
        "id": "xFhFuFOV5ffs"
      },
      "execution_count": null,
      "outputs": []
    },
    {
      "cell_type": "code",
      "source": [
        "cliente = {\n",
        "    \"nome\": \"João\",\n",
        "    \"idade\": 30,\n",
        "    \"peso\": 75.0,\n",
        "    \"altura\": 1.75,\n",
        "    \"email\": \"joao@example.com\"\n",
        "}\n",
        "cliente.pop(\"peso\", None)\n",
        "tem_endereco = \"endereço\" in cliente\n",
        "print(\"Dicionário após remover a chave 'peso':\")\n",
        "print(cliente)\n",
        "print(\"A chave 'endereço' está no dicionário?\", tem_endereco)"
      ],
      "metadata": {
        "id": "7h5AwGoJWNsZ",
        "outputId": "8e88786c-3208-4268-abe3-93f1f2ff8e06",
        "colab": {
          "base_uri": "https://localhost:8080/"
        }
      },
      "execution_count": 19,
      "outputs": [
        {
          "output_type": "stream",
          "name": "stdout",
          "text": [
            "Dicionário após remover a chave 'peso':\n",
            "{'nome': 'João', 'idade': 30, 'altura': 1.75, 'email': 'joao@example.com'}\n",
            "A chave 'endereço' está no dicionário? False\n"
          ]
        }
      ]
    },
    {
      "cell_type": "markdown",
      "source": [
        "# 9 - Controle de Fluxo"
      ],
      "metadata": {
        "id": "zDOsohbe5sjQ"
      }
    },
    {
      "cell_type": "code",
      "source": [
        "# Condicionais\n",
        "'''\n",
        "9.1. Peça ao usuário para digitar sua idade e verifique se ele é menor de idade,\n",
        " adulto ou idoso. Imprima uma mensagem correspondente.\n",
        "'''"
      ],
      "metadata": {
        "id": "efFgv5Xx5wFC"
      },
      "execution_count": null,
      "outputs": []
    },
    {
      "cell_type": "code",
      "source": [
        "idade = int(input(\"Digite sua idade: \"))\n",
        "\n",
        "if idade < 18:\n",
        "    print(\"Você é menor de idade.\")\n",
        "elif 18 <= idade < 60:\n",
        "    print(\"Você é adulto.\")\n",
        "else:\n",
        "    print(\"Você é idoso.\")"
      ],
      "metadata": {
        "id": "qoOAfm2RWc67",
        "outputId": "9296eaeb-962f-45b7-e569-518ef26f849a",
        "colab": {
          "base_uri": "https://localhost:8080/"
        }
      },
      "execution_count": 20,
      "outputs": [
        {
          "output_type": "stream",
          "name": "stdout",
          "text": [
            "Digite sua idade: 31\n",
            "Você é adulto.\n"
          ]
        }
      ]
    },
    {
      "cell_type": "code",
      "source": [
        "# Condicionais\n",
        "'''\n",
        "9.2. Peça ao usuário para digitar uma nota (0 a 100) e imprima se ele foi\n",
        "aprovado (nota >= 60) ou reprovado.\n",
        "'''"
      ],
      "metadata": {
        "id": "pse5b4NO52OP"
      },
      "execution_count": null,
      "outputs": []
    },
    {
      "cell_type": "code",
      "source": [
        "nota = float(input(\"Digite uma nota (0 a 100): \"))\n",
        "\n",
        "if nota >= 60:\n",
        "    print(\"Você foi aprovado.\")\n",
        "else:\n",
        "    print(\"Você foi reprovado.\")"
      ],
      "metadata": {
        "id": "T_sr3WowWknn",
        "outputId": "efbdefa2-bbee-48e4-bfbf-74598c9d00b4",
        "colab": {
          "base_uri": "https://localhost:8080/"
        }
      },
      "execution_count": 21,
      "outputs": [
        {
          "output_type": "stream",
          "name": "stdout",
          "text": [
            "Digite uma nota (0 a 100): 85\n",
            "Você foi aprovado.\n"
          ]
        }
      ]
    },
    {
      "cell_type": "code",
      "source": [
        "# Loop For\n",
        "'''\n",
        "9.3. Crie uma lista com os nomes de cinco cidades. Use um loop for para imprimir\n",
        "cada nome de cidade.\n",
        "'''"
      ],
      "metadata": {
        "id": "inMnGHFy525K"
      },
      "execution_count": null,
      "outputs": []
    },
    {
      "cell_type": "code",
      "source": [
        "cidades = [\"São Paulo\", \"Rio de Janeiro\", \"Belo Horizonte\", \"Salvador\", \"Curitiba\"]\n",
        "\n",
        "for cidade in cidades:\n",
        "    print(cidade)"
      ],
      "metadata": {
        "id": "ikprBfKPW1Kw",
        "outputId": "c404fde4-a31f-4ecd-82f4-9d0df1753783",
        "colab": {
          "base_uri": "https://localhost:8080/"
        }
      },
      "execution_count": 22,
      "outputs": [
        {
          "output_type": "stream",
          "name": "stdout",
          "text": [
            "São Paulo\n",
            "Rio de Janeiro\n",
            "Belo Horizonte\n",
            "Salvador\n",
            "Curitiba\n"
          ]
        }
      ]
    },
    {
      "cell_type": "code",
      "source": [
        "# Loop For\n",
        "'''\n",
        "9.4. Crie uma lista com os números de 1 a 10. Use um loop for para imprimir o\n",
        "quadrado de cada número.\n",
        "'''"
      ],
      "metadata": {
        "id": "GitTfGfM539Y"
      },
      "execution_count": null,
      "outputs": []
    },
    {
      "cell_type": "code",
      "source": [
        "numeros = list(range(1, 11))\n",
        "\n",
        "for numero in numeros:\n",
        "    quadrado = numero ** 2\n",
        "    print(quadrado)"
      ],
      "metadata": {
        "id": "WzVAZVCXW74f",
        "outputId": "4140e70f-1515-4528-8b39-3bcd449930aa",
        "colab": {
          "base_uri": "https://localhost:8080/"
        }
      },
      "execution_count": 23,
      "outputs": [
        {
          "output_type": "stream",
          "name": "stdout",
          "text": [
            "1\n",
            "4\n",
            "9\n",
            "16\n",
            "25\n",
            "36\n",
            "49\n",
            "64\n",
            "81\n",
            "100\n"
          ]
        }
      ]
    },
    {
      "cell_type": "markdown",
      "source": [
        "# 10 - Estudo de caso 01"
      ],
      "metadata": {
        "id": "_vJUEjo_6mWX"
      }
    },
    {
      "cell_type": "code",
      "source": [
        "'''\n",
        "Contexto:\n",
        "Uma empresa precisa registrar informações sobre seus clientes e calcular o IMC\n",
        "(Índice de Massa Corporal) de cada um deles. As informações devem ser\n",
        "armazenadas em um dicionário e exibidas ao final.\n",
        "'''\n",
        "\n",
        "\n",
        "'''\n",
        "Requisitos:\n",
        "Peça ao usuário para inserir os seguintes dados de um cliente:\n",
        "Nome\n",
        "Idade\n",
        "Peso (em kg)\n",
        "Altura (em metros)\n",
        "E-mail\n",
        "Armazene essas informações em um dicionário.\n",
        "Calcule o IMC do cliente (IMC = Peso / (Altura * Altura)) e adicione esse valor ao dicionário.\n",
        "Exiba todas as informações do cliente, incluindo o IMC arredondado para duas casas decimais.\n",
        "\n",
        "'''"
      ],
      "metadata": {
        "id": "llIsNhsG6l_z"
      },
      "execution_count": null,
      "outputs": []
    },
    {
      "cell_type": "code",
      "source": [
        "nome = input(\"Digite o nome do cliente: \")\n",
        "idade = int(input(\"Digite a idade do cliente: \"))\n",
        "peso = float(input(\"Digite o peso do cliente (em kg): \"))\n",
        "altura = float(input(\"Digite a altura do cliente (em metros): \"))\n",
        "email = input(\"Digite o e-mail do cliente: \")\n",
        "cliente = {\n",
        "    \"nome\": nome,\n",
        "    \"idade\": idade,\n",
        "    \"peso\": peso,\n",
        "    \"altura\": altura,\n",
        "    \"email\": email\n",
        "}\n",
        "imc = peso / (altura ** 2)\n",
        "cliente[\"IMC\"] = round(imc, 2)\n",
        "print(\"\\nInformações do cliente:\")\n",
        "for chave, valor in cliente.items():\n",
        "    print(f\"{chave.capitalize()}: {valor}\")"
      ],
      "metadata": {
        "id": "7Y1iCjTZXJEM",
        "outputId": "04441443-3f53-4360-a1a0-76ece323fa91",
        "colab": {
          "base_uri": "https://localhost:8080/"
        }
      },
      "execution_count": 24,
      "outputs": [
        {
          "output_type": "stream",
          "name": "stdout",
          "text": [
            "Digite o nome do cliente: Leo\n",
            "Digite a idade do cliente: 31\n",
            "Digite o peso do cliente (em kg): 75\n",
            "Digite a altura do cliente (em metros): 1.70\n",
            "Digite o e-mail do cliente: leonardo_state@hotmail.com\n",
            "\n",
            "Informações do cliente:\n",
            "Nome: Leo\n",
            "Idade: 31\n",
            "Peso: 75.0\n",
            "Altura: 1.7\n",
            "Email: leonardo_state@hotmail.com\n",
            "Imc: 25.95\n"
          ]
        }
      ]
    },
    {
      "cell_type": "markdown",
      "source": [
        "# 11 - Estudo de Caso 02"
      ],
      "metadata": {
        "id": "_Yi8lRKQ68B3"
      }
    },
    {
      "cell_type": "code",
      "source": [
        "'''\n",
        "Contexto:\n",
        "Uma escola precisa analisar as notas de seus alunos e determinar se cada aluno\n",
        "foi aprovado ou reprovado. As notas serão armazenadas em uma lista e a análise\n",
        "deve ser realizada em um loop.\n",
        "'''\n",
        "\n",
        "'''\n",
        "Requisitos:\n",
        "Peça ao usuário para inserir o nome e a nota de cinco alunos.\n",
        "Armazene os nomes e as notas em listas separadas.\n",
        "Para cada aluno, verifique se a nota é maior ou igual a 60. Se sim, o aluno está\n",
        "aprovado; caso contrário, está reprovado.\n",
        "Exiba uma mensagem para cada aluno informando seu nome, nota e se foi aprovado\n",
        "ou reprovado.\n",
        "'''"
      ],
      "metadata": {
        "id": "mrqCtmjg6_It"
      },
      "execution_count": null,
      "outputs": []
    },
    {
      "cell_type": "code",
      "source": [
        "nomes = []\n",
        "notas = []\n",
        "for i in range(5):\n",
        "    nome = input(f\"Digite o nome do aluno {i + 1}: \")\n",
        "    nota = float(input(f\"Digite a nota do aluno {i + 1}: \"))\n",
        "    nomes.append(nome)\n",
        "    notas.append(nota)\n",
        "for i in range(5):\n",
        "    if notas[i] >= 6:\n",
        "        resultado = \"aprovado\"\n",
        "    else:\n",
        "        resultado = \"reprovado\"\n",
        "\n",
        "    print(f\"Aluno: {nomes[i]}, Nota: {notas[i]}, Situação: {resultado}\")"
      ],
      "metadata": {
        "id": "urYN_fXgXdre",
        "outputId": "5c421651-02b4-4897-f3c2-312b2d6af217",
        "colab": {
          "base_uri": "https://localhost:8080/"
        }
      },
      "execution_count": 30,
      "outputs": [
        {
          "output_type": "stream",
          "name": "stdout",
          "text": [
            "Digite o nome do aluno 1: Alberto\n",
            "Digite a nota do aluno 1: 7\n",
            "Digite o nome do aluno 2: Leo\n",
            "Digite a nota do aluno 2: 10\n",
            "Digite o nome do aluno 3: Rodrigo\n",
            "Digite a nota do aluno 3: 5\n",
            "Digite o nome do aluno 4: Bruna\n",
            "Digite a nota do aluno 4: 4\n",
            "Digite o nome do aluno 5: Carlos\n",
            "Digite a nota do aluno 5: 8\n",
            "Aluno: Alberto, Nota: 7.0, Situação: aprovado\n",
            "Aluno: Leo, Nota: 10.0, Situação: aprovado\n",
            "Aluno: Rodrigo, Nota: 5.0, Situação: reprovado\n",
            "Aluno: Bruna, Nota: 4.0, Situação: reprovado\n",
            "Aluno: Carlos, Nota: 8.0, Situação: aprovado\n"
          ]
        }
      ]
    },
    {
      "cell_type": "markdown",
      "source": [
        "# 12 - Estudo de caso 03"
      ],
      "metadata": {
        "id": "DoDAFqG37QWG"
      }
    },
    {
      "cell_type": "code",
      "source": [
        "'''\n",
        "Contexto\n",
        "Uma empresa deseja realizar uma pesquisa de opinião com cinco participantes\n",
        "sobre um novo produto. As respostas devem ser armazenadas e analisadas para\n",
        "verificar a satisfação dos clientes.\n",
        "'''\n",
        "\n",
        "'''\n",
        "Requisitos\n",
        "Peça ao usuário para inserir o nome e a opinião (satisfeito/insatisfeito) de\n",
        "cinco participantes.\n",
        "Armazene os nomes e as opiniões em um dicionário.\n",
        "Conte o número de participantes satisfeitos e insatisfeitos.\n",
        "Exiba a lista de participantes satisfeitos e insatisfeitos, bem como o número\n",
        "total de cada categoria.\n",
        "'''"
      ],
      "metadata": {
        "id": "34JqxL0B7Tvj"
      },
      "execution_count": null,
      "outputs": []
    },
    {
      "cell_type": "code",
      "source": [
        "pesquisa = {}\n",
        "for i in range(5):\n",
        "    nome = input(f\"Digite o nome do participante {i + 1}: \")\n",
        "    opiniao = input(\"Opinião (satisfeito/insatisfeito): \").lower()\n",
        "    pesquisa[nome] = opiniao\n",
        "satisfeitos = []\n",
        "insatisfeitos = []\n",
        "for nome, opiniao in pesquisa.items():\n",
        "    if opiniao == \"satisfeito\":\n",
        "        satisfeitos.append(nome)\n",
        "    elif opiniao == \"insatisfeito\":\n",
        "        insatisfeitos.append(nome)\n",
        "        print(\"\\nParticipantes satisfeitos:\")\n",
        "for nome in satisfeitos:\n",
        "    print(nome)\n",
        "\n",
        "print(\"\\nParticipantes insatisfeitos:\")\n",
        "for nome in insatisfeitos:\n",
        "    print(nome)\n",
        "\n",
        "print(f\"\\nTotal de satisfeitos: {len(satisfeitos)}\")\n",
        "print(f\"Total de insatisfeitos: {len(insatisfeitos)}\")"
      ],
      "metadata": {
        "id": "-0WLEilOYu9O",
        "outputId": "e5de1962-c5ee-4e2d-d02b-fc2b785417e6",
        "colab": {
          "base_uri": "https://localhost:8080/"
        }
      },
      "execution_count": 31,
      "outputs": [
        {
          "output_type": "stream",
          "name": "stdout",
          "text": [
            "Digite o nome do participante 1: Leo\n",
            "Opinião (satisfeito/insatisfeito): Satisfeito\n",
            "Digite o nome do participante 2: Bruno\n",
            "Opinião (satisfeito/insatisfeito): Insatisfeito\n",
            "Digite o nome do participante 3: Carlos\n",
            "Opinião (satisfeito/insatisfeito): Satisfeito\n",
            "Digite o nome do participante 4: Cesar\n",
            "Opinião (satisfeito/insatisfeito): Satisfeito\n",
            "Digite o nome do participante 5: Lucas\n",
            "Opinião (satisfeito/insatisfeito): Insatisfeito\n",
            "\n",
            "Participantes satisfeitos:\n",
            "\n",
            "Participantes satisfeitos:\n",
            "Leo\n",
            "Carlos\n",
            "Cesar\n",
            "\n",
            "Participantes insatisfeitos:\n",
            "Bruno\n",
            "Lucas\n",
            "\n",
            "Total de satisfeitos: 3\n",
            "Total de insatisfeitos: 2\n"
          ]
        }
      ]
    }
  ]
}
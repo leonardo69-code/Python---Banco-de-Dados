{
  "nbformat": 4,
  "nbformat_minor": 0,
  "metadata": {
    "colab": {
      "provenance": [],
      "include_colab_link": true
    },
    "kernelspec": {
      "name": "python3",
      "display_name": "Python 3"
    },
    "language_info": {
      "name": "python"
    }
  },
  "cells": [
    {
      "cell_type": "markdown",
      "metadata": {
        "id": "view-in-github",
        "colab_type": "text"
      },
      "source": [
        "<a href=\"https://colab.research.google.com/github/leonardo69-code/Python---Banco-de-Dados/blob/main/Gabarito_Exerc%C3%ADcios_Pandas.ipynb\" target=\"_parent\"><img src=\"https://colab.research.google.com/assets/colab-badge.svg\" alt=\"Open In Colab\"/></a>"
      ]
    },
    {
      "cell_type": "code",
      "execution_count": null,
      "metadata": {
        "id": "9YP9rGuWNmBu"
      },
      "outputs": [],
      "source": [
        "import pandas as pd"
      ]
    },
    {
      "cell_type": "code",
      "source": [
        "cliente = pd.read_csv('https://docs.google.com/spreadsheets/d/e/2PACX-1vQW3fP3j4qoiMGBXDAGzg_9IW2b3zgjdkVKLsURNVe9QezpHXimWfKle_55CQQtkeWL69OAASBDNdk8/pub?gid=2073489257&single=true&output=csv')\n",
        "display(cliente)"
      ],
      "metadata": {
        "id": "6CzBxhrn7_Ot"
      },
      "execution_count": null,
      "outputs": []
    },
    {
      "cell_type": "code",
      "source": [
        "aluguel = pd.read_csv('https://docs.google.com/spreadsheets/d/e/2PACX-1vRncyLGO1iOo2H53JaryzVF1GPjUhWl9DsN7TZROCDxaP85iCwl5aW5ffBEzqtpAMRNYkd7eO5ehmgn/pub?gid=1581881382&single=true&output=csv')\n",
        "display(aluguel)"
      ],
      "metadata": {
        "id": "IrGz7XiA8Epu"
      },
      "execution_count": null,
      "outputs": []
    },
    {
      "cell_type": "code",
      "source": [
        "carro = pd.read_csv('https://docs.google.com/spreadsheets/d/e/2PACX-1vSznlX7UXeH_LeKcNteiDnWvdwZyydAQl0_x8NU9cx6G00Zh7SMrjoUuNpytVq7U-iQVzQNJ7jC7GpY/pub?gid=306989914&single=true&output=csv')\n",
        "display(carro)"
      ],
      "metadata": {
        "id": "evHe7l8M8JsG"
      },
      "execution_count": null,
      "outputs": []
    },
    {
      "cell_type": "code",
      "source": [
        "marca = pd.read_csv('https://docs.google.com/spreadsheets/d/e/2PACX-1vSI-4_QEFwZ6eDGwUDlip0_PGBn7d_F7j59UwXmRvWbQFyy01ENPatjkbO1E8k5ZW5lqSY9ox112j7X/pub?gid=1160143272&single=true&output=csv')\n",
        "display(marca)"
      ],
      "metadata": {
        "id": "Bv9sAXpO8M3R"
      },
      "execution_count": null,
      "outputs": []
    },
    {
      "cell_type": "markdown",
      "source": [
        "# Exercícios"
      ],
      "metadata": {
        "id": "rSijB8hZbN9v"
      }
    },
    {
      "cell_type": "code",
      "source": [
        "'''\n",
        "1 - Selecione todos os dados da tabela cliente\n",
        "'''\n",
        "display(cliente)"
      ],
      "metadata": {
        "id": "gj-OzUprbQ7F"
      },
      "execution_count": null,
      "outputs": []
    },
    {
      "cell_type": "code",
      "source": [
        "'''\n",
        "2 - Liste todos os clientes que moram na cidade de \"São Paulo\".\n",
        "'''\n",
        "cliente.query('cidade == \"São Paulo\"')[['nome','cidade']]"
      ],
      "metadata": {
        "id": "WyWv2hstbteb"
      },
      "execution_count": null,
      "outputs": []
    },
    {
      "cell_type": "code",
      "source": [
        "'''\n",
        "3 - Liste os estados diferentes presentes na tabela cliente.\n",
        "'''\n",
        "cliente[['estado']].groupby('estado').count()"
      ],
      "metadata": {
        "id": "218gCpDbdduS"
      },
      "execution_count": null,
      "outputs": []
    },
    {
      "cell_type": "code",
      "source": [
        "'''\n",
        "4 - Liste todos os clientes ordenados pelo nome em ordem alfabética.\n",
        "'''\n",
        "cliente.sort_values(by='nome')['nome']"
      ],
      "metadata": {
        "id": "pBmgxrtue9Sd"
      },
      "execution_count": null,
      "outputs": []
    },
    {
      "cell_type": "code",
      "source": [
        "'''\n",
        "5 - Encontre todos os clientes que são do sexo feminino e solteiros.\n",
        "'''\n",
        "cliente.query('sexo == \"F\" & estadocivil == \"S\"')[['nome', 'estadocivil']]"
      ],
      "metadata": {
        "id": "vUDDh1DigbZr"
      },
      "execution_count": null,
      "outputs": []
    },
    {
      "cell_type": "code",
      "source": [
        "'''\n",
        "6 - Liste todos os clientes cujo nome começa com a letra 'A'.\n",
        "'''\n",
        "cliente[cliente['nome'].str.startswith('A')]['nome']"
      ],
      "metadata": {
        "id": "W8jeFZv5hErr"
      },
      "execution_count": null,
      "outputs": []
    },
    {
      "cell_type": "code",
      "source": [
        "# Alternattiva\n",
        "'''\n",
        "6 - Liste todos os clientes cujo nome começa com a letra 'A'.\n",
        "'''\n",
        "nomes = list(cliente.nome)\n",
        "for nome in nomes:\n",
        "  if nome.startswith('A'):\n",
        "    print(nome)\n",
        "  else:\n",
        "    pass"
      ],
      "metadata": {
        "id": "lbVFibtIlPHx"
      },
      "execution_count": null,
      "outputs": []
    },
    {
      "cell_type": "code",
      "source": [
        "'''\n",
        "7 - Selecione os 3 primeiros registros da tabela cliente.\n",
        "'''\n",
        "cliente.head(3)"
      ],
      "metadata": {
        "id": "ZmU7bA61ma-z"
      },
      "execution_count": null,
      "outputs": []
    },
    {
      "cell_type": "code",
      "source": [
        "'''\n",
        "8 - Liste todos os carros que são da marca 'Ford' ou 'Fiat'.\n",
        "'''\n",
        "a = pd.merge(carro, marca, on='codmarca', how='inner')[['marca','modelo']]\n",
        "a.query('marca == \"Ford\" | marca == \"Fiat\" ')"
      ],
      "metadata": {
        "id": "p_R--nZMmzOg"
      },
      "execution_count": null,
      "outputs": []
    },
    {
      "cell_type": "code",
      "source": [
        "# Alternativa\n",
        "'''\n",
        "8 - Liste todos os carros que são da marca 'Ford' ou 'Fiat'.\n",
        "'''\n",
        "a = pd.merge(carro, marca, on='codmarca', how='inner')[['marca','modelo']]\n",
        "a[a['marca'].isin(['Ford','Fiat'])]"
      ],
      "metadata": {
        "id": "5nwJBeYzoQON"
      },
      "execution_count": null,
      "outputs": []
    },
    {
      "cell_type": "code",
      "source": [
        "'''\n",
        "9 - Encontre todos os carros cujo valor está entre 100 e 150.\n",
        "'''\n",
        "(carro.query('valor >= 100  & valor <= 150')[['modelo','valor']]\n",
        ".sort_values(by='valor'))"
      ],
      "metadata": {
        "id": "Sc4g7E13ylrB"
      },
      "execution_count": null,
      "outputs": []
    },
    {
      "cell_type": "code",
      "source": [
        "'''\n",
        "10 - Conte quantos aluguéis foram realizados.\n",
        "'''\n",
        "aluguel.codaluguel.count()"
      ],
      "metadata": {
        "id": "vcvOja7_0W_i"
      },
      "execution_count": null,
      "outputs": []
    },
    {
      "cell_type": "code",
      "source": [
        "'''\n",
        "11 - Calcule o valor total de todos os carros disponíveis para aluguel.\n",
        "'''\n",
        "carro.valor.sum()"
      ],
      "metadata": {
        "id": "WTew9_-P02ta"
      },
      "execution_count": null,
      "outputs": []
    },
    {
      "cell_type": "code",
      "source": [
        "'''\n",
        "12 - Calcule o valor médio dos carros.\n",
        "'''\n",
        "carro.valor.mean()"
      ],
      "metadata": {
        "id": "Jy-fBF1z07j5"
      },
      "execution_count": null,
      "outputs": []
    },
    {
      "cell_type": "code",
      "source": [
        "'''\n",
        "13 - Encontre o menor e o maior valor de aluguel de carros.\n",
        "'''\n",
        "print(carro.valor.min())\n",
        "print(carro.valor.max())"
      ],
      "metadata": {
        "id": "Noj_Tv2K07cj"
      },
      "execution_count": null,
      "outputs": []
    },
    {
      "cell_type": "code",
      "source": [
        "'''\n",
        "14 - Agrupe os clientes por estado e conte quantos clientes existem em cada\n",
        "estado.\n",
        "'''\n",
        "a = cliente[['estado','codcliente']].groupby('estado').count()\n",
        "a.rename({'codcliente':'total_clientes'}, axis=1, inplace=True)\n",
        "display(a)"
      ],
      "metadata": {
        "id": "INaNSfdR07YA"
      },
      "execution_count": null,
      "outputs": []
    },
    {
      "cell_type": "code",
      "source": [
        "# Alternativa\n",
        "'''\n",
        "14 - Agrupe os clientes por estado e conte quantos clientes existem em cada\n",
        "estado.\n",
        "'''\n",
        "(cliente.groupby('estado', as_index=False)\n",
        ".agg(total_clientes=('codcliente','count')))"
      ],
      "metadata": {
        "id": "VOvjI87707TQ"
      },
      "execution_count": null,
      "outputs": []
    },
    {
      "cell_type": "code",
      "source": [
        "'''\n",
        "15 - Agrupe os aluguéis por cliente e filtre apenas aqueles que fizeram mais de\n",
        "2 aluguéis.\n",
        "'''\n",
        "(pd.merge(aluguel, cliente, on='codcliente', how='inner').groupby('nome')\n",
        ".agg(qtde_alugueis=('codaluguel','count')).query('qtde_alugueis > 2'))"
      ],
      "metadata": {
        "id": "-GkkE3DM07O5"
      },
      "execution_count": null,
      "outputs": []
    },
    {
      "cell_type": "code",
      "source": [
        "'''\n",
        "16 - Liste todos os aluguéis, mostrando o nome do cliente e o modelo do carro\n",
        "alugado.\n",
        "'''\n",
        "a = pd.merge(carro, aluguel, on='codcarro', how='inner')\n",
        "(pd.merge(a,cliente, on='codcliente', how='inner')[['nome', 'modelo']]\n",
        ".sort_values(by='nome'))"
      ],
      "metadata": {
        "id": "pSuGwBK107KI"
      },
      "execution_count": null,
      "outputs": []
    },
    {
      "cell_type": "code",
      "source": [
        "# Alternativa\n",
        "'''\n",
        "16 - Liste todos os aluguéis, mostrando o nome do cliente e o modelo do carro\n",
        "alugado.\n",
        "'''\n",
        "# Fazendo os merges\n",
        "a = pd.merge(carro, aluguel, on='codcarro', how='inner')\n",
        "res = pd.merge(a, cliente, on='codcliente', how='inner')[['nome', 'modelo']]\n",
        "# Agrupando por cliente e consolidando os modelos em uma única linha\n",
        "res.groupby('nome', as_index=False).agg({'modelo': ','.join})"
      ],
      "metadata": {
        "id": "wkhFrjlb07FR"
      },
      "execution_count": null,
      "outputs": []
    },
    {
      "cell_type": "code",
      "source": [
        "'''\n",
        "17 - Liste todos os carros e, se houver, as informações sobre os aluguéis\n",
        "realizados desses carros.\n",
        "'''\n",
        "(carro.merge(aluguel, on='codcarro', how='left')[['modelo','data_aluguel']]\n",
        ".sort_values(by='data_aluguel'))"
      ],
      "metadata": {
        "id": "8BUbzpE-07Az"
      },
      "execution_count": null,
      "outputs": []
    },
    {
      "cell_type": "code",
      "source": [
        "# Alternativa\n",
        "'''\n",
        "17 - Liste todos os carros e, se houver, as informações sobre os aluguéis\n",
        "realizados desses carros.\n",
        "'''\n",
        "# Fazendo os merges\n",
        "a = (pd.merge(carro, aluguel, on='codcarro', how='inner')\n",
        "[['modelo','data_aluguel']])\n",
        "\n",
        "# Agrupando por cliente e consolidando os modelos em uma única linha\n",
        "a.groupby('modelo', as_index=False).agg({'data_aluguel': ','.join})"
      ],
      "metadata": {
        "id": "3EMr-Sjr068a"
      },
      "execution_count": null,
      "outputs": []
    },
    {
      "cell_type": "code",
      "source": [
        "'''\n",
        "18 - Liste todos os aluguéis e as informações sobre os carros alugados, mesmo\n",
        "que o carro não esteja mais no banco de dados.\n",
        "'''\n",
        "(aluguel.merge(carro, on='codcarro', how='left')[['modelo','data_aluguel']]\n",
        ".sort_values(by='data_aluguel'))"
      ],
      "metadata": {
        "id": "U8cTqqlx063f"
      },
      "execution_count": null,
      "outputs": []
    },
    {
      "cell_type": "code",
      "source": [
        "'''\n",
        "19 - Liste todos os clientes e os carros que alugaram, incluindo clientes que\n",
        "não alugaram e carros que não foram alugados.\n",
        "'''\n",
        "(cliente.merge(aluguel, on='codcliente', how='outer')\n",
        ".merge(carro, on='codcarro', how='outer').sort_values(by='nome')\n",
        "[['nome','modelo']])"
      ],
      "metadata": {
        "id": "pjL1JVrM06yY"
      },
      "execution_count": null,
      "outputs": []
    },
    {
      "cell_type": "code",
      "source": [
        "'''\n",
        "20 - Combine os resultados de duas consultas: uma que lista clientes solteiros\n",
        "e outra que lista clientes casados.\n",
        "'''\n",
        "clientes_solteiros = cliente[cliente['estadocivil'] == 'S']\n",
        "clientes_casados = cliente[cliente['estadocivil'] == 'C']\n",
        "pd.concat([clientes_solteiros, clientes_casados], ignore_index=True)"
      ],
      "metadata": {
        "id": "sswpLdPv06uA"
      },
      "execution_count": null,
      "outputs": []
    },
    {
      "cell_type": "code",
      "source": [
        "'''\n",
        "21 - Encontre os clientes que alugaram o carro com modelo 'Onix'.\n",
        "'''\n",
        "(pd.merge(cliente, aluguel, on='codcliente', how='inner')\n",
        ".merge(carro, on='codcarro', how='inner')\n",
        ".query('modelo == \"Onix\"')[['nome','modelo']])"
      ],
      "metadata": {
        "id": "m90-ukAQ06pj"
      },
      "execution_count": null,
      "outputs": []
    },
    {
      "cell_type": "code",
      "source": [
        "'''\n",
        "22 - Liste os modelos de carros e o número de vezes que cada um foi alugado.\n",
        "'''\n",
        "a = pd.merge(carro, aluguel, on='codcarro', how='inner')\n",
        "(a.groupby('modelo', as_index=False).agg(qtde_alugueis=('codaluguel','count'))\n",
        ".sort_values(by='qtde_alugueis', ascending=False))"
      ],
      "metadata": {
        "id": "O2f9Ocv806j8"
      },
      "execution_count": null,
      "outputs": []
    },
    {
      "cell_type": "code",
      "source": [
        "# alternativa\n",
        "'''\n",
        "22 - Liste os modelos de carros e o número de vezes que cada um foi alugado.\n",
        "'''\n",
        "a = pd.merge(carro, aluguel, on='codcarro', how='left')\n",
        "(a.groupby('modelo', as_index=False).agg(qtde_alugueis=('codaluguel','count'))\n",
        ".sort_values(by='qtde_alugueis', ascending=False))"
      ],
      "metadata": {
        "id": "lgJgMVRa9SrA"
      },
      "execution_count": null,
      "outputs": []
    },
    {
      "cell_type": "code",
      "source": [
        "'''\n",
        "23 - Liste o nome dos clientes e o número de aluguéis que cada um fez.\n",
        "'''\n",
        "a = pd.merge(cliente, aluguel, on='codcliente', how='inner')\n",
        "a.groupby('nome', as_index=False).agg(qtde_alugueis=('codaluguel','count'))"
      ],
      "metadata": {
        "id": "IEB_KWGL06fO"
      },
      "execution_count": null,
      "outputs": []
    },
    {
      "cell_type": "code",
      "source": [
        "# Alternativa\n",
        "'''\n",
        "23 - Liste o nome dos clientes e o número de aluguéis que cada um fez.\n",
        "'''\n",
        "a = pd.merge(cliente, aluguel, on='codcliente', how='left')\n",
        "(a.groupby('nome', as_index=False).agg(qtde_alugueis=('codaluguel','count'))\n",
        ".sort_values(by='qtde_alugueis', ascending=False))"
      ],
      "metadata": {
        "id": "xJ-q7aQD06a5"
      },
      "execution_count": null,
      "outputs": []
    },
    {
      "cell_type": "code",
      "source": [
        "'''\n",
        "24 - Crie uma consulta que retorne o nome dos clientes e uma coluna adicional\n",
        "chamada status_civil que classifica os clientes como \"Solteiro\" ou \"Casado\".\n",
        "'''\n",
        "status_civil = []\n",
        "for estado in cliente['estadocivil']:\n",
        "    if estado == 'S':\n",
        "        status_civil.append('Solteiro')\n",
        "    else:\n",
        "        status_civil.append('Casado')\n",
        "\n",
        "cliente['status_civil'] = status_civil\n",
        "cliente[['nome','status_civil']]"
      ],
      "metadata": {
        "id": "OTeYk0Zt-ZUh"
      },
      "execution_count": null,
      "outputs": []
    },
    {
      "cell_type": "code",
      "source": [
        "# Alternativa\n",
        "'''\n",
        "24 - Crie uma consulta que retorne o nome dos clientes e uma coluna adicional\n",
        "chamada status_civil que classifica os clientes como \"Solteiro\" ou \"Casado\".\n",
        "'''\n",
        "cliente['status_civil'] = cliente['estadocivil'].map({'S': 'Solteiro',\n",
        "                                                      'C': 'Casado'})\n",
        "cliente[['nome','status_civil']].sort_values(by='nome')"
      ],
      "metadata": {
        "id": "ADNSRvtT-LFi"
      },
      "execution_count": null,
      "outputs": []
    },
    {
      "cell_type": "code",
      "source": [
        "'''\n",
        "25 - Liste os nomes dos clientes e as datas em que alugaram carros.\n",
        "'''\n",
        "# Fazendo os merges\n",
        "a = pd.merge(cliente, aluguel, on='codcliente', how='inner')[['nome',\n",
        "                                                              'data_aluguel']]\n",
        "\n",
        "# Agrupando por cliente e consolidando os modelos em uma única linha\n",
        "a.groupby('nome', as_index=False).agg({'data_aluguel': ', -- '.join})"
      ],
      "metadata": {
        "id": "kHZjHL6G06GV"
      },
      "execution_count": null,
      "outputs": []
    },
    {
      "cell_type": "code",
      "source": [
        "'''\n",
        "26 - Liste todos os modelos de carros e suas respectivas marcas.\n",
        "'''\n",
        "pd.merge(marca, carro, on='codmarca', how='inner')[['marca','modelo']]"
      ],
      "metadata": {
        "id": "kNBBj40z06AV"
      },
      "execution_count": null,
      "outputs": []
    },
    {
      "cell_type": "code",
      "source": [
        "'''\n",
        "27 - Liste todos os aluguéis e os nomes dos clientes que os realizaram.\n",
        "'''\n",
        "(pd.merge(aluguel, cliente, on='codcliente', how='inner')\n",
        ".merge(carro, on='codcarro', how='inner')[['nome','modelo','data_aluguel']]\n",
        ".sort_values(by='nome'))"
      ],
      "metadata": {
        "id": "0VAi40Oj0560"
      },
      "execution_count": null,
      "outputs": []
    },
    {
      "cell_type": "code",
      "source": [
        "'''\n",
        "28 - Encontre o nome dos clientes e os modelos de carros que alugaram.\n",
        "'''\n",
        "a = (pd.merge(aluguel, cliente, on='codcliente', how='inner')\n",
        ".merge(carro, on='codcarro', how='inner')[['nome','modelo']])\n",
        "a.groupby('nome', as_index=False).agg({'modelo': ','.join})"
      ],
      "metadata": {
        "id": "jJxdArH305z2"
      },
      "execution_count": null,
      "outputs": []
    },
    {
      "cell_type": "code",
      "source": [
        "'''\n",
        "29 - Liste todos os carros e, se houver, mostre as datas em que foram alugados.\n",
        "'''\n",
        "(carro.merge(aluguel, on='codcarro', how='left')[['modelo','data_aluguel']]\n",
        ".sort_values(by='data_aluguel'))"
      ],
      "metadata": {
        "id": "2e8AAxL505vB"
      },
      "execution_count": null,
      "outputs": []
    },
    {
      "cell_type": "code",
      "source": [
        "'''\n",
        "30 - Encontre os clientes que moram na mesma cidade e estado e\n",
        "que alugaram carros.\n",
        "'''\n",
        "\n",
        "(cliente.merge(aluguel, on='codcliente', how='inner')\n",
        ".groupby(['cidade', 'estado']).agg({'nome': ', '.join}).reset_index())"
      ],
      "metadata": {
        "id": "qUu4-7bx05o8"
      },
      "execution_count": null,
      "outputs": []
    },
    {
      "cell_type": "code",
      "source": [
        "'''\n",
        " 31 - Liste os nomes dos clientes e os carros que eles alugaram, incluindo os\n",
        "clientes que não alugaram nenhum carro.\n",
        "'''\n",
        "(cliente.merge(aluguel, on='codcliente', how='left')\n",
        ".merge(carro, on='codcarro', how='left')\n",
        "[['nome', 'modelo']]).sort_values(by='nome')"
      ],
      "metadata": {
        "id": "g30_7hsJHogh"
      },
      "execution_count": null,
      "outputs": []
    },
    {
      "cell_type": "code",
      "source": [
        "'''\n",
        "32 - Liste todas as marcas e, se houver, os modelos de carros associados.\n",
        "'''\n",
        "marca.merge(carro, on='codmarca', how='left')[['marca', 'modelo']]"
      ],
      "metadata": {
        "id": "KocJVFBeHob1"
      },
      "execution_count": null,
      "outputs": []
    },
    {
      "cell_type": "code",
      "source": [
        "'''\n",
        "33 - Encontre todos os aluguéis e o estado civil dos clientes que alugaram os\n",
        "carros.\n",
        "'''\n",
        "(aluguel.merge(cliente, on='codcliente')[['nome', 'estadocivil','data_aluguel']]\n",
        ".sort_values(by='nome'))"
      ],
      "metadata": {
        "id": "OdTOgoiCHoZg"
      },
      "execution_count": null,
      "outputs": []
    },
    {
      "cell_type": "code",
      "source": [
        "'''\n",
        "34 - Liste os clientes e as cidades em que moram para aqueles que alugaram\n",
        "carros.\n",
        "'''\n",
        "(aluguel.merge(cliente, on='codcliente')[['nome', 'cidade','data_aluguel']]\n",
        ".sort_values(by='nome'))"
      ],
      "metadata": {
        "id": "Gfu75mlFHoXC"
      },
      "execution_count": null,
      "outputs": []
    },
    {
      "cell_type": "code",
      "source": [
        "'''\n",
        "35 - Liste os clientes que alugaram carros e os modelos de carros que eles\n",
        "alugaram, incluindo a marca do carro.\n",
        "'''\n",
        "(aluguel.merge(carro, on='codcarro').merge(marca, on='codmarca').\n",
        " merge(cliente, on='codcliente')[['nome', 'modelo', 'marca','data_aluguel']]\n",
        " .sort_values(by=['nome','modelo']))"
      ],
      "metadata": {
        "id": "sMfistGMHoUk"
      },
      "execution_count": null,
      "outputs": []
    },
    {
      "cell_type": "code",
      "source": [
        "'''\n",
        "36 - Encontre todos os aluguéis realizados em uma cidade específica e liste os\n",
        "nomes dos clientes e os modelos de carros alugados.\n",
        "'''\n",
        "(aluguel.merge(carro, on='codcarro').merge(cliente, on='codcliente')\n",
        ".query('cidade == \"Duque de Caxias\"')\n",
        "[['nome', 'modelo', 'cidade','data_aluguel']].sort_values(by='nome'))"
      ],
      "metadata": {
        "id": "NGtMKh_tHoRj"
      },
      "execution_count": null,
      "outputs": []
    },
    {
      "cell_type": "code",
      "source": [
        "'''\n",
        "37 - Liste os modelos de carros e a quantidade de vezes que foram alugados.\n",
        "'''\n",
        "(carro.merge(aluguel, on='codcarro',how='left')\n",
        ".groupby('modelo', as_index=False).agg(qtde_alugueis=('codaluguel','count'))\n",
        ".sort_values(by='modelo'))"
      ],
      "metadata": {
        "id": "otgZyqZbHoLj"
      },
      "execution_count": null,
      "outputs": []
    },
    {
      "cell_type": "code",
      "source": [
        "# Alternativa\n",
        "'''\n",
        "37 - Liste os modelos de carros e a quantidade de vezes que foram alugados.\n",
        "'''\n",
        "(carro.merge(aluguel, on='codcarro',how='inner')\n",
        ".groupby('modelo',as_index=False).agg(qtde_alugueis=('codaluguel','count')))"
      ],
      "metadata": {
        "id": "y2JQ8LHBO5WQ"
      },
      "execution_count": null,
      "outputs": []
    },
    {
      "cell_type": "code",
      "source": [
        "'''\n",
        "38 - Encontre os clientes que alugaram mais de um carro.\n",
        "'''\n",
        "(cliente.merge(aluguel, on='codcliente',how='left')\n",
        ".groupby('nome',as_index=False).agg(qtde_alugueis=('codaluguel','count'))\n",
        ".sort_values(by='qtde_alugueis', ascending=False))"
      ],
      "metadata": {
        "id": "ZHaaZPLPPySL"
      },
      "execution_count": null,
      "outputs": []
    },
    {
      "cell_type": "code",
      "source": [
        "# Alternativa\n",
        "'''\n",
        "38 - Encontre os clientes que alugaram mais de um carro.\n",
        "'''\n",
        "(cliente.merge(aluguel, on='codcliente',how='inner')\n",
        ".groupby('nome',as_index=False).agg(qtde_alugueis=('codaluguel','count')))"
      ],
      "metadata": {
        "id": "jOyUGfM505hw"
      },
      "execution_count": null,
      "outputs": []
    },
    {
      "cell_type": "code",
      "source": [
        "'''\n",
        "39 - Liste os clientes, as datas de aluguel e o valor do carro alugado.\n",
        "'''\n",
        "(aluguel.merge(carro, on='codcarro').merge(marca, on='codmarca').\n",
        " merge(cliente, on='codcliente')[['nome','modelo','valor','data_aluguel']]\n",
        ".sort_values(by='nome'))"
      ],
      "metadata": {
        "id": "oRFJTqsh05b4"
      },
      "execution_count": null,
      "outputs": []
    },
    {
      "cell_type": "code",
      "source": [
        "'''\n",
        "40 - Liste os modelos de carros que nunca foram alugados.\n",
        "'''\n",
        "(carro.merge(aluguel, on='codcarro',how='left')\n",
        ".groupby('modelo', as_index=False).agg(qtde_alugueis=('codaluguel','count'))\n",
        ".query('qtde_alugueis == 0'))"
      ],
      "metadata": {
        "id": "Eo3FRHloSHAH"
      },
      "execution_count": null,
      "outputs": []
    },
    {
      "cell_type": "code",
      "source": [
        "# Alternativa\n",
        "'''\n",
        "40 - Liste os modelos de carros que nunca foram alugados.\n",
        "'''\n",
        "carro[~carro['codcarro'].isin(aluguel['codcarro'])]['modelo']"
      ],
      "metadata": {
        "id": "497vd3i305SV"
      },
      "execution_count": null,
      "outputs": []
    },
    {
      "cell_type": "code",
      "source": [
        "'''\n",
        "41 - Encontre os clientes que alugaram carros e o total gasto em aluguéis.\n",
        "'''\n",
        "(aluguel.merge(carro, on='codcarro').merge(cliente, on='codcliente')\n",
        ".groupby('nome',as_index=False)['valor'].sum())"
      ],
      "metadata": {
        "id": "EFuJrE5P05NE"
      },
      "execution_count": null,
      "outputs": []
    },
    {
      "cell_type": "code",
      "source": [
        "'''\n",
        "42 - Liste as marcas de carros e o número total de aluguéis por marca.\n",
        "'''\n",
        "(aluguel.merge(carro, on='codcarro').merge(marca, on='codmarca')\n",
        ".groupby('marca', as_index=False)['codaluguel'].count()\n",
        ".sort_values(by='codaluguel',ascending=False))"
      ],
      "metadata": {
        "id": "JhHr-zMK05EO"
      },
      "execution_count": null,
      "outputs": []
    },
    {
      "cell_type": "code",
      "source": [
        "'''\n",
        "43 - Encontre os clientes que alugaram carros em um determinado mês e ano,\n",
        "listando os modelos de carros e as datas de aluguel.\n",
        "'''\n",
        "# Exemplo: abril de 2023\n",
        "a = aluguel.merge(carro, on='codcarro').merge(cliente, on='codcliente')\n",
        "a = (a[(pd.to_datetime(a['data_aluguel'])\n",
        ".dt.month == 4) & (pd.to_datetime(a['data_aluguel']).dt.year == 2023)]\n",
        " [['nome', 'modelo', 'data_aluguel']].sort_values(by='nome'))\n",
        "display(a)"
      ],
      "metadata": {
        "id": "_nPnvm4N0462"
      },
      "execution_count": null,
      "outputs": []
    },
    {
      "cell_type": "code",
      "source": [
        "'''\n",
        "44 - Liste os clientes que moram em estados diferentes e que alugaram carros,\n",
        "junto com os modelos alugados.\n",
        "'''\n",
        "(aluguel.merge(carro, on='codcarro').merge(cliente, on='codcliente')\n",
        ".groupby(['nome']).agg({'modelo':', '.join,'estado': ', '.join}).reset_index())"
      ],
      "metadata": {
        "id": "BgtDcCvG041W"
      },
      "execution_count": null,
      "outputs": []
    },
    {
      "cell_type": "code",
      "source": [
        "'''\n",
        "45 - Encontre os clientes que alugaram carros, os modelos de carros alugados, as\n",
        "marcas desses carros e as datas de aluguel, ordenando pelos nomes dos clientes.\n",
        "'''\n",
        "(aluguel.merge(carro, on='codcarro').merge(marca, on='codmarca')\n",
        ".merge(cliente, on='codcliente')[['nome', 'modelo', 'marca', 'data_aluguel']]\n",
        " .sort_values(by='nome'))"
      ],
      "metadata": {
        "id": "i2PIq7Kw04vM"
      },
      "execution_count": null,
      "outputs": []
    },
    {
      "cell_type": "code",
      "source": [
        "'''\n",
        "46 - Liste os clientes que alugaram carros mais de uma vez e os detalhes dos\n",
        "carros que alugaram.\n",
        "'''\n",
        "a = aluguel.groupby('codcliente')['codaluguel'].count()\n",
        "a = a[a > 1].index\n",
        "b = (aluguel.merge(carro, on='codcarro').merge(cliente, on='codcliente')\n",
        ".merge(marca,on='codmarca',how='inner'))\n",
        "(b[b['codcliente'].isin(a)][['nome','modelo','marca','data_aluguel']]\n",
        " .sort_values(by='nome'))"
      ],
      "metadata": {
        "id": "ClUWvR_w04ok"
      },
      "execution_count": null,
      "outputs": []
    },
    {
      "cell_type": "code",
      "source": [
        "'''\n",
        "47 - Encontre os modelos de carros que foram alugados por clientes de cidades\n",
        "específicas e liste as marcas desses carros.\n",
        "'''\n",
        "cidades = [\"São Paulo\", \"Niterói\"]  # Substitua pelas cidades desejadas\n",
        "a = (aluguel.merge(carro, on='codcarro').merge(cliente, on='codcliente')\n",
        ".merge(marca, on='codmarca'))\n",
        "a[a['cidade'].isin(cidades)][['modelo', 'marca', 'cidade']]"
      ],
      "metadata": {
        "id": "us6moQt104ho"
      },
      "execution_count": null,
      "outputs": []
    },
    {
      "cell_type": "code",
      "source": [
        "'''\n",
        "48 - Liste os clientes que alugaram carros, os modelos e as marcas dos carros,\n",
        "e o total gasto em aluguéis, agrupado por cliente.\n",
        "'''\n",
        "# Faz os merges entre os DataFrames\n",
        "a = (\n",
        "    aluguel\n",
        "    .merge(carro, on='codcarro')\n",
        "    .merge(cliente, on='codcliente')\n",
        "    .merge(marca, on='codmarca')\n",
        ")\n",
        "\n",
        "# Funções auxiliares\n",
        "def unicos(series):\n",
        "    return ', '.join(series.drop_duplicates().astype(str))\n",
        "\n",
        "# Agrupamento e agregação\n",
        "a = (\n",
        "    a.groupby('nome')\n",
        "    .agg(\n",
        "        total_gasto=('valor', 'sum'),\n",
        "        carros=('modelo', unicos),\n",
        "        marcas=('marca', unicos)\n",
        "    )\n",
        "    .reset_index()\n",
        ")\n",
        "\n",
        "display(a)"
      ],
      "metadata": {
        "id": "QokWh-8vhTGX"
      },
      "execution_count": null,
      "outputs": []
    },
    {
      "cell_type": "code",
      "source": [
        "# Alternativa\n",
        "'''\n",
        "48 - Liste os clientes que alugaram carros, os modelos e as marcas dos carros,\n",
        "e o total gasto em aluguéis, agrupado por cliente.\n",
        "'''\n",
        "# Faz os merges entre os DataFrames\n",
        "a = (\n",
        "    aluguel\n",
        "    .merge(carro, on='codcarro')\n",
        "    .merge(cliente, on='codcliente')\n",
        "    .merge(marca, on='codmarca')\n",
        ")\n",
        "\n",
        "# Agrupamento e agregação usando apenas funções pandas\n",
        "a = (\n",
        "    a.groupby('nome')\n",
        "    .agg(\n",
        "        total_gasto=('valor', 'sum'),\n",
        "        carros=('modelo', pd.Series.unique),\n",
        "        marcas=('marca', pd.Series.unique)\n",
        "    )\n",
        "    .reset_index()\n",
        ")\n",
        "\n",
        "# Convertendo valores únicos para listas, caso necessário\n",
        "a['carros'] = a['carros'].map(list)\n",
        "a['marcas'] = a['marcas'].map(list)\n",
        "\n",
        "display(a)"
      ],
      "metadata": {
        "id": "mdWz3l9xgx4e"
      },
      "execution_count": null,
      "outputs": []
    },
    {
      "cell_type": "code",
      "source": [
        "# Alternativa\n",
        "'''\n",
        "48 - Liste os clientes que alugaram carros, os modelos e as marcas dos carros,\n",
        "e o total gasto em aluguéis, agrupado por cliente.\n",
        "'''\n",
        "\n",
        "a = (aluguel.merge(carro, on='codcarro').merge(cliente, on='codcliente')\n",
        ".merge(marca, on='codmarca'))\n",
        "\n",
        "def unicos(series):\n",
        "    return series.unique().tolist()\n",
        "\n",
        "a = (a.groupby('nome').agg(total_gasto=('valor', 'sum'),\n",
        "        carros=('modelo', unicos),marcas=('marca', unicos)).reset_index())\n",
        "display(a)"
      ],
      "metadata": {
        "id": "JcfDyCXZ04Z2"
      },
      "execution_count": null,
      "outputs": []
    },
    {
      "cell_type": "code",
      "source": [
        "'''\n",
        "49 - Encontre os carros que foram alugados nos últimos 30 dias e os clientes\n",
        "que os alugaram.\n",
        "'''\n",
        "from datetime import datetime, timedelta\n",
        "hoje = datetime.now()\n",
        "a = hoje - timedelta(days=30)\n",
        "b = aluguel.merge(carro, on='codcarro').merge(cliente, on='codcliente')\n",
        "b = b[\n",
        "    pd.to_datetime(b['data_aluguel']) >= a\n",
        "][['nome', 'modelo', 'data_aluguel']]\n",
        "display(b)"
      ],
      "metadata": {
        "id": "aQHUSyBr04Gt"
      },
      "execution_count": null,
      "outputs": []
    },
    {
      "cell_type": "code",
      "source": [
        "'''\n",
        "50 - Liste os clientes, os carros que alugaram, as marcas desses carros, e o\n",
        "valor total gasto em aluguéis, filtrando por um intervalo de datas específico.\n",
        "'''\n",
        "data_inicio, data_fim = \"2023-04-01\", \"2023-04-15\"\n",
        "a = (aluguel.merge(carro, on='codcarro')\n",
        ".merge(cliente, on='codcliente').merge(marca, on='codmarca'))\n",
        "a = a[\n",
        "    (pd.to_datetime(a['data_aluguel']) >= pd.to_datetime(data_inicio))\n",
        "    & (pd.to_datetime(a['data_aluguel']) <= pd.to_datetime(data_fim))\n",
        "][['nome', 'modelo', 'marca', 'valor', 'data_aluguel']].sort_values(by='nome')\n",
        "display(a)"
      ],
      "metadata": {
        "id": "3YNXzwEU03uj"
      },
      "execution_count": null,
      "outputs": []
    }
  ]
}
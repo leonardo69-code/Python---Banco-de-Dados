{
  "nbformat": 4,
  "nbformat_minor": 0,
  "metadata": {
    "colab": {
      "provenance": [],
      "include_colab_link": true
    },
    "kernelspec": {
      "name": "python3",
      "display_name": "Python 3"
    },
    "language_info": {
      "name": "python"
    }
  },
  "cells": [
    {
      "cell_type": "markdown",
      "metadata": {
        "id": "view-in-github",
        "colab_type": "text"
      },
      "source": [
        "<a href=\"https://colab.research.google.com/github/leonardo69-code/Python---Banco-de-Dados/blob/main/C%C3%B3pia_de_PySpark_2.ipynb\" target=\"_parent\"><img src=\"https://colab.research.google.com/assets/colab-badge.svg\" alt=\"Open In Colab\"/></a>"
      ]
    },
    {
      "cell_type": "code",
      "execution_count": null,
      "metadata": {
        "id": "L-_lAIZWLstY"
      },
      "outputs": [],
      "source": [
        "# Importação da biblioteca pandas\n",
        "import pandas as pd"
      ]
    },
    {
      "cell_type": "code",
      "source": [
        "# Instalação dos requisitos para o PySpark\n",
        "!apt-get install openjdk-8-jdk-headless -qq > /dev/null\n",
        "!wget -q http://archive.apache.org/dist/spark/spark-3.1.1/spark-3.1.1-bin-hadoop3.2.tgz\n",
        "!tar xf spark-3.1.1-bin-hadoop3.2.tgz\n",
        "!pip install -q findspark"
      ],
      "metadata": {
        "id": "w_cpoLHPQWxI"
      },
      "execution_count": null,
      "outputs": []
    },
    {
      "cell_type": "code",
      "source": [
        "# Configurar as variáveis de ambiente\n",
        "import os\n",
        "os.environ[\"JAVA_HOME\"] = \"/usr/lib/jvm/java-8-openjdk-amd64\"\n",
        "os.environ[\"SPARK_HOME\"] = \"/content/spark-3.1.1-bin-hadoop3.2\"\n",
        "# Torna o pyspark \"importável\"\n",
        "import findspark\n",
        "findspark.init()"
      ],
      "metadata": {
        "id": "-DGpAqJnQbnx"
      },
      "execution_count": null,
      "outputs": []
    },
    {
      "cell_type": "code",
      "source": [
        "from pyspark.sql import SparkSession\n",
        "\n",
        "# Inicializar a SparkSession com suporte ao Hive\n",
        "spark = SparkSession.builder \\\n",
        "    .appName(\"Spark with Hive on Colab\") \\\n",
        "    .config(\"spark.sql.catalogImplementation\", \"hive\") \\\n",
        "    .config(\"spark.sql.warehouse.dir\", \"/content/spark-warehouse\") \\\n",
        "    .config(\"hive.metastore.warehouse.dir\", \"/content/spark-warehouse\") \\\n",
        "    .enableHiveSupport() \\\n",
        "    .getOrCreate()\n",
        "\n",
        "# Criar diretório para o warehouse\n",
        "!mkdir -p /content/spark-warehouse"
      ],
      "metadata": {
        "id": "Ovy5q-A-QiJt"
      },
      "execution_count": null,
      "outputs": []
    },
    {
      "cell_type": "code",
      "source": [
        "# Verifica o SparkContext\n",
        "print(spark)\n",
        "\n",
        "# Exibe a Spark version\n",
        "print(spark.version)"
      ],
      "metadata": {
        "colab": {
          "base_uri": "https://localhost:8080/"
        },
        "id": "OxgtkWayQk6n",
        "outputId": "75889924-0dd3-4ea2-abae-7278b6fcc7c0"
      },
      "execution_count": null,
      "outputs": [
        {
          "output_type": "stream",
          "name": "stdout",
          "text": [
            "<pyspark.sql.session.SparkSession object at 0x7b2568efc4c0>\n",
            "3.1.1\n"
          ]
        }
      ]
    },
    {
      "cell_type": "code",
      "source": [
        "'''\n",
        "Aplicar agregações ou cálculos: Operações como médias, somas e contagens podem\n",
        "ser realizadas com funções da biblioteca pyspark.sql.functions\n",
        "(importadas como F).\n",
        "'''\n",
        "from pyspark.sql import functions as F"
      ],
      "metadata": {
        "id": "LXN9cj8wVXW1"
      },
      "execution_count": null,
      "outputs": []
    },
    {
      "cell_type": "code",
      "source": [
        "df = pd.read_csv('https://docs.google.com/spreadsheets/d/e/2PACX-1vR2snMwL0lRHwNv3ilck0T98nhhyAqzmU5oQMKY4nwKZu_0FkiGo8U7ZXvA63CQOg2bYfmhKc6c-dL1/pub?gid=0&single=true&output=csv')\n",
        "display(df)"
      ],
      "metadata": {
        "colab": {
          "base_uri": "https://localhost:8080/",
          "height": 363
        },
        "id": "9RMsMv2MW8Pm",
        "outputId": "795fdc2f-f278-4096-95af-5d2def981d06"
      },
      "execution_count": null,
      "outputs": [
        {
          "output_type": "display_data",
          "data": {
            "text/plain": [
              "   matricula      nome     cidade estado    pais  idade departamento  \\\n",
              "0          1     Lucas    Atibaia     SP  Brasil     35      Compras   \n",
              "1          2       Ana  São Paulo     SP  Brasil     29       Vendas   \n",
              "2          3     Luiza     Santos     SP  Brasil     38     Finanças   \n",
              "3          4  Fernando    Atibaia     SP  Brasil     36    Marketing   \n",
              "4          5    Sandra    Atibaia     SP  Brasil     28     Produção   \n",
              "5          6   Douglas   Bragança     SP  Brasil     29     Finanças   \n",
              "6          7   Eduardo    Extrema     MG  Brasil     30    Marketing   \n",
              "7          8     Ester    Itapeva     MG  Brasil     29      Compras   \n",
              "8          9     Pedro    Extrema     MG  Brasil     30    Marketing   \n",
              "9         10     Maria    Extrema     MG  Brasil     40     Produção   \n",
              "\n",
              "         cargo  salario escolaridade  nota  \n",
              "0      Gerente    25000     Superior     8  \n",
              "1  Coordenador    12000     Superior     6  \n",
              "2      Gerente    28000          MBA     9  \n",
              "3      Diretor    40000     Mestrado     7  \n",
              "4     Analista    23000     Superior     5  \n",
              "5     Analista    11000     Superior     9  \n",
              "6      Gerente    12000          MBA     4  \n",
              "7     Analista    10000     Superior     2  \n",
              "8     Analista    13000     Superior     1  \n",
              "9     Analista    12000          MBA     7  "
            ],
            "text/html": [
              "\n",
              "  <div id=\"df-1d15d8da-64d1-4cd4-a8a4-6a56ff36769d\" class=\"colab-df-container\">\n",
              "    <div>\n",
              "<style scoped>\n",
              "    .dataframe tbody tr th:only-of-type {\n",
              "        vertical-align: middle;\n",
              "    }\n",
              "\n",
              "    .dataframe tbody tr th {\n",
              "        vertical-align: top;\n",
              "    }\n",
              "\n",
              "    .dataframe thead th {\n",
              "        text-align: right;\n",
              "    }\n",
              "</style>\n",
              "<table border=\"1\" class=\"dataframe\">\n",
              "  <thead>\n",
              "    <tr style=\"text-align: right;\">\n",
              "      <th></th>\n",
              "      <th>matricula</th>\n",
              "      <th>nome</th>\n",
              "      <th>cidade</th>\n",
              "      <th>estado</th>\n",
              "      <th>pais</th>\n",
              "      <th>idade</th>\n",
              "      <th>departamento</th>\n",
              "      <th>cargo</th>\n",
              "      <th>salario</th>\n",
              "      <th>escolaridade</th>\n",
              "      <th>nota</th>\n",
              "    </tr>\n",
              "  </thead>\n",
              "  <tbody>\n",
              "    <tr>\n",
              "      <th>0</th>\n",
              "      <td>1</td>\n",
              "      <td>Lucas</td>\n",
              "      <td>Atibaia</td>\n",
              "      <td>SP</td>\n",
              "      <td>Brasil</td>\n",
              "      <td>35</td>\n",
              "      <td>Compras</td>\n",
              "      <td>Gerente</td>\n",
              "      <td>25000</td>\n",
              "      <td>Superior</td>\n",
              "      <td>8</td>\n",
              "    </tr>\n",
              "    <tr>\n",
              "      <th>1</th>\n",
              "      <td>2</td>\n",
              "      <td>Ana</td>\n",
              "      <td>São Paulo</td>\n",
              "      <td>SP</td>\n",
              "      <td>Brasil</td>\n",
              "      <td>29</td>\n",
              "      <td>Vendas</td>\n",
              "      <td>Coordenador</td>\n",
              "      <td>12000</td>\n",
              "      <td>Superior</td>\n",
              "      <td>6</td>\n",
              "    </tr>\n",
              "    <tr>\n",
              "      <th>2</th>\n",
              "      <td>3</td>\n",
              "      <td>Luiza</td>\n",
              "      <td>Santos</td>\n",
              "      <td>SP</td>\n",
              "      <td>Brasil</td>\n",
              "      <td>38</td>\n",
              "      <td>Finanças</td>\n",
              "      <td>Gerente</td>\n",
              "      <td>28000</td>\n",
              "      <td>MBA</td>\n",
              "      <td>9</td>\n",
              "    </tr>\n",
              "    <tr>\n",
              "      <th>3</th>\n",
              "      <td>4</td>\n",
              "      <td>Fernando</td>\n",
              "      <td>Atibaia</td>\n",
              "      <td>SP</td>\n",
              "      <td>Brasil</td>\n",
              "      <td>36</td>\n",
              "      <td>Marketing</td>\n",
              "      <td>Diretor</td>\n",
              "      <td>40000</td>\n",
              "      <td>Mestrado</td>\n",
              "      <td>7</td>\n",
              "    </tr>\n",
              "    <tr>\n",
              "      <th>4</th>\n",
              "      <td>5</td>\n",
              "      <td>Sandra</td>\n",
              "      <td>Atibaia</td>\n",
              "      <td>SP</td>\n",
              "      <td>Brasil</td>\n",
              "      <td>28</td>\n",
              "      <td>Produção</td>\n",
              "      <td>Analista</td>\n",
              "      <td>23000</td>\n",
              "      <td>Superior</td>\n",
              "      <td>5</td>\n",
              "    </tr>\n",
              "    <tr>\n",
              "      <th>5</th>\n",
              "      <td>6</td>\n",
              "      <td>Douglas</td>\n",
              "      <td>Bragança</td>\n",
              "      <td>SP</td>\n",
              "      <td>Brasil</td>\n",
              "      <td>29</td>\n",
              "      <td>Finanças</td>\n",
              "      <td>Analista</td>\n",
              "      <td>11000</td>\n",
              "      <td>Superior</td>\n",
              "      <td>9</td>\n",
              "    </tr>\n",
              "    <tr>\n",
              "      <th>6</th>\n",
              "      <td>7</td>\n",
              "      <td>Eduardo</td>\n",
              "      <td>Extrema</td>\n",
              "      <td>MG</td>\n",
              "      <td>Brasil</td>\n",
              "      <td>30</td>\n",
              "      <td>Marketing</td>\n",
              "      <td>Gerente</td>\n",
              "      <td>12000</td>\n",
              "      <td>MBA</td>\n",
              "      <td>4</td>\n",
              "    </tr>\n",
              "    <tr>\n",
              "      <th>7</th>\n",
              "      <td>8</td>\n",
              "      <td>Ester</td>\n",
              "      <td>Itapeva</td>\n",
              "      <td>MG</td>\n",
              "      <td>Brasil</td>\n",
              "      <td>29</td>\n",
              "      <td>Compras</td>\n",
              "      <td>Analista</td>\n",
              "      <td>10000</td>\n",
              "      <td>Superior</td>\n",
              "      <td>2</td>\n",
              "    </tr>\n",
              "    <tr>\n",
              "      <th>8</th>\n",
              "      <td>9</td>\n",
              "      <td>Pedro</td>\n",
              "      <td>Extrema</td>\n",
              "      <td>MG</td>\n",
              "      <td>Brasil</td>\n",
              "      <td>30</td>\n",
              "      <td>Marketing</td>\n",
              "      <td>Analista</td>\n",
              "      <td>13000</td>\n",
              "      <td>Superior</td>\n",
              "      <td>1</td>\n",
              "    </tr>\n",
              "    <tr>\n",
              "      <th>9</th>\n",
              "      <td>10</td>\n",
              "      <td>Maria</td>\n",
              "      <td>Extrema</td>\n",
              "      <td>MG</td>\n",
              "      <td>Brasil</td>\n",
              "      <td>40</td>\n",
              "      <td>Produção</td>\n",
              "      <td>Analista</td>\n",
              "      <td>12000</td>\n",
              "      <td>MBA</td>\n",
              "      <td>7</td>\n",
              "    </tr>\n",
              "  </tbody>\n",
              "</table>\n",
              "</div>\n",
              "    <div class=\"colab-df-buttons\">\n",
              "\n",
              "  <div class=\"colab-df-container\">\n",
              "    <button class=\"colab-df-convert\" onclick=\"convertToInteractive('df-1d15d8da-64d1-4cd4-a8a4-6a56ff36769d')\"\n",
              "            title=\"Convert this dataframe to an interactive table.\"\n",
              "            style=\"display:none;\">\n",
              "\n",
              "  <svg xmlns=\"http://www.w3.org/2000/svg\" height=\"24px\" viewBox=\"0 -960 960 960\">\n",
              "    <path d=\"M120-120v-720h720v720H120Zm60-500h600v-160H180v160Zm220 220h160v-160H400v160Zm0 220h160v-160H400v160ZM180-400h160v-160H180v160Zm440 0h160v-160H620v160ZM180-180h160v-160H180v160Zm440 0h160v-160H620v160Z\"/>\n",
              "  </svg>\n",
              "    </button>\n",
              "\n",
              "  <style>\n",
              "    .colab-df-container {\n",
              "      display:flex;\n",
              "      gap: 12px;\n",
              "    }\n",
              "\n",
              "    .colab-df-convert {\n",
              "      background-color: #E8F0FE;\n",
              "      border: none;\n",
              "      border-radius: 50%;\n",
              "      cursor: pointer;\n",
              "      display: none;\n",
              "      fill: #1967D2;\n",
              "      height: 32px;\n",
              "      padding: 0 0 0 0;\n",
              "      width: 32px;\n",
              "    }\n",
              "\n",
              "    .colab-df-convert:hover {\n",
              "      background-color: #E2EBFA;\n",
              "      box-shadow: 0px 1px 2px rgba(60, 64, 67, 0.3), 0px 1px 3px 1px rgba(60, 64, 67, 0.15);\n",
              "      fill: #174EA6;\n",
              "    }\n",
              "\n",
              "    .colab-df-buttons div {\n",
              "      margin-bottom: 4px;\n",
              "    }\n",
              "\n",
              "    [theme=dark] .colab-df-convert {\n",
              "      background-color: #3B4455;\n",
              "      fill: #D2E3FC;\n",
              "    }\n",
              "\n",
              "    [theme=dark] .colab-df-convert:hover {\n",
              "      background-color: #434B5C;\n",
              "      box-shadow: 0px 1px 3px 1px rgba(0, 0, 0, 0.15);\n",
              "      filter: drop-shadow(0px 1px 2px rgba(0, 0, 0, 0.3));\n",
              "      fill: #FFFFFF;\n",
              "    }\n",
              "  </style>\n",
              "\n",
              "    <script>\n",
              "      const buttonEl =\n",
              "        document.querySelector('#df-1d15d8da-64d1-4cd4-a8a4-6a56ff36769d button.colab-df-convert');\n",
              "      buttonEl.style.display =\n",
              "        google.colab.kernel.accessAllowed ? 'block' : 'none';\n",
              "\n",
              "      async function convertToInteractive(key) {\n",
              "        const element = document.querySelector('#df-1d15d8da-64d1-4cd4-a8a4-6a56ff36769d');\n",
              "        const dataTable =\n",
              "          await google.colab.kernel.invokeFunction('convertToInteractive',\n",
              "                                                    [key], {});\n",
              "        if (!dataTable) return;\n",
              "\n",
              "        const docLinkHtml = 'Like what you see? Visit the ' +\n",
              "          '<a target=\"_blank\" href=https://colab.research.google.com/notebooks/data_table.ipynb>data table notebook</a>'\n",
              "          + ' to learn more about interactive tables.';\n",
              "        element.innerHTML = '';\n",
              "        dataTable['output_type'] = 'display_data';\n",
              "        await google.colab.output.renderOutput(dataTable, element);\n",
              "        const docLink = document.createElement('div');\n",
              "        docLink.innerHTML = docLinkHtml;\n",
              "        element.appendChild(docLink);\n",
              "      }\n",
              "    </script>\n",
              "  </div>\n",
              "\n",
              "\n",
              "<div id=\"df-4fe9d8a1-6e02-40ff-989b-fd0c52ebb753\">\n",
              "  <button class=\"colab-df-quickchart\" onclick=\"quickchart('df-4fe9d8a1-6e02-40ff-989b-fd0c52ebb753')\"\n",
              "            title=\"Suggest charts\"\n",
              "            style=\"display:none;\">\n",
              "\n",
              "<svg xmlns=\"http://www.w3.org/2000/svg\" height=\"24px\"viewBox=\"0 0 24 24\"\n",
              "     width=\"24px\">\n",
              "    <g>\n",
              "        <path d=\"M19 3H5c-1.1 0-2 .9-2 2v14c0 1.1.9 2 2 2h14c1.1 0 2-.9 2-2V5c0-1.1-.9-2-2-2zM9 17H7v-7h2v7zm4 0h-2V7h2v10zm4 0h-2v-4h2v4z\"/>\n",
              "    </g>\n",
              "</svg>\n",
              "  </button>\n",
              "\n",
              "<style>\n",
              "  .colab-df-quickchart {\n",
              "      --bg-color: #E8F0FE;\n",
              "      --fill-color: #1967D2;\n",
              "      --hover-bg-color: #E2EBFA;\n",
              "      --hover-fill-color: #174EA6;\n",
              "      --disabled-fill-color: #AAA;\n",
              "      --disabled-bg-color: #DDD;\n",
              "  }\n",
              "\n",
              "  [theme=dark] .colab-df-quickchart {\n",
              "      --bg-color: #3B4455;\n",
              "      --fill-color: #D2E3FC;\n",
              "      --hover-bg-color: #434B5C;\n",
              "      --hover-fill-color: #FFFFFF;\n",
              "      --disabled-bg-color: #3B4455;\n",
              "      --disabled-fill-color: #666;\n",
              "  }\n",
              "\n",
              "  .colab-df-quickchart {\n",
              "    background-color: var(--bg-color);\n",
              "    border: none;\n",
              "    border-radius: 50%;\n",
              "    cursor: pointer;\n",
              "    display: none;\n",
              "    fill: var(--fill-color);\n",
              "    height: 32px;\n",
              "    padding: 0;\n",
              "    width: 32px;\n",
              "  }\n",
              "\n",
              "  .colab-df-quickchart:hover {\n",
              "    background-color: var(--hover-bg-color);\n",
              "    box-shadow: 0 1px 2px rgba(60, 64, 67, 0.3), 0 1px 3px 1px rgba(60, 64, 67, 0.15);\n",
              "    fill: var(--button-hover-fill-color);\n",
              "  }\n",
              "\n",
              "  .colab-df-quickchart-complete:disabled,\n",
              "  .colab-df-quickchart-complete:disabled:hover {\n",
              "    background-color: var(--disabled-bg-color);\n",
              "    fill: var(--disabled-fill-color);\n",
              "    box-shadow: none;\n",
              "  }\n",
              "\n",
              "  .colab-df-spinner {\n",
              "    border: 2px solid var(--fill-color);\n",
              "    border-color: transparent;\n",
              "    border-bottom-color: var(--fill-color);\n",
              "    animation:\n",
              "      spin 1s steps(1) infinite;\n",
              "  }\n",
              "\n",
              "  @keyframes spin {\n",
              "    0% {\n",
              "      border-color: transparent;\n",
              "      border-bottom-color: var(--fill-color);\n",
              "      border-left-color: var(--fill-color);\n",
              "    }\n",
              "    20% {\n",
              "      border-color: transparent;\n",
              "      border-left-color: var(--fill-color);\n",
              "      border-top-color: var(--fill-color);\n",
              "    }\n",
              "    30% {\n",
              "      border-color: transparent;\n",
              "      border-left-color: var(--fill-color);\n",
              "      border-top-color: var(--fill-color);\n",
              "      border-right-color: var(--fill-color);\n",
              "    }\n",
              "    40% {\n",
              "      border-color: transparent;\n",
              "      border-right-color: var(--fill-color);\n",
              "      border-top-color: var(--fill-color);\n",
              "    }\n",
              "    60% {\n",
              "      border-color: transparent;\n",
              "      border-right-color: var(--fill-color);\n",
              "    }\n",
              "    80% {\n",
              "      border-color: transparent;\n",
              "      border-right-color: var(--fill-color);\n",
              "      border-bottom-color: var(--fill-color);\n",
              "    }\n",
              "    90% {\n",
              "      border-color: transparent;\n",
              "      border-bottom-color: var(--fill-color);\n",
              "    }\n",
              "  }\n",
              "</style>\n",
              "\n",
              "  <script>\n",
              "    async function quickchart(key) {\n",
              "      const quickchartButtonEl =\n",
              "        document.querySelector('#' + key + ' button');\n",
              "      quickchartButtonEl.disabled = true;  // To prevent multiple clicks.\n",
              "      quickchartButtonEl.classList.add('colab-df-spinner');\n",
              "      try {\n",
              "        const charts = await google.colab.kernel.invokeFunction(\n",
              "            'suggestCharts', [key], {});\n",
              "      } catch (error) {\n",
              "        console.error('Error during call to suggestCharts:', error);\n",
              "      }\n",
              "      quickchartButtonEl.classList.remove('colab-df-spinner');\n",
              "      quickchartButtonEl.classList.add('colab-df-quickchart-complete');\n",
              "    }\n",
              "    (() => {\n",
              "      let quickchartButtonEl =\n",
              "        document.querySelector('#df-4fe9d8a1-6e02-40ff-989b-fd0c52ebb753 button');\n",
              "      quickchartButtonEl.style.display =\n",
              "        google.colab.kernel.accessAllowed ? 'block' : 'none';\n",
              "    })();\n",
              "  </script>\n",
              "</div>\n",
              "\n",
              "  <div id=\"id_a5a3b1b9-0ec4-4f50-8bd3-9519851bf787\">\n",
              "    <style>\n",
              "      .colab-df-generate {\n",
              "        background-color: #E8F0FE;\n",
              "        border: none;\n",
              "        border-radius: 50%;\n",
              "        cursor: pointer;\n",
              "        display: none;\n",
              "        fill: #1967D2;\n",
              "        height: 32px;\n",
              "        padding: 0 0 0 0;\n",
              "        width: 32px;\n",
              "      }\n",
              "\n",
              "      .colab-df-generate:hover {\n",
              "        background-color: #E2EBFA;\n",
              "        box-shadow: 0px 1px 2px rgba(60, 64, 67, 0.3), 0px 1px 3px 1px rgba(60, 64, 67, 0.15);\n",
              "        fill: #174EA6;\n",
              "      }\n",
              "\n",
              "      [theme=dark] .colab-df-generate {\n",
              "        background-color: #3B4455;\n",
              "        fill: #D2E3FC;\n",
              "      }\n",
              "\n",
              "      [theme=dark] .colab-df-generate:hover {\n",
              "        background-color: #434B5C;\n",
              "        box-shadow: 0px 1px 3px 1px rgba(0, 0, 0, 0.15);\n",
              "        filter: drop-shadow(0px 1px 2px rgba(0, 0, 0, 0.3));\n",
              "        fill: #FFFFFF;\n",
              "      }\n",
              "    </style>\n",
              "    <button class=\"colab-df-generate\" onclick=\"generateWithVariable('df')\"\n",
              "            title=\"Generate code using this dataframe.\"\n",
              "            style=\"display:none;\">\n",
              "\n",
              "  <svg xmlns=\"http://www.w3.org/2000/svg\" height=\"24px\"viewBox=\"0 0 24 24\"\n",
              "       width=\"24px\">\n",
              "    <path d=\"M7,19H8.4L18.45,9,17,7.55,7,17.6ZM5,21V16.75L18.45,3.32a2,2,0,0,1,2.83,0l1.4,1.43a1.91,1.91,0,0,1,.58,1.4,1.91,1.91,0,0,1-.58,1.4L9.25,21ZM18.45,9,17,7.55Zm-12,3A5.31,5.31,0,0,0,4.9,8.1,5.31,5.31,0,0,0,1,6.5,5.31,5.31,0,0,0,4.9,4.9,5.31,5.31,0,0,0,6.5,1,5.31,5.31,0,0,0,8.1,4.9,5.31,5.31,0,0,0,12,6.5,5.46,5.46,0,0,0,6.5,12Z\"/>\n",
              "  </svg>\n",
              "    </button>\n",
              "    <script>\n",
              "      (() => {\n",
              "      const buttonEl =\n",
              "        document.querySelector('#id_a5a3b1b9-0ec4-4f50-8bd3-9519851bf787 button.colab-df-generate');\n",
              "      buttonEl.style.display =\n",
              "        google.colab.kernel.accessAllowed ? 'block' : 'none';\n",
              "\n",
              "      buttonEl.onclick = () => {\n",
              "        google.colab.notebook.generateWithVariable('df');\n",
              "      }\n",
              "      })();\n",
              "    </script>\n",
              "  </div>\n",
              "\n",
              "    </div>\n",
              "  </div>\n"
            ],
            "application/vnd.google.colaboratory.intrinsic+json": {
              "type": "dataframe",
              "variable_name": "df",
              "summary": "{\n  \"name\": \"df\",\n  \"rows\": 10,\n  \"fields\": [\n    {\n      \"column\": \"matricula\",\n      \"properties\": {\n        \"dtype\": \"number\",\n        \"std\": 3,\n        \"min\": 1,\n        \"max\": 10,\n        \"num_unique_values\": 10,\n        \"samples\": [\n          9,\n          2,\n          6\n        ],\n        \"semantic_type\": \"\",\n        \"description\": \"\"\n      }\n    },\n    {\n      \"column\": \"nome\",\n      \"properties\": {\n        \"dtype\": \"string\",\n        \"num_unique_values\": 10,\n        \"samples\": [\n          \"Pedro\",\n          \"Ana\",\n          \"Douglas\"\n        ],\n        \"semantic_type\": \"\",\n        \"description\": \"\"\n      }\n    },\n    {\n      \"column\": \"cidade\",\n      \"properties\": {\n        \"dtype\": \"string\",\n        \"num_unique_values\": 6,\n        \"samples\": [\n          \"Atibaia\",\n          \"S\\u00e3o Paulo\",\n          \"Itapeva\"\n        ],\n        \"semantic_type\": \"\",\n        \"description\": \"\"\n      }\n    },\n    {\n      \"column\": \"estado\",\n      \"properties\": {\n        \"dtype\": \"category\",\n        \"num_unique_values\": 2,\n        \"samples\": [\n          \"MG\",\n          \"SP\"\n        ],\n        \"semantic_type\": \"\",\n        \"description\": \"\"\n      }\n    },\n    {\n      \"column\": \"pais\",\n      \"properties\": {\n        \"dtype\": \"category\",\n        \"num_unique_values\": 1,\n        \"samples\": [\n          \"Brasil\"\n        ],\n        \"semantic_type\": \"\",\n        \"description\": \"\"\n      }\n    },\n    {\n      \"column\": \"idade\",\n      \"properties\": {\n        \"dtype\": \"number\",\n        \"std\": 4,\n        \"min\": 28,\n        \"max\": 40,\n        \"num_unique_values\": 7,\n        \"samples\": [\n          35\n        ],\n        \"semantic_type\": \"\",\n        \"description\": \"\"\n      }\n    },\n    {\n      \"column\": \"departamento\",\n      \"properties\": {\n        \"dtype\": \"string\",\n        \"num_unique_values\": 5,\n        \"samples\": [\n          \"Vendas\"\n        ],\n        \"semantic_type\": \"\",\n        \"description\": \"\"\n      }\n    },\n    {\n      \"column\": \"cargo\",\n      \"properties\": {\n        \"dtype\": \"category\",\n        \"num_unique_values\": 4,\n        \"samples\": [\n          \"Coordenador\"\n        ],\n        \"semantic_type\": \"\",\n        \"description\": \"\"\n      }\n    },\n    {\n      \"column\": \"salario\",\n      \"properties\": {\n        \"dtype\": \"number\",\n        \"std\": 10002,\n        \"min\": 10000,\n        \"max\": 40000,\n        \"num_unique_values\": 8,\n        \"samples\": [\n          12000\n        ],\n        \"semantic_type\": \"\",\n        \"description\": \"\"\n      }\n    },\n    {\n      \"column\": \"escolaridade\",\n      \"properties\": {\n        \"dtype\": \"category\",\n        \"num_unique_values\": 3,\n        \"samples\": [\n          \"Superior\"\n        ],\n        \"semantic_type\": \"\",\n        \"description\": \"\"\n      }\n    },\n    {\n      \"column\": \"nota\",\n      \"properties\": {\n        \"dtype\": \"number\",\n        \"std\": 2,\n        \"min\": 1,\n        \"max\": 9,\n        \"num_unique_values\": 8,\n        \"samples\": [\n          6\n        ],\n        \"semantic_type\": \"\",\n        \"description\": \"\"\n      }\n    }\n  ]\n}"
            }
          },
          "metadata": {}
        }
      ]
    },
    {
      "cell_type": "code",
      "source": [
        "df.to_csv('dados.csv',index=False)"
      ],
      "metadata": {
        "id": "XIxiEhORXCks"
      },
      "execution_count": null,
      "outputs": []
    },
    {
      "cell_type": "code",
      "source": [
        "df.info()"
      ],
      "metadata": {
        "colab": {
          "base_uri": "https://localhost:8080/"
        },
        "id": "sDHKp1uAXFY5",
        "outputId": "8136a103-70b3-40bc-e68d-9783f2f2a439"
      },
      "execution_count": null,
      "outputs": [
        {
          "output_type": "stream",
          "name": "stdout",
          "text": [
            "<class 'pandas.core.frame.DataFrame'>\n",
            "RangeIndex: 10 entries, 0 to 9\n",
            "Data columns (total 11 columns):\n",
            " #   Column        Non-Null Count  Dtype \n",
            "---  ------        --------------  ----- \n",
            " 0   matricula     10 non-null     int64 \n",
            " 1   nome          10 non-null     object\n",
            " 2   cidade        10 non-null     object\n",
            " 3   estado        10 non-null     object\n",
            " 4   pais          10 non-null     object\n",
            " 5   idade         10 non-null     int64 \n",
            " 6   departamento  10 non-null     object\n",
            " 7   cargo         10 non-null     object\n",
            " 8   salario       10 non-null     int64 \n",
            " 9   escolaridade  10 non-null     object\n",
            " 10  nota          10 non-null     int64 \n",
            "dtypes: int64(4), object(7)\n",
            "memory usage: 1008.0+ bytes\n"
          ]
        }
      ]
    },
    {
      "cell_type": "code",
      "source": [
        "# Cria a tabela funcionários\n",
        "spark.sql('''\n",
        "CREATE TABLE IF NOT EXISTS funcionarios (\n",
        "  matricula INT,\n",
        "  nome STRING,\n",
        "  cidade STRING,\n",
        "  estado STRING,\n",
        "  pais STRING,\n",
        "  idade INT,\n",
        "  departamento STRING,\n",
        "  cargo STRING,\n",
        "  salario DOUBLE,\n",
        "  escolaridade STRING,\n",
        "  nota INT\n",
        ")\n",
        "\n",
        "USING CSV\n",
        "OPTIONS (path '/content/dados.csv', header 'true', inferSchema 'true')\n",
        "''')\n",
        "funcionarios = spark.sql('''\n",
        "SELECT *\n",
        "FROM funcionarios\n",
        "''')"
      ],
      "metadata": {
        "id": "6djdfDChXIHe"
      },
      "execution_count": null,
      "outputs": []
    },
    {
      "cell_type": "code",
      "source": [
        "funcionarios.show()"
      ],
      "metadata": {
        "colab": {
          "base_uri": "https://localhost:8080/"
        },
        "id": "-GvvvzyrYNMO",
        "outputId": "0500b14c-8c01-41f3-ae5f-b0a3fcf04b18"
      },
      "execution_count": null,
      "outputs": [
        {
          "output_type": "stream",
          "name": "stdout",
          "text": [
            "+---------+--------+---------+------+------+-----+------------+-----------+-------+------------+----+\n",
            "|matricula|    nome|   cidade|estado|  pais|idade|departamento|      cargo|salario|escolaridade|nota|\n",
            "+---------+--------+---------+------+------+-----+------------+-----------+-------+------------+----+\n",
            "|        1|   Lucas|  Atibaia|    SP|Brasil|   35|     Compras|    Gerente|25000.0|    Superior|   8|\n",
            "|        2|     Ana|São Paulo|    SP|Brasil|   29|      Vendas|Coordenador|12000.0|    Superior|   6|\n",
            "|        3|   Luiza|   Santos|    SP|Brasil|   38|    Finanças|    Gerente|28000.0|         MBA|   9|\n",
            "|        4|Fernando|  Atibaia|    SP|Brasil|   36|   Marketing|    Diretor|40000.0|    Mestrado|   7|\n",
            "|        5|  Sandra|  Atibaia|    SP|Brasil|   28|    Produção|   Analista|23000.0|    Superior|   5|\n",
            "|        6| Douglas| Bragança|    SP|Brasil|   29|    Finanças|   Analista|11000.0|    Superior|   9|\n",
            "|        7| Eduardo|  Extrema|    MG|Brasil|   30|   Marketing|    Gerente|12000.0|         MBA|   4|\n",
            "|        8|   Ester|  Itapeva|    MG|Brasil|   29|     Compras|   Analista|10000.0|    Superior|   2|\n",
            "|        9|   Pedro|  Extrema|    MG|Brasil|   30|   Marketing|   Analista|13000.0|    Superior|   1|\n",
            "|       10|   Maria|  Extrema|    MG|Brasil|   40|    Produção|   Analista|12000.0|         MBA|   7|\n",
            "+---------+--------+---------+------+------+-----+------------+-----------+-------+------------+----+\n",
            "\n"
          ]
        }
      ]
    },
    {
      "cell_type": "code",
      "source": [
        "df = funcionarios.toPandas()\n",
        "display(df)"
      ],
      "metadata": {
        "colab": {
          "base_uri": "https://localhost:8080/",
          "height": 363
        },
        "id": "WU0Ssm8yX3c0",
        "outputId": "cd479693-ea2b-4dec-b5f6-b4b7a6a93c64"
      },
      "execution_count": null,
      "outputs": [
        {
          "output_type": "display_data",
          "data": {
            "text/plain": [
              "   matricula      nome     cidade estado    pais  idade departamento  \\\n",
              "0          1     Lucas    Atibaia     SP  Brasil     35      Compras   \n",
              "1          2       Ana  São Paulo     SP  Brasil     29       Vendas   \n",
              "2          3     Luiza     Santos     SP  Brasil     38     Finanças   \n",
              "3          4  Fernando    Atibaia     SP  Brasil     36    Marketing   \n",
              "4          5    Sandra    Atibaia     SP  Brasil     28     Produção   \n",
              "5          6   Douglas   Bragança     SP  Brasil     29     Finanças   \n",
              "6          7   Eduardo    Extrema     MG  Brasil     30    Marketing   \n",
              "7          8     Ester    Itapeva     MG  Brasil     29      Compras   \n",
              "8          9     Pedro    Extrema     MG  Brasil     30    Marketing   \n",
              "9         10     Maria    Extrema     MG  Brasil     40     Produção   \n",
              "\n",
              "         cargo  salario escolaridade  nota  \n",
              "0      Gerente  25000.0     Superior     8  \n",
              "1  Coordenador  12000.0     Superior     6  \n",
              "2      Gerente  28000.0          MBA     9  \n",
              "3      Diretor  40000.0     Mestrado     7  \n",
              "4     Analista  23000.0     Superior     5  \n",
              "5     Analista  11000.0     Superior     9  \n",
              "6      Gerente  12000.0          MBA     4  \n",
              "7     Analista  10000.0     Superior     2  \n",
              "8     Analista  13000.0     Superior     1  \n",
              "9     Analista  12000.0          MBA     7  "
            ],
            "text/html": [
              "\n",
              "  <div id=\"df-52c8bdc6-bd68-4d5c-9f03-793bc27880bd\" class=\"colab-df-container\">\n",
              "    <div>\n",
              "<style scoped>\n",
              "    .dataframe tbody tr th:only-of-type {\n",
              "        vertical-align: middle;\n",
              "    }\n",
              "\n",
              "    .dataframe tbody tr th {\n",
              "        vertical-align: top;\n",
              "    }\n",
              "\n",
              "    .dataframe thead th {\n",
              "        text-align: right;\n",
              "    }\n",
              "</style>\n",
              "<table border=\"1\" class=\"dataframe\">\n",
              "  <thead>\n",
              "    <tr style=\"text-align: right;\">\n",
              "      <th></th>\n",
              "      <th>matricula</th>\n",
              "      <th>nome</th>\n",
              "      <th>cidade</th>\n",
              "      <th>estado</th>\n",
              "      <th>pais</th>\n",
              "      <th>idade</th>\n",
              "      <th>departamento</th>\n",
              "      <th>cargo</th>\n",
              "      <th>salario</th>\n",
              "      <th>escolaridade</th>\n",
              "      <th>nota</th>\n",
              "    </tr>\n",
              "  </thead>\n",
              "  <tbody>\n",
              "    <tr>\n",
              "      <th>0</th>\n",
              "      <td>1</td>\n",
              "      <td>Lucas</td>\n",
              "      <td>Atibaia</td>\n",
              "      <td>SP</td>\n",
              "      <td>Brasil</td>\n",
              "      <td>35</td>\n",
              "      <td>Compras</td>\n",
              "      <td>Gerente</td>\n",
              "      <td>25000.0</td>\n",
              "      <td>Superior</td>\n",
              "      <td>8</td>\n",
              "    </tr>\n",
              "    <tr>\n",
              "      <th>1</th>\n",
              "      <td>2</td>\n",
              "      <td>Ana</td>\n",
              "      <td>São Paulo</td>\n",
              "      <td>SP</td>\n",
              "      <td>Brasil</td>\n",
              "      <td>29</td>\n",
              "      <td>Vendas</td>\n",
              "      <td>Coordenador</td>\n",
              "      <td>12000.0</td>\n",
              "      <td>Superior</td>\n",
              "      <td>6</td>\n",
              "    </tr>\n",
              "    <tr>\n",
              "      <th>2</th>\n",
              "      <td>3</td>\n",
              "      <td>Luiza</td>\n",
              "      <td>Santos</td>\n",
              "      <td>SP</td>\n",
              "      <td>Brasil</td>\n",
              "      <td>38</td>\n",
              "      <td>Finanças</td>\n",
              "      <td>Gerente</td>\n",
              "      <td>28000.0</td>\n",
              "      <td>MBA</td>\n",
              "      <td>9</td>\n",
              "    </tr>\n",
              "    <tr>\n",
              "      <th>3</th>\n",
              "      <td>4</td>\n",
              "      <td>Fernando</td>\n",
              "      <td>Atibaia</td>\n",
              "      <td>SP</td>\n",
              "      <td>Brasil</td>\n",
              "      <td>36</td>\n",
              "      <td>Marketing</td>\n",
              "      <td>Diretor</td>\n",
              "      <td>40000.0</td>\n",
              "      <td>Mestrado</td>\n",
              "      <td>7</td>\n",
              "    </tr>\n",
              "    <tr>\n",
              "      <th>4</th>\n",
              "      <td>5</td>\n",
              "      <td>Sandra</td>\n",
              "      <td>Atibaia</td>\n",
              "      <td>SP</td>\n",
              "      <td>Brasil</td>\n",
              "      <td>28</td>\n",
              "      <td>Produção</td>\n",
              "      <td>Analista</td>\n",
              "      <td>23000.0</td>\n",
              "      <td>Superior</td>\n",
              "      <td>5</td>\n",
              "    </tr>\n",
              "    <tr>\n",
              "      <th>5</th>\n",
              "      <td>6</td>\n",
              "      <td>Douglas</td>\n",
              "      <td>Bragança</td>\n",
              "      <td>SP</td>\n",
              "      <td>Brasil</td>\n",
              "      <td>29</td>\n",
              "      <td>Finanças</td>\n",
              "      <td>Analista</td>\n",
              "      <td>11000.0</td>\n",
              "      <td>Superior</td>\n",
              "      <td>9</td>\n",
              "    </tr>\n",
              "    <tr>\n",
              "      <th>6</th>\n",
              "      <td>7</td>\n",
              "      <td>Eduardo</td>\n",
              "      <td>Extrema</td>\n",
              "      <td>MG</td>\n",
              "      <td>Brasil</td>\n",
              "      <td>30</td>\n",
              "      <td>Marketing</td>\n",
              "      <td>Gerente</td>\n",
              "      <td>12000.0</td>\n",
              "      <td>MBA</td>\n",
              "      <td>4</td>\n",
              "    </tr>\n",
              "    <tr>\n",
              "      <th>7</th>\n",
              "      <td>8</td>\n",
              "      <td>Ester</td>\n",
              "      <td>Itapeva</td>\n",
              "      <td>MG</td>\n",
              "      <td>Brasil</td>\n",
              "      <td>29</td>\n",
              "      <td>Compras</td>\n",
              "      <td>Analista</td>\n",
              "      <td>10000.0</td>\n",
              "      <td>Superior</td>\n",
              "      <td>2</td>\n",
              "    </tr>\n",
              "    <tr>\n",
              "      <th>8</th>\n",
              "      <td>9</td>\n",
              "      <td>Pedro</td>\n",
              "      <td>Extrema</td>\n",
              "      <td>MG</td>\n",
              "      <td>Brasil</td>\n",
              "      <td>30</td>\n",
              "      <td>Marketing</td>\n",
              "      <td>Analista</td>\n",
              "      <td>13000.0</td>\n",
              "      <td>Superior</td>\n",
              "      <td>1</td>\n",
              "    </tr>\n",
              "    <tr>\n",
              "      <th>9</th>\n",
              "      <td>10</td>\n",
              "      <td>Maria</td>\n",
              "      <td>Extrema</td>\n",
              "      <td>MG</td>\n",
              "      <td>Brasil</td>\n",
              "      <td>40</td>\n",
              "      <td>Produção</td>\n",
              "      <td>Analista</td>\n",
              "      <td>12000.0</td>\n",
              "      <td>MBA</td>\n",
              "      <td>7</td>\n",
              "    </tr>\n",
              "  </tbody>\n",
              "</table>\n",
              "</div>\n",
              "    <div class=\"colab-df-buttons\">\n",
              "\n",
              "  <div class=\"colab-df-container\">\n",
              "    <button class=\"colab-df-convert\" onclick=\"convertToInteractive('df-52c8bdc6-bd68-4d5c-9f03-793bc27880bd')\"\n",
              "            title=\"Convert this dataframe to an interactive table.\"\n",
              "            style=\"display:none;\">\n",
              "\n",
              "  <svg xmlns=\"http://www.w3.org/2000/svg\" height=\"24px\" viewBox=\"0 -960 960 960\">\n",
              "    <path d=\"M120-120v-720h720v720H120Zm60-500h600v-160H180v160Zm220 220h160v-160H400v160Zm0 220h160v-160H400v160ZM180-400h160v-160H180v160Zm440 0h160v-160H620v160ZM180-180h160v-160H180v160Zm440 0h160v-160H620v160Z\"/>\n",
              "  </svg>\n",
              "    </button>\n",
              "\n",
              "  <style>\n",
              "    .colab-df-container {\n",
              "      display:flex;\n",
              "      gap: 12px;\n",
              "    }\n",
              "\n",
              "    .colab-df-convert {\n",
              "      background-color: #E8F0FE;\n",
              "      border: none;\n",
              "      border-radius: 50%;\n",
              "      cursor: pointer;\n",
              "      display: none;\n",
              "      fill: #1967D2;\n",
              "      height: 32px;\n",
              "      padding: 0 0 0 0;\n",
              "      width: 32px;\n",
              "    }\n",
              "\n",
              "    .colab-df-convert:hover {\n",
              "      background-color: #E2EBFA;\n",
              "      box-shadow: 0px 1px 2px rgba(60, 64, 67, 0.3), 0px 1px 3px 1px rgba(60, 64, 67, 0.15);\n",
              "      fill: #174EA6;\n",
              "    }\n",
              "\n",
              "    .colab-df-buttons div {\n",
              "      margin-bottom: 4px;\n",
              "    }\n",
              "\n",
              "    [theme=dark] .colab-df-convert {\n",
              "      background-color: #3B4455;\n",
              "      fill: #D2E3FC;\n",
              "    }\n",
              "\n",
              "    [theme=dark] .colab-df-convert:hover {\n",
              "      background-color: #434B5C;\n",
              "      box-shadow: 0px 1px 3px 1px rgba(0, 0, 0, 0.15);\n",
              "      filter: drop-shadow(0px 1px 2px rgba(0, 0, 0, 0.3));\n",
              "      fill: #FFFFFF;\n",
              "    }\n",
              "  </style>\n",
              "\n",
              "    <script>\n",
              "      const buttonEl =\n",
              "        document.querySelector('#df-52c8bdc6-bd68-4d5c-9f03-793bc27880bd button.colab-df-convert');\n",
              "      buttonEl.style.display =\n",
              "        google.colab.kernel.accessAllowed ? 'block' : 'none';\n",
              "\n",
              "      async function convertToInteractive(key) {\n",
              "        const element = document.querySelector('#df-52c8bdc6-bd68-4d5c-9f03-793bc27880bd');\n",
              "        const dataTable =\n",
              "          await google.colab.kernel.invokeFunction('convertToInteractive',\n",
              "                                                    [key], {});\n",
              "        if (!dataTable) return;\n",
              "\n",
              "        const docLinkHtml = 'Like what you see? Visit the ' +\n",
              "          '<a target=\"_blank\" href=https://colab.research.google.com/notebooks/data_table.ipynb>data table notebook</a>'\n",
              "          + ' to learn more about interactive tables.';\n",
              "        element.innerHTML = '';\n",
              "        dataTable['output_type'] = 'display_data';\n",
              "        await google.colab.output.renderOutput(dataTable, element);\n",
              "        const docLink = document.createElement('div');\n",
              "        docLink.innerHTML = docLinkHtml;\n",
              "        element.appendChild(docLink);\n",
              "      }\n",
              "    </script>\n",
              "  </div>\n",
              "\n",
              "\n",
              "<div id=\"df-46f80f41-4ee0-4b37-8a69-c3bca0407f0a\">\n",
              "  <button class=\"colab-df-quickchart\" onclick=\"quickchart('df-46f80f41-4ee0-4b37-8a69-c3bca0407f0a')\"\n",
              "            title=\"Suggest charts\"\n",
              "            style=\"display:none;\">\n",
              "\n",
              "<svg xmlns=\"http://www.w3.org/2000/svg\" height=\"24px\"viewBox=\"0 0 24 24\"\n",
              "     width=\"24px\">\n",
              "    <g>\n",
              "        <path d=\"M19 3H5c-1.1 0-2 .9-2 2v14c0 1.1.9 2 2 2h14c1.1 0 2-.9 2-2V5c0-1.1-.9-2-2-2zM9 17H7v-7h2v7zm4 0h-2V7h2v10zm4 0h-2v-4h2v4z\"/>\n",
              "    </g>\n",
              "</svg>\n",
              "  </button>\n",
              "\n",
              "<style>\n",
              "  .colab-df-quickchart {\n",
              "      --bg-color: #E8F0FE;\n",
              "      --fill-color: #1967D2;\n",
              "      --hover-bg-color: #E2EBFA;\n",
              "      --hover-fill-color: #174EA6;\n",
              "      --disabled-fill-color: #AAA;\n",
              "      --disabled-bg-color: #DDD;\n",
              "  }\n",
              "\n",
              "  [theme=dark] .colab-df-quickchart {\n",
              "      --bg-color: #3B4455;\n",
              "      --fill-color: #D2E3FC;\n",
              "      --hover-bg-color: #434B5C;\n",
              "      --hover-fill-color: #FFFFFF;\n",
              "      --disabled-bg-color: #3B4455;\n",
              "      --disabled-fill-color: #666;\n",
              "  }\n",
              "\n",
              "  .colab-df-quickchart {\n",
              "    background-color: var(--bg-color);\n",
              "    border: none;\n",
              "    border-radius: 50%;\n",
              "    cursor: pointer;\n",
              "    display: none;\n",
              "    fill: var(--fill-color);\n",
              "    height: 32px;\n",
              "    padding: 0;\n",
              "    width: 32px;\n",
              "  }\n",
              "\n",
              "  .colab-df-quickchart:hover {\n",
              "    background-color: var(--hover-bg-color);\n",
              "    box-shadow: 0 1px 2px rgba(60, 64, 67, 0.3), 0 1px 3px 1px rgba(60, 64, 67, 0.15);\n",
              "    fill: var(--button-hover-fill-color);\n",
              "  }\n",
              "\n",
              "  .colab-df-quickchart-complete:disabled,\n",
              "  .colab-df-quickchart-complete:disabled:hover {\n",
              "    background-color: var(--disabled-bg-color);\n",
              "    fill: var(--disabled-fill-color);\n",
              "    box-shadow: none;\n",
              "  }\n",
              "\n",
              "  .colab-df-spinner {\n",
              "    border: 2px solid var(--fill-color);\n",
              "    border-color: transparent;\n",
              "    border-bottom-color: var(--fill-color);\n",
              "    animation:\n",
              "      spin 1s steps(1) infinite;\n",
              "  }\n",
              "\n",
              "  @keyframes spin {\n",
              "    0% {\n",
              "      border-color: transparent;\n",
              "      border-bottom-color: var(--fill-color);\n",
              "      border-left-color: var(--fill-color);\n",
              "    }\n",
              "    20% {\n",
              "      border-color: transparent;\n",
              "      border-left-color: var(--fill-color);\n",
              "      border-top-color: var(--fill-color);\n",
              "    }\n",
              "    30% {\n",
              "      border-color: transparent;\n",
              "      border-left-color: var(--fill-color);\n",
              "      border-top-color: var(--fill-color);\n",
              "      border-right-color: var(--fill-color);\n",
              "    }\n",
              "    40% {\n",
              "      border-color: transparent;\n",
              "      border-right-color: var(--fill-color);\n",
              "      border-top-color: var(--fill-color);\n",
              "    }\n",
              "    60% {\n",
              "      border-color: transparent;\n",
              "      border-right-color: var(--fill-color);\n",
              "    }\n",
              "    80% {\n",
              "      border-color: transparent;\n",
              "      border-right-color: var(--fill-color);\n",
              "      border-bottom-color: var(--fill-color);\n",
              "    }\n",
              "    90% {\n",
              "      border-color: transparent;\n",
              "      border-bottom-color: var(--fill-color);\n",
              "    }\n",
              "  }\n",
              "</style>\n",
              "\n",
              "  <script>\n",
              "    async function quickchart(key) {\n",
              "      const quickchartButtonEl =\n",
              "        document.querySelector('#' + key + ' button');\n",
              "      quickchartButtonEl.disabled = true;  // To prevent multiple clicks.\n",
              "      quickchartButtonEl.classList.add('colab-df-spinner');\n",
              "      try {\n",
              "        const charts = await google.colab.kernel.invokeFunction(\n",
              "            'suggestCharts', [key], {});\n",
              "      } catch (error) {\n",
              "        console.error('Error during call to suggestCharts:', error);\n",
              "      }\n",
              "      quickchartButtonEl.classList.remove('colab-df-spinner');\n",
              "      quickchartButtonEl.classList.add('colab-df-quickchart-complete');\n",
              "    }\n",
              "    (() => {\n",
              "      let quickchartButtonEl =\n",
              "        document.querySelector('#df-46f80f41-4ee0-4b37-8a69-c3bca0407f0a button');\n",
              "      quickchartButtonEl.style.display =\n",
              "        google.colab.kernel.accessAllowed ? 'block' : 'none';\n",
              "    })();\n",
              "  </script>\n",
              "</div>\n",
              "\n",
              "  <div id=\"id_eea0736e-92c5-4c20-83d2-9bd47307b200\">\n",
              "    <style>\n",
              "      .colab-df-generate {\n",
              "        background-color: #E8F0FE;\n",
              "        border: none;\n",
              "        border-radius: 50%;\n",
              "        cursor: pointer;\n",
              "        display: none;\n",
              "        fill: #1967D2;\n",
              "        height: 32px;\n",
              "        padding: 0 0 0 0;\n",
              "        width: 32px;\n",
              "      }\n",
              "\n",
              "      .colab-df-generate:hover {\n",
              "        background-color: #E2EBFA;\n",
              "        box-shadow: 0px 1px 2px rgba(60, 64, 67, 0.3), 0px 1px 3px 1px rgba(60, 64, 67, 0.15);\n",
              "        fill: #174EA6;\n",
              "      }\n",
              "\n",
              "      [theme=dark] .colab-df-generate {\n",
              "        background-color: #3B4455;\n",
              "        fill: #D2E3FC;\n",
              "      }\n",
              "\n",
              "      [theme=dark] .colab-df-generate:hover {\n",
              "        background-color: #434B5C;\n",
              "        box-shadow: 0px 1px 3px 1px rgba(0, 0, 0, 0.15);\n",
              "        filter: drop-shadow(0px 1px 2px rgba(0, 0, 0, 0.3));\n",
              "        fill: #FFFFFF;\n",
              "      }\n",
              "    </style>\n",
              "    <button class=\"colab-df-generate\" onclick=\"generateWithVariable('df')\"\n",
              "            title=\"Generate code using this dataframe.\"\n",
              "            style=\"display:none;\">\n",
              "\n",
              "  <svg xmlns=\"http://www.w3.org/2000/svg\" height=\"24px\"viewBox=\"0 0 24 24\"\n",
              "       width=\"24px\">\n",
              "    <path d=\"M7,19H8.4L18.45,9,17,7.55,7,17.6ZM5,21V16.75L18.45,3.32a2,2,0,0,1,2.83,0l1.4,1.43a1.91,1.91,0,0,1,.58,1.4,1.91,1.91,0,0,1-.58,1.4L9.25,21ZM18.45,9,17,7.55Zm-12,3A5.31,5.31,0,0,0,4.9,8.1,5.31,5.31,0,0,0,1,6.5,5.31,5.31,0,0,0,4.9,4.9,5.31,5.31,0,0,0,6.5,1,5.31,5.31,0,0,0,8.1,4.9,5.31,5.31,0,0,0,12,6.5,5.46,5.46,0,0,0,6.5,12Z\"/>\n",
              "  </svg>\n",
              "    </button>\n",
              "    <script>\n",
              "      (() => {\n",
              "      const buttonEl =\n",
              "        document.querySelector('#id_eea0736e-92c5-4c20-83d2-9bd47307b200 button.colab-df-generate');\n",
              "      buttonEl.style.display =\n",
              "        google.colab.kernel.accessAllowed ? 'block' : 'none';\n",
              "\n",
              "      buttonEl.onclick = () => {\n",
              "        google.colab.notebook.generateWithVariable('df');\n",
              "      }\n",
              "      })();\n",
              "    </script>\n",
              "  </div>\n",
              "\n",
              "    </div>\n",
              "  </div>\n"
            ],
            "application/vnd.google.colaboratory.intrinsic+json": {
              "type": "dataframe",
              "variable_name": "df",
              "summary": "{\n  \"name\": \"df\",\n  \"rows\": 10,\n  \"fields\": [\n    {\n      \"column\": \"matricula\",\n      \"properties\": {\n        \"dtype\": \"int32\",\n        \"num_unique_values\": 10,\n        \"samples\": [\n          9,\n          2,\n          6\n        ],\n        \"semantic_type\": \"\",\n        \"description\": \"\"\n      }\n    },\n    {\n      \"column\": \"nome\",\n      \"properties\": {\n        \"dtype\": \"string\",\n        \"num_unique_values\": 10,\n        \"samples\": [\n          \"Pedro\",\n          \"Ana\",\n          \"Douglas\"\n        ],\n        \"semantic_type\": \"\",\n        \"description\": \"\"\n      }\n    },\n    {\n      \"column\": \"cidade\",\n      \"properties\": {\n        \"dtype\": \"string\",\n        \"num_unique_values\": 6,\n        \"samples\": [\n          \"Atibaia\",\n          \"S\\u00e3o Paulo\",\n          \"Itapeva\"\n        ],\n        \"semantic_type\": \"\",\n        \"description\": \"\"\n      }\n    },\n    {\n      \"column\": \"estado\",\n      \"properties\": {\n        \"dtype\": \"category\",\n        \"num_unique_values\": 2,\n        \"samples\": [\n          \"MG\",\n          \"SP\"\n        ],\n        \"semantic_type\": \"\",\n        \"description\": \"\"\n      }\n    },\n    {\n      \"column\": \"pais\",\n      \"properties\": {\n        \"dtype\": \"category\",\n        \"num_unique_values\": 1,\n        \"samples\": [\n          \"Brasil\"\n        ],\n        \"semantic_type\": \"\",\n        \"description\": \"\"\n      }\n    },\n    {\n      \"column\": \"idade\",\n      \"properties\": {\n        \"dtype\": \"int32\",\n        \"num_unique_values\": 7,\n        \"samples\": [\n          35\n        ],\n        \"semantic_type\": \"\",\n        \"description\": \"\"\n      }\n    },\n    {\n      \"column\": \"departamento\",\n      \"properties\": {\n        \"dtype\": \"string\",\n        \"num_unique_values\": 5,\n        \"samples\": [\n          \"Vendas\"\n        ],\n        \"semantic_type\": \"\",\n        \"description\": \"\"\n      }\n    },\n    {\n      \"column\": \"cargo\",\n      \"properties\": {\n        \"dtype\": \"category\",\n        \"num_unique_values\": 4,\n        \"samples\": [\n          \"Coordenador\"\n        ],\n        \"semantic_type\": \"\",\n        \"description\": \"\"\n      }\n    },\n    {\n      \"column\": \"salario\",\n      \"properties\": {\n        \"dtype\": \"number\",\n        \"std\": 10002.221975363496,\n        \"min\": 10000.0,\n        \"max\": 40000.0,\n        \"num_unique_values\": 8,\n        \"samples\": [\n          12000.0\n        ],\n        \"semantic_type\": \"\",\n        \"description\": \"\"\n      }\n    },\n    {\n      \"column\": \"escolaridade\",\n      \"properties\": {\n        \"dtype\": \"category\",\n        \"num_unique_values\": 3,\n        \"samples\": [\n          \"Superior\"\n        ],\n        \"semantic_type\": \"\",\n        \"description\": \"\"\n      }\n    },\n    {\n      \"column\": \"nota\",\n      \"properties\": {\n        \"dtype\": \"int32\",\n        \"num_unique_values\": 8,\n        \"samples\": [\n          6\n        ],\n        \"semantic_type\": \"\",\n        \"description\": \"\"\n      }\n    }\n  ]\n}"
            }
          },
          "metadata": {}
        }
      ]
    },
    {
      "cell_type": "code",
      "source": [
        "# Convertendo um ojeto pandas em um df pyspark\n",
        "funcionarios2 = spark.createDataFrame(df.to_dict(orient='records'))"
      ],
      "metadata": {
        "id": "QyJU4RQ_Yajr"
      },
      "execution_count": null,
      "outputs": []
    },
    {
      "cell_type": "code",
      "source": [
        "funcionarios2.show()"
      ],
      "metadata": {
        "colab": {
          "base_uri": "https://localhost:8080/"
        },
        "id": "owtKgA5BYg1X",
        "outputId": "861474e9-90cf-48a3-a093-6dc879b217dc"
      },
      "execution_count": null,
      "outputs": [
        {
          "output_type": "stream",
          "name": "stdout",
          "text": [
            "+-----------+---------+------------+------------+------+-----+---------+--------+----+------+-------+\n",
            "|      cargo|   cidade|departamento|escolaridade|estado|idade|matricula|    nome|nota|  pais|salario|\n",
            "+-----------+---------+------------+------------+------+-----+---------+--------+----+------+-------+\n",
            "|    Gerente|  Atibaia|     Compras|    Superior|    SP|   35|        1|   Lucas|   8|Brasil|25000.0|\n",
            "|Coordenador|São Paulo|      Vendas|    Superior|    SP|   29|        2|     Ana|   6|Brasil|12000.0|\n",
            "|    Gerente|   Santos|    Finanças|         MBA|    SP|   38|        3|   Luiza|   9|Brasil|28000.0|\n",
            "|    Diretor|  Atibaia|   Marketing|    Mestrado|    SP|   36|        4|Fernando|   7|Brasil|40000.0|\n",
            "|   Analista|  Atibaia|    Produção|    Superior|    SP|   28|        5|  Sandra|   5|Brasil|23000.0|\n",
            "|   Analista| Bragança|    Finanças|    Superior|    SP|   29|        6| Douglas|   9|Brasil|11000.0|\n",
            "|    Gerente|  Extrema|   Marketing|         MBA|    MG|   30|        7| Eduardo|   4|Brasil|12000.0|\n",
            "|   Analista|  Itapeva|     Compras|    Superior|    MG|   29|        8|   Ester|   2|Brasil|10000.0|\n",
            "|   Analista|  Extrema|   Marketing|    Superior|    MG|   30|        9|   Pedro|   1|Brasil|13000.0|\n",
            "|   Analista|  Extrema|    Produção|         MBA|    MG|   40|       10|   Maria|   7|Brasil|12000.0|\n",
            "+-----------+---------+------------+------------+------+-----+---------+--------+----+------+-------+\n",
            "\n"
          ]
        }
      ]
    },
    {
      "cell_type": "markdown",
      "source": [
        "![image.png](data:image/png;base64,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)"
      ],
      "metadata": {
        "id": "qldZf8-kYpMf"
      }
    },
    {
      "cell_type": "markdown",
      "source": [
        "![image.png](data:image/png;base64,iVBORw0KGgoAAAANSUhEUgAAA4sAAAEICAIAAAB5yvZrAAAgAElEQVR4Ae2974sk13X/n3+gdljMNrEIlpDEDh0HKdlkx1lFoBU7CFoKSCwmKGShFQu1ExQ/MEtIDI6j7DYOEriDwGAhjyUCG+S2UJw4oiPWxh2NI1aOtemRkEesNBJMM0ML0g/UuAf6gaC+/s7h8+bsuVU1t3/Xj3c/kG5X3XvuOa97us97blX1/kbIFwmQAAmQAAmQAAmQAAmkicBvpMkZ+kICJEACJEACJEACJEACIRUqk4AESIAESIAESIAESCBdBKhQ07Ue9IYESIAESIAESIAESIAKlTlAAiRAAiRAAiRAAiSQLgJUqOlaD3pDAiRAAiRAAiRAAiRAhcocIAESIAESIAESIAESSBcBKtR0rQe9IQESIAESIAESIAESSFKoH3/88bvvvnvt2rWf8UUCJEACJEACJEACJEACYxK4du3au++++/HHH4djvqIV6nA43Nraun79+vvvv9/tdvf5IoEsEPjZz36WBTfpIwmQAAmQAAkUhcBHH3303nvvvfnmm1tbW8Ph0F+mRijU4XB47dq19957ryjwGGdeCFCh5mUlGQcJkAAJkECuCOzt7b399tvXrl3zF6kRCnVra4vyNFd5UZhgqFALs9QMlARIgARIIHsE3nnnna2tLc9tVKtQP/744+vXr2cvaHpMAvv7VKjMAhIgARIgARJILYG9vb0333zT855Uq1Dffffd999/P7Wx0TESSCBAhZoAh6dIgARIgARIYOkEtre33333XZ9tVKtQr127xkejlr5+dGAyAlSok3HjKBIgARIgARJYDIGPPvro2rVrkyhU1vjFrBBnmQcBZu88qNImCZAACZAACcyQwM9+9jMq1BnypKkMEKBCzcAi0UUSIAESIIFiE6BCLfb6FzJ6KtRCLjuDJgESIAESyBIBKtQsrRZ9nQkBKtSZYKQREiABEiABEpgfASrU+bGl5ZQSoEJN6cLQLRIgARIgARL4fwSoUP8fCf6/MASoUAuz1AyUBEiABEggqwSoULO6cvR7YgJUqBOj40ASIAESIAESWAwBKtTFcOYsKSKQUYXa7XZfe+21GzdupAglXSEBEiABEiCB+RBYnEJ96qmnAud15cqV+cRFqyQQS2AChXr16tUTJ07o/L3jjjueeOKJ119/fW9vL3ammZ5oNBpBEDzwwAM7OzszNUxjJEACJEACJJA6AotWqMePHz+pXi+//PL8kGxtbd13331BEDz44IPPPffcww8/3Gg05jcdLWeFwDQK9fbbbz958uSdd965srIigvWJJ5748MMPFxD7lStXPvOZz/zFX/zF7u5u8nSNRuP48eO33nrr17/+9aeffvq+++579913k4fwLAmQAAmQAAmkisCiFeqFCxcWFv9zzz23vr7+3HPPPfjgg0EQfOELX/jFL36xsNk5UWoJTKxQT548ubW1JXHt7u5+5zvfkY3Vb3zjGwvbST2S6nvvvXfu3LnLly9//etfv/XWW1dWVr75zW+mx70j/WcHEiABEiABEtjf38+zQuUCk0AkgZkoVLH83e9+99ixY3feeefPf/7zyLl4kARIgARIgARIYAICy1eoW1tbJ0+ePHHixNWrVyUAOYL9qgsXLgRB8M///M/PPPPMLbfcEgTBqVOnfvKTnyDaDz/88Omnn15dXZWrrr/3e7/3xhtvdLvdF1544Y/+6I/kauwtt9xSr9dxeXR3d/fb3/42hqyurj7//PPdbhc22cgxgRkq1Pfee+/MmTNBELz44otC7D/+4z/uvfdeScW1tbVXXnlF9i+vX7/+pS996fjx40EQHD9+/O///u+lf7fb3djYOHXqlAy57bbb/v3f//2DDz44d+7ciRMnfvjDH/75n/95EARXDl9BEOirEK+//vof//Efw+bf/M3f7O/vX79+/ctf/vJtt90mBu+///433ngDq7mzs/N3f/d3OKs9RB82SIAESIAESGDpBDKjUP/wD/9wdXX1woULJ0+eFJH6zjvv7O/v37hxQy7ir6ysPPzwwxcuXFhbW/vxj3+8tbW1urq6trb2+OOPX7hw4bOf/eyvC/a3vvWt/f393d3dxx9/PAiCEydO/Mmf/MnDDz8sKvYrX/kKL4YuPSMX4MAMFere3t6f/umfBkHw1FNP7e/vv/DCCysrKydPnnzsscck61ZWVl5++eV33nlHNOjZs2cff/zxc+fOVatVScUnnnhCpOS5c+cee+yxU6dOvfTSS1CojzzyiJx1FeqLL74o2vS3f/u3H3vssQceeOCJJ57Y399/6qmnJLEff/zxs2fPmg/LAw888Gs9feutt164cOHcuXNi/J/+6Z8WgJ1TkAAJkAAJkIA/gUUrVKmI8l/ZJfXcQ73//vvld3befvvtu++++9ixY/KU1be+9a0gCE6fPn39+nUd9gcffPDTn/4UivPFF18MguChhx766KOPnn/++SAIfud3fge3pb722mu3HL7a7bY2wnYuCcxQoe7v78se/1NPPfXWW299/vOfR6Lu7+9///vfP3bs2Be/+MX//M//PHHixNmzZ99///39/f29vT15dOnll19eWVm5/fbbf/zjH2vUolAlS3/605/KqStXrmAPVSTvsWPH/vEf/xFJLt3a7TZ+ker9998/e/YsPixf+9rX5NcA0EEk9d133/32229rB9gmARIgARIggeUSWLRC1c/ynz179p133vFUqM8995yQwq7VlStXPvroo4ceeujYsWPf//73XY5bW1v1ev2RRx65/fbbRROfO3fugw8+kMum+rl+2NQHXYM8kg8CM1Sou7u7X/ziF4MgaDQaL730kv4DDO1z5869/vrrd955p+hL/QNVf/mXfxkEwTPPPGPAQqHqU1qhvvzyy8eOHatUKu7PCHS73ZdffvnLX/7y6dOnS6WSuHHlypWdnZ0HHngAalVmNBLWuMG3JEACJEACJLAsAotWqPouOonZU6HqX06VXasrV67gYijuYQVH2RZdWVlZX1//27/9269+9atBEIhCxXB0lmujuFarj7OdPwIzVKj/+7//u7q6evz48R/96EeiIO+///4Xbn79+l7S3d3dH/7wh3fffbfoxbvvvvu1117D/qvObaGNxJZuclArVN3WC4Q7WO64447HHnvsmWeeueuuu+Q2Vtg0H5bIj4O2yTYJkAAJkAAJLJ5AGhXqm2++Kb86Kb/s41ZQHJGia7aF5PY+2dn69re/LUylomuFqrdLsYeKndrFrwRnXBiBWSnUvb29b3zjG/jLR3Iscl9TQtvb23vjjTeq1WoQBJ///OffeustyWSditIzUk1qVSptuWtFc/vRj350/PjxL3zhC7/85S/39/fFjlao5sMie6iisLUdtkmABEiABEhguQSWr1ClRgZB8J3vfEdu0fuHf/iHIAjMs/x6nwkKdX9/X26tW19f397eBkoUZnnCGhtLolDj7kP93Oc+91//9V8wwkZeCcxEoe7s7Eju3XLLLbLTubm5+Vu/9VsrKysvvPCCoNvb2/vXf/3XN9544/r168jPGzdu3HvvvfLjFUjFa9euadpHKtSf//zn8q8GfPe739X3oYpyxQ2vciVBFCo+LA888IC5D/XUqVPy3KH2gW0SIAESIAESWCKB5StUFE55GP/cuXN33XXXiRMnPBXqL37xC3lK+vjx44888gie5f/KV74SBMFnP/vZCxcunD179tZbb8Ve1wcffPDQQw+5z/LX63Vd7Je4Kpx6rgQmVqhBEMjuPu5s/tznPvfKK6+It3t7e/LHlWTa448/vra29pu/+ZtXr169cuWKeb7+nnvu+eUvf6l/iWJ9fd19ll9fkdd7qHt7e/V6Xe4ZuOuuu/As/3//93/LL0mdPXv2woULt99++2c+8xko1OvXr//BH/yBeZb/1//6FH4qa67YaZwESIAESIAE/AmkQqHu7Ow8+eST8pNP586de+211+QfRj3yKr/EeePGjSeffFIeCllZWTl37tz//M//3Lhx48/+7M9WDl9PPvmkbFbJHur+/r78hOodd9whNf7ee+/9t3/7N8pT/7zJdM9pFKokzMrKyu///u8/88wzOzs7GkW3233++ef17+w+/fTTH3744ebm5n333ScZXiqVvvSlL+Hfpvrwww8vXbqEHyg9derU1atXj9xDlasNr7zyytramrh02223ffOb39zf33/ppZckse++++5/+Zd/kZ+UwiWIGzdufPWrX5XfFV5ZWXnooYdef/11HQLbJEACJEACJJAGAotTqPOO9urVq6dPn0bhn/d0tJ9dAhMo1DQHe+HCBfk11jQ7Sd9IgARIgARIYCwC+VGo7Xb7d3/3d0+cOMFLlmNlQAE750yh/tVf/VWpVHrwwQdxd2kB15QhkwAJkAAJ5IxAfhSqXLt/6KGH3B+0ytmaMZwpCeRMoco/DXDrrbfqm1anRMThJEACJEACJLBcAvlRqPKA/6lTp37yk58slylnTzmBPCnUq1evnjhx4vjx43/913+9u7ubcvJ0jwRIgARIgAQ8CeRHoXoGzG4kkCeFytUkARIgARIggVwSoELN5bIyqCQCVKhJdHiOBEiABEiABFJAgAo1BYtAFxZLgAp1sbw5GwmQAAmQAAmMTYAKdWxkHJB1AlSoWV9B+k8CJEACJJB7AlSouV9iBmgJUKFaInxPAiRAAiRAAikjQIWasgWhO/MnQIU6f8acgQRIgARIgASmIkCFOhU+Ds4iASrULK4afSYBEiABEigUASrUQi03g/3/CVChMg9IgARIgARIIOUEqFBTvkB0b/YEqFBnz5QWSYAESIAESGCmBCZXqD/jiwRIgARIgARIgARIgATmQyD0eP2G6XPjxg1zhG9JICsEmL1ZWSn6SQIkQAIkUFgCnsWaCrWwGZLDwD2TPoeRMyQSIAESIAESyAgBz2JNhZqR9aSbHgQ8k97DEruQAAmQAAmQAAnMhYBnsaZCnQt9Gl0KAc+kX4pvnJQESIAESIAESCAMQ89iTYXKbMkPAc+kz0/AjIQESIAESIAEskbAs1hToWZtYelvPAHPpI83wDMkQAIkQAIkQALzJeBZrKlQ57sMtL5IAp5Jv0iXOBcJkAAJkAAJkIAm4FmsqVA1NLazTcAz6bMdJL0nARIgARIggSwT8CzWVKhZXmT6fjMBz6S/eRDfkQAJkAAJkAAJLI6AZ7GmQl3cknCmeRPwTPp5u0H7JEACJEACJEACcQQ8i/VsFOpoNBoMBv2CvQaDwWg0ilsAHl88Ac+kX7xjnJEESIAESIAESEAIeBbrGSjUg4ODgknTm8I9ODhgzqWEgGfSp8RbukECJEACJEACBSTgWaynVaij0egmvVbIN9xJTckHzDPpU+It3SABEiABEiCBAhLwLNbTKtQCXtx3RfhgMChghqUwZM+kn7nnnU6nVCoFQdBoNGZufFkGe71euVzOU0Q+JGu1WhAE5XK51+v59GcfEiABEiCBcQl4FutpFaor14p5ZNzlYf95EPBMej216LDg5letVtN9ktsiT1utlnRrNBr50DcFVKi1Wq1SqQyHw+QV51kSIAESIIFpCHgWayrU2SjqaZaKY2dFwDPp9XSuDhsOh5VKJQgCiE7d320bSWreuv2zcsQlkxXPJ/Mz5fHK5q4I6FarVbS97cnWlKNIgATSScCzWFOh3qRQu93u+fPn2+02jtYPX3gb10hnEhTNK8+k11jidEmj0SiVSp1OR3eObOdGkpro4siYbrl5m+Z4e71erVYbDoetVos3IeQm5RgICRSWgGexzptC7Xa76+vruGZbKpW03IzTl3JcxlarVd1te3t7dXW12Wzqg267sHmWqsA9k177HKdL4o7rsdKmQnWZZPGI/4pnMTr6TAIkQALpIeBZrPOpUOv1uojIer2+urq6vb3takr3SL1eX19f73a75lSz2TxS6aZn4YvsiWfSa0QJusTcldhoNPCXj1xjlbE4KLefasHa6XTK5XKn05FLtJG7XziVfF+Bnl1v7uKeBHEj4eKvtqDvlI07rsnottCTeXHDbu3whSfGzENjBhRGhWEom4LivPZKr1EYhtpypVK5dOmSdDZuyCizcHr2uCk0BO28dk9jD8NQQtabmvpIEATSX8+uA9fHgyDQp7QdcTihcxiG5mxCDiR39s8lnbQbGxt4ok48abVa0qFWq7VaLcNN37eN/pq/8T8hOn+HTTrxLQmQwHIJeBbrnCvUdru9trbmo1CT90qrhy+jXPXb5S42ZxcCnkmvcUn9M0VROmitWavVIG6kxGKI7haGoX4LXSW3tEpBxbM45q1oncibX3GRVxyDM2IB4qbT6WxsbOjo0K7ValooXL58udfryXDEJaoL3TQZ3RabZmpRJAjNxNJoNBCXpmfki3gFn9FwrUHrGzdkiFaoejoJUMeLKSDdsKyGhqys/itCVuHixYswAlkWhiHYyp8oENmwH8cETmrLCZ0FDsxKvEgJ+CaNhM6GZFwuSTcsNOSjOCBvz5w5g+U2SwwO0gH94b/x0LzV0Xk6bAjwLQmQQBoIeBbruShUc6k9CAK5dL69vb22tvbqq6/KhXi9MSkCUbZS9K6n3tcUs7I/Kqaazebq6qqMkgvxuk+/34eydK/gy1iI12azGbmBKjLUdNbaVNppWHL64Jn0GpSrvXAWWlPqIoqukaHoJgP1WyOPZMsQEtAt3lpawQ23ga1ZcV475nY2k+oOrVbLyDVd9TUZ3RYLuidEFX6hyZzVk0pnkVCNRgNax/TBWzEFBSPH4zQ6zsKsQeoGgonMKUBGB/FcWzb04JUMMerKDNdmNRNpG8txnSPhuHklw5M7S/g+uWR800kuRrQ+dp3Rnya3v/5wzcRhg45vSYAE0kDAs1jPRaFWq1WoPWjEfr8PGSoqE+pTjkdemkeffr+v1acMgcbF1XzpI5o1CAItdrXK1KZEYmo/XQEqgjjhltY0LDl98Ex6DcroEn0KWtMVUrruopuM1W9dlaPLs1zMjZxRH0RbFA9yu9VqSQmH5EVP0zAqDWddB7Q+0GR0W4bL1NAirikzqfSH86LzJCIYgWO64TLUTho3ZCCmFre16orsL6NMjO6iG62PWeCtgaDX2jgmbyOZxAnZyM6RcEwgcC+5s9ifIJf0dLot8+pPihzRWKS/XiANeSYOI3w2SIAE0kPAs1jPXqGK+MOjRXpv0ihRSEY0RBpKN7GQrFAxCxSkkZ5QrtDHMqTdbp88eRKK04yKVKjJz0ulZ+GL7Iln0mtEbk3FWQgOfdcdNBZquZakWjzJBU1c5BWzKM9GcMCs2aDSo3AKRuQs3DMbjXJWJnJVYNxxhKPJ6HakWbCSs0ZmiYdwT2s7iQVX7TEcDVfiaMiRUcA+jAOvNFwa7lV+GIEnWjyZXU/pYyCYZfJnYuzIQH13LHyLhOMulrjn03mCXNLTSVsrTndSjcXtryG7YyOXSdYU2aXXi20SIIF0EvAs1rNXqHJtXfZQRfnh6XgtPbUK1DLU7JXqU1pHGlN4q/vAFIRsvV4XZ9AQN8wo7Zu0Yd89JUfSmQRF88oz6TUWXV/d41JrI7fT0BmSTo7ot+4mkC7PrhCBTd1wRZg2gp4J+5FxE0Ueh/+ajPigRYDxyjWVoKJwCs6LNYh+HI9U+VqhxilF2aONFEDauG7reGUKXNBHN62ZIkPW2tddJgSu7YhxnHIjSujsJpir4eC8f+e4XDKLLpY1Nxe4O6nG4vYXhSp/jLlj46KLcxixs0ECJJAqAp7Fel4KFZsWuNxvdjG11Jt+DxV7okZrGmUpD0699dZb5kdP9R2r2jG0sUeLI6aRqrUvrDOeSa/56PqK41KJIVBciYCeRi2Zt26J1eUZWlBbc9uuLJAHn/VOlYyKU9JxE7nH9VyajD4uc0kgEGSRcg2X8rX0FLNgi3gjxUqkIhFnsKOstR36i33XbUznNnS8eidP99RzRYYMIOaRIDGC4SajDBNjOaGz8VlmMf3h/1id/XNJ1KH89SJT6MzUCS+e6OyV/hqa3mmeicMInw0SIIH0EPAs1rNXqAlizuhFiDw5jvtQ9W2sWrxWq9UgCPCklL7sjiFGoeqr/DJdtVo9ffo0tnXhg54IB9FIPtvv99Oz8EX2xDPpNSK3CkpN1RLKSCIRH3hq3ug8/TZZocrUeqLW4Uu7J239CI64Jw+V93q9y5cvS58ENeb6n/AsP5SfIaOFhRjUv5FkRJXWGeIw9l/lOrJEvbGxgX8TIU5XiejXD9GLJ/BTKySZNwgCUDVnwzCM+8UAE6+Y0tra/CMOkSFrseWKMyjUBCYyr2snEqAoaX0DgLFscsnQ0J09c8kkrbyFA/JWK1STezIjVhPDMUSnWXJ0cQ5LjDBoCPAtCZBAGgh4FuvZK9R+v1+v17GHqh9XilOo/X6/3W6XSiUZpbddRXHKcbk0rxUqZoHi1P2DINCmRG42m81f3/SG6/7QoAm+HbnDSoWahowPw9Az6bW3qJHIJS1KdE/comdumtSSdKw9VPwmEaaGrtLzmm6VSmVzc7NUKrVaLeO8ljXGAqSbzKV76ri0A2IcwkhbKJVKm5ublUoFdiLlGqyJaJCp5ccy5ZTIETkeh10C0T0bhy8oVEhY176MhSqSDjoiTcmN11jWM7o60j0i82qpBIUK7RXpswszDmBkgHpGHWByZ/9c0j3L5fLW1pb7e6h6Xt1fZy82vH/wgx/IvzOMH5HVw83yITptVv+xRIWq6bFNAukk4FmsZ69QccFdxJ9IRihIKMIpG8mCMsF4wm6ou+EqdhKGYKJ0JkHRvPJM+qJhyV+85q+C/AWYoYhEKUI4juX5NGPHmoidSYAEUkXAs1jPXqGaf4HJXMGHpJuyMZlCTR4VKaaThyCKVK19YZ3xTPrC8slN4FSo6VnKhNszjnSSCvVIROxAArkk4FmsZ69Q3av8uMEUem76hqdwxES4iyDZmW63ax6iqh++YCeukcscylxQnkmfubjosCFAhWqALOxtp9PR/9iVXIKPu3HiSK+oUI9ExA4kkEsCnsV6WoU6GAziRFtxjg8Gg1zmUOaC8kz6zMVFhw0BKlQDZGFvRVPK7bO4iXbi2alQJ0bHgSSQaQKexXpahToajYqjROMiHY1Gmc6V3DjvmfS5iZeBkAAJkAAJkEDmCHgW62kVahiGBwcHcdKtCMcPDg4ylxx5ddgz6fMaPuMiARIgARIggfQT8CzWM1CoYRiORqMCXu4fDAbcPU3VJ8Ez6VPlM50hARIgARIggUIR8CzWs1GohSLLYFNLwDPpU+s/HSMBEiABEiCB3BPwLNZUqLnPhAIF6Jn0BSLCUEmABEiABEggZQQ8izUVasrWje5MQcAz6aeYgUNJgARIgARIgASmIuBZrKlQp6LMwaki4Jn0qfKZzpAACZAACZBAoQh4Fmsq1EJlRc6D9Uz6nFNgeCRAAiRAAiSQYgKexZoKNcVrSNfGJOCZ9GNaZXcSIAESIAESIIGZEfAs1hEK9QZfJEACJEACJEACJEACJDAfAj5qN0Kh+gxjHxJIIQHPP8tS6DldIgESIAESIIGCEPAs1lSoBcmHQoTpmfSFYMEgSYAESIAESCCVBDyLNRVqKlePTk1EwDPpJ7LNQSRAAiRAAiRAAjMg4FmsqVBnwJomUkLAM+lT4i3dIAESIAESIIECEvAs1lSoBcyN3IbsmfS5jZ+BkQAJkAAJkEDqCXgWayrU1K8kHfQm4Jn03vbYkQRIgARIgARIYMYEPIs1FeqMudPcEgl4Jv0SPeTUJEACJEACJFBwAp7Fmgq14HmSq/A9kz5XMTMYEiABEiABEsgUAc9iTYWaqVWls4kEPJM+0QZPkgAJkAAJkAAJzJGAZ7GmQp3jGtD0ggl4Jv2CveJ0JEACJEACJEACIOBZrGejUEej0WAw6KfmNRgMRqMRWLBREAKeSV8QGgyTBEiABEiABFJIwLNYz0ChHhwcpEaa3uTIwcFBCheGLs2PgGfSz88BWiYBEiABEiABEkgm4Fmsp1Woo9HoJlWYsjfcSU3Okpyd9Uz6nEXNcEiABEiABEggQwQ8i/W0CjVVF/ddeTwYDDK0ZnR1SgKeST/lLGZ4rVarVCrD4dAcn9XbWq0WBEG5XO71erOyuUQ7rVarVCp1Op0l+sCp00xgOBxWKpVarZZmJ+kbCZDANAQ8i/W0CtUVhWk7Mg1Ejs0WAc+kjwxK6uIE4kkr1EajMVspqY1Hup25g1SomVuy2Trc6/XK5XKCADUKdeafqdmGQ2skQAITEPAs1lSoE7DlkJQS8Ez6SO87nU758NVoNCI7xB3UInK21VRq+bj+xPmZcLzVamGbttPpXLx4MaHzlKcKqFAbjcbC8E65OgsYXjt8JUxEhZoAJ/mUfGO0Wq3kbpk4e2SeZCIKOhlHwLNYZ0mh1g9f2KPd3t5eX1/f3t7GkchGHCAezx8Bz6SPDLzRaNRqtUajMe4le61QIy1PfHAxCnU4HNZqtV6v1+l0SqVSEARzrXBFU6gG7wSb9BPnTwoHtlqtIz9fRqGmMIrUukSFmtqloWOGgGexzoxCrdfrq6urRo/W6/X19fVutxupTeWg4cK3OSbgmfQuAXyzy07qWHdJZl2hujTmeqRoCnWuMDNn/IMPPjjSZyrUIxHFdcD3WFyHDB3nHmqGFmsCVz2LdTYUarvdPnnyZLvdNkq02+2ur69Xq1VzXL+dgB2HZJSAZ9K70bVaLbl/1K2O+NKXa7XB4UtfedcK1b3Kr0fhFlV9MG5TTfcJgqDRaLjaTnY9ZcsT2lqerMJlZR2stglnwjCMOy5j9VkduJARIAk7r7pbuVze2NgwIcPhBCPGSWMhYQosn8yC2x/jggrDEHvJQRBUKpVLly6BlaQHQjbbgdoNWbIwDCcYopdMt40pxBJ3XGIpl8ubm5uVSkXcllEI35A0nBG4dkPakm8TW9aJZCa9dOmSflLKfKbgeRAErvOun2/lrgIAACAASURBVGEYyk0sEr6OaIbc9BTJaaw9jEwYN2ew0FjQTqeDTw0iwhG90CbGhIz1/2yaz5R8TIbDoYbgeR1GE0Ag2o75HtOrj/4aKdtZIeBZrLOhUKuHL6070Y4Tr+iQlQWjn9MT8Ex6dyL997qpiPIdeubMGdRU+QLF2wSFWqvVdBG9fPly7/BVq9Xw7H+tVov7qpWpMdGRClVfo5fKpAtSpDPSTTtgumn3RLqJP65vkTVJD4FWABPjpICNtNPr9eKgJU+B5dNm44KCh+gsFRF8Wq0WlkMsQz2IG/rtxsaGGIwbYhLJWDBZKtNhQXu93uXLl6GnMa/pJjYBXGY8c+YM+msURyaDdmksy2EY6olkLLDoU+JDEATwUH8eE9JA+6bb5lMjn8GZc5P7ZGTeRqMB4NoT0zbL3el0JGHM8cgFhQg2nyDpjOxNTj+zCpIb8NxY1p9NmQU+iJ0zZ84gOcciEJkGkjDIAUFnvpqwlAYs32aCgGexnpdCrVar2GloNpvQi81mE8flj2DZGd3e3l5dXdWn6vW6jNre3l5bW3M3UOWsbKOiMyZCIxOrRSdnQsAz6c1c5mtdvnDxLS9nzXelrppxCtWURjMp3mLvE0fQkKnxDe4a1K6aeiPFCfXGHSuzYPMYk0plkni1femAwBPchqnIMqOrl+uVhqntmLaeXf91AScRuLt8CUFJ7AAu1rR+Mm7grmUNzfQxb80QM5cLBMPjyLjh6wBNVoifENwQapLtyckAT6QxlmXtkgxPSCSzZOhpHNAbiu4pHAFwHJHGDLkZy+I/vkDMWXmbkDBjOWY+5kdOrWm4E3l+Ns0Cycccn7gwDKWDyW2Xg0lpM8q4l/DRcC3zSPoJeBbruSjU5uFLNKK+f7TdbpdKJRGseu9TX6x3FWez2XTvQIUA7ff79Xo94UJ/+peKHs6KgGfSm+lMCTTFI/JLX39d6u9ZbUofNzNKXdF/j0XWM/OVrScVg7rwa9Hmno1zxpQBGYgodD2TU/BBfNNaRzro//qgS5D+2hRmN9AMInRDvXQ7JASleWJ20MARfTlVCEQORH8p4fAcQ8rlsrnj2fVWjCQfN8mjE9jNCpMJ2vPkZNDhRKrDBMsJzN1T2n+5AcCkmezngacJ3/gpnU2aCU8zUM87FjeZUUjCq2R9prFrhydwTJuKHB6ZfpEZhU933N+WshDuLOYzEmlchwkVq5dA83cdMNllrPFt5gh4Fuu5KFQtH7USbTabeLBJlKioVbNLahTnkY9DJXfI3MrR4YkJeCa9ti9fi6graBiJo79Jzb6F/urEN7X5ttUzSkVB0dUFRnfDlzhKna4f0lOPdWsqzsY5E3ccUWgp5pLR6Awf1z2Ehij0cBg3t51hVBw0xIieZnXcapoQFHzT1kADt0tC7uBU5EAxIvcJeA6JK+2RYZodUPisl9XNCp2u2oIeBVORAlHO+ls2CglrLR8x4w/uwnSJwVufz44OQejp1IrkqQmMFZ2smvnGwMdWe4J2XMJM4Jge4mZ7XPrpUa5XyZ/NyFmwKO4XF+zrhjiAZEAD667/XtJLo42wnV0CnsV6LgrVXLIvlUpyjV7voTabTRzXe6gyVl+1TxagsocK4avFsbSzu4T0fFwCnkmvzUZ+U8tBqTHu17FoIHwj6xILyeLuAcik7ldtpAPSWaZGqXOrph6bfFZ/3evwI48jCnd/S49FW6og/MTxOHSo5ZGzYzgaCdA0AfTX5d/1ISEoPRDWQMOdS59yN0ShqLR8Tx5iVhw+uFHIqcjjGpebFTpdjYeRywGH4Yw0xrKcwNw9pf3XEtkcN84b99y3Mlxyb+bccAumvz6LTJgJHNNpaYbrUwIEq+meMn/aRSaDGDGz6DXSHdwvBL0orhF91v3+TPDHDOTbTBDwLNazV6habvb7fb2HKgoVfy3h/lQZguPmkj2v8mci4dLgpGfSa1fxla0PyvejVB35JsVf9tJNl3nd1tZ0G8bdKivyTosYdJap8UXvFhU91lUMun+kM25pMTtYkYoN7ulGZP1wgxWwUKhxXmnLxiU5hcCPnMIthAlBGeCYWv4a0TzNKXeg+DnukDjfIsOEDyY59aRuVuh0NSLPXY64eWWg0VgJluPiMqpIQ0NQ8Mp1BmlgEibuLZLBNWVQjMXNBC73FeBjG+lMXMJM4JhebgSoSeK7RYxLMkdOpB9FAnbXfzOL+zUSF502FemA7mC+UhL80aPYzgoBz2I9e4WqN0FFemKv1Fy+x35nu91eW1szv3WKs2IQchbHpSFT6D1X0yErC0Y/pyfgmfSYSL5JUQtxXBdO6YMHV+XrWL/V9Ul/jep6IJbl4VP95I1UF21N+2C+6I1BM9atqbp0mbFhGIoz7nHtnntWP3Esjx4nbxqZai1voVAlQL3/1Dp8aQjS1l6ZwH2mQJGGqsMWuEgTxGJEj7yVziZb9ClJGPzCFGyOO6RUKsUpG4kauZr8LD+6uVmh09XIMne5NXazKFNaRiKZSeVt3LP82h+TBkbQwNuNjQ3c7KuFsstT/1usY0WnHzCSFUcmuA+fwTGTtwAyrmPSXzJc6GH1x0o//8+mmNWfKf29Z74QXJJxBPClJB2MTZMn6KzhwzIb6SfgWaxnr1D7/b5+YP/ZZ5/Fk/jm6n8QBFCW+tn/IAjMVXv+2lT6Ey4NHnomPVyVL2X9VYtT+HKXxg9+8AP8oiQElnTWJd98q8qWIS4OSOVADZbfEdzc3CyVSgk+aMkizojBSqWix7qVQJcuuGqccY9rveiehbAT47CmnZRR+K9Alp61Wk2rBOhF2HFnFzvJ0BKmcKtpQlBySqSnuNQ4fEVGbU5B7clAJIkGlTwk7g8VkNSrrzub43ot3KzQ6Qqfdfrp+3TjlkMG+u+hJjPXi1sqleQ3ViGz9GdK99T5H7fK+HvSLIr4M0NugFYul7e2tsrlsqxCnG4WB3RuIGGg8PChSF5Q8zHHZ0EA6inc9ENn+ZPA87Pp0tZrBP/FbfcuDuQz0i8yUqwOPn2RX6dUqJpnhtqexXouCtXsYuKtEZq4FdVcx9e7sDJW38AKa/1+/8gN1H6/n6E1o6tTEvBM+rFmcb+Oxxqets5SpdLm1Wz9Sdi4mmCi5BJrDPZ6vUql0uv1zHG+nSuBTqdzzz33pA276Gmt/ucKYXrjs/3giD/yT0lP7xst5IyAZ7FenEIVNanvMcUPUaGRoEdNH+l55ENUVKg5S+vkcDyTPtmIOZs/hYp/A8ZEmpu3ZptwmrhEZGA/70hT2PjJkC45Mqj0d0jn312dTufRRx/Fv82Rfowz/OBIsPyDLf2LviwPPYv14hRqv983V/n1r5yaq/yRd53WD1/YQ93e3l5fX4+7exXdlrUAnHfxBDyTfizHcqZQ5RrcPffcg5vzxqKRws7y78HCsSmv+l28eFGT0Tc+YoojG41Gw1/UHmmNHUhgHgRm+8GZh4e0mWMCnsV6WoU6GAygBVPYGAwGOV5jhmYIeCa9GZX8Nk8KFTt8edJP+l46/ZuXycsad1bfhDrBZrMM1/cUxk3E4ySwXAKz/eAsNxbOnjkCnsV6WoU6Go1SKEzh0mg0ytzK0eGJCXgm/cT2OZAESIAESIAESGBKAp7FelqFGobhwcEBFGGqGgcHB1NC5PBsEfBM+mwFRW9JgARIgARIIE8EPIv1DBRqGIaj0ShVl/sHgwF3T/OUzZ6xeCa9pzV2IwESIAESIAESmDkBz2I9G4U6c+9pkAQmIOCZ9BNY5hASIAESIAESIIGZEPAs1lSoM6FNI6kg4Jn0qfCVTpAACZAACZBAIQl4Fmsq1EJmR06D9kz6nEbPsEiABEiABEggAwQ8izUVagbWki56EvBMek9r7EYCJEACJEACJDBzAp7Fmgp15uRpcGkEPJN+af5xYhIgARIgARIoPAHPYk2FWvhMyREAz6TPUcQMhQRIgARIgAQyRsCzWFOhZmxd6W4CAc+kT7DAUyRAAiRAAiRAAnMl4FmsIxTqDb5IgARIgARIgARIgARIYD4EfBRwhEL1GcY+JJBCAp5/lqXQc7pEAiRAAiRAAgUh4FmsqVALkg+FCNMz6QvBgkGSAAmQAAmQQCoJeBZrKtRUrh6dmoiAZ9JPZJuDSIAESIAESIAEZkDAs1hToc6ANU2khIBn0qfEW7pBAiRAAiRAAgUk4FmsqVALmBu5Ddkz6XMbPwMjARIgARIggdQT8CzWVKipX0k66E3AM+m97bEjCZAACZAACZDAjAl4Fmsq1Blzp7klEvBM+iV6yKlJgARIgARIoOAEPIs1FWrB8yRX4Xsmfa5iZjAkQAIkQAIkkCkCnsWaCjVTq0pnEwl4Jn2iDZ4kARIgARIgARKYIwHPYk2FOsc1oOkFE/BM+gV7xelIgARIgARIgARAwLNYz0ahjkajwWDQz/JrMBiMRiPgYyOLBDyTPouh0WcSIAESIAESyAcBz2I9A4V6cHCQZWl6k+8HBwf5WP5iRuGZ9MWEw6hJgARIgARIIA0EPIv1tAp1NBrdJPGy/4Y7qWlI38l88Ez6yYxzFAmQAAmQAAmQwPQEPIv1tAo16xf3XUU9GAymp08LSyHgmfRL8Y2TNhqNcrnc6/Vyj6JWq1UqleFwmLlIW61WqVTqdDqZ85wOkwAJZIiAZ7GeVqG6Ci8HRzK0zHRVE/BMej2k1+uVy+VAvbKlojIkhqhQdeKls02Fms51oVckkDMCnsWaCjVCUecsFYoTjmfSayCiUBuNBg7WarUMbSNRoWLh0tPQiyIJ1mq1pnev0+mUy+W5bnBSoWKZWq1WEATy92qn07l48SJOsUECJDAlAc9inWeF2u12z58/3263IUKbzWa1WsXbuMaU6Dl8WQQ8k1675ypU94juz/bEBIq5h0qFOnHCLHHgcDis1Wq9Xq/T6ZRKpSAIZvI3xhIj4tQkkCoCnsV6oQp1e3t7dXVVLqjW63UjELvd7vrhq9vtmlMTvBVrRo/KQXdqYz9VC0ln/Al4Jr026OrR4XBYqVT0rqruz/bEBKhQJ0YnA7mHOiVADicBEkgJAc9ivVCFKkIwTibOVqHW6/X19XVX7Lbb7VKp1Gw2jSrVb1OyhHRjXAKeSa/NugrVbHrJW/mzSt+iCrlQq9XcszJFo9HADa56LKbAWHmwRi4syhCzZ6NNafXsXlDGjLVaTUeq23oisz+kT2mf9fAwDDWWIAjgUtzxMAy1QtVtsayvLyezlT8hEKZ+JsmcglfaeTG+ublZqVS051iLI4FIjNq4zAvgWBRtMwgC6WCc1P7XDl/Yt4N7ZgiOh2GoO2tTZiFMOgGI7lYulzc2NvQtLjrr9HFZzcglgOUwDHUuGaphGGo4Gxsb5XIZSIWDDEcSxkVqsnGsKAxYrKAJED4gOk0GbpuQ3VEYzgYJFJyAZ7FOkULVGnHKtmzWxsnQOPGKSQueOtkN3zPpdYBGbUjFQqWXoogKVKvVUHVQL6X2m4HyFp2lHqPGQxbIWDF15swZzNtoNNBZxsKU65IeBSFiuumQcQVTDuq5tEwMw/Dy5cuRj96LcZTzTqezsbGB8gxcpptWpbotbuipZSA0jWHbarUwhZDUys/1Sscukq5cLp85cwY3dLr2MbX2CkBMzoRhKBYwNRQqxBPWRShF+g/RhgUViYaxEO6ISHfQURgPW4cvjELDJIlYQ+L1er1arYZfJNDJr5dvOBxeunQJ3WA8Ic20q0CkZbfMpW/9jIsUGh1I/aMQSqDd6/UuX76M1cQnznx4Ez6PkdkCIGyQAAmAgGexnpdCrVar+AvbKMXIPVT0dzc+m80mTOmr9mIHp/QszWbTtQMB2m63T548qe9PxSlpACIb2SLgmfQ6KKlSyCKUZ+mjpQZKqdRCU91FeWB4q9XSFQ5lT0SMTApB45ZArTBkIsgUsxlpPNShyUaUPhLZlrnEfqPRQMGO7GwC0X1EdkAoyClds7Ws0W23ZzJbPanQEJ91IKaPfutjHFQjgejVEctjKVTtjPbfSB8XtVGoZlJotVarZXqaGfHWzRD95wq6SUPbdAeazu5bvTrup8MsilbDLgcdqUDTHyVBik+i8cREEZntrnsadcLnMTJbjAN8SwIkEIahZ7Gei0JtHr5E7dXr9dXV1e3tbajASIWKzkZZbm9vf+1rX5Oz5gJ99fAFs7qRcKrf74sDWtHqsf1+nwmUUQKeSa+j02pD2ihauqbKEFOozIPVunRFlnDIMtcyTslE2iu37GnZBy2lPYTgRiw6ZGmLt+gpylL2n0y9N2N1mPqUrv04bgKBajfxGn3vmnIn1deIxaysTpw0gUuRpkzIcC8SiA5KzOrEEM0E8u5ayxDX/0ixpdfXYDFv9V9QMiloI3bdiHRMp5Z0FgLIE/wlo7c8tVnTjkwzHZT0N0hNhyMjTfi7KC4KM6N2O/nDm/B5jMwWbZltEiABIeBZrOeiULXgczcsx1Ko2pQZWK1WjfaVzqabtuDZgTmUUQKeSa+jM4VKCqreJUVtRkPUjFs1IX2MXsF00D2uOMAp6ay90lIGPkCH6VouPVGt9Sn4AB0DC3ou7E7hd3b0QGm7IibhuDauY9Rtd3gCW9khwz2d8lZLMeACBxOCMS6LBbBowCY0Fo7ooMS4WXFNXjqbLfA4/11tpE0Zz412hOcSuI5Lzw4aSFcccf9O+PUt+4ja9Mfs0OLaTkKaGVYyyiA1HDAXYpRGo9EwXok1naLSwY0icmDkfq3YRMYiwbQz+DSJ2YSPj6HEtyRQTAKexXouClU/sx8EQalU0pfUExRk5B2iuAFAvhH0k/g4pXdeE+xToeb7w+CZ9BqCKY36SqurLfRAIxeg7UQNmBIrA1HkXMs4JT21V+6ejXYDCkZXZemAU7q/2eGDkjB6TmQE6q624AYuZyOPm0AgFNwLqdp/1xT0BBpwyaCT4wm7Wa7xyMWCfWloINLWxIzq0uTNWif773qiTRnPzVvjMN7KMz3aWzllHJODWAUTkUlvGBcjWFYcT0gz17KbhIZDQqQuT62z3bnQPzJ88d/MLgeRZsmfR+ks80Z+fDQitkmgsAQ8i/XsFaoIRNwwOuUeqr5JIE56mhn7/T6v8hcz7z2TXsORQqXrtxyRZ0QqlYq5/ouxbtVE8XM39szejFsdUf/EvvYKogFT6wYUjOkmFiL3tzBE7IiY0wS0D+72m/ZNexJ5XHulY9THxYj+hxIS2GrIoBqpkOKUhGtcO6YjMm0JsNVqxekepIomjFFiLdl/VxtpU8bzSODGZ3nrmgU6+IyeoqvcGEXpuvlgvIID2nNRjbgxwAVuktA4nBCp66eI4yOjiBwozrvu6c5u6iJk3TDrrk+xTQIk4FmsZ69QZQNVdjpFO06zh1qtVrE/Wq/XgyDQe6i4gm8kabPZjLwBQPq7ohl2pMHsySgBz6TX0UUWPzwvYgonnuaWLaWE+1ClpGnlpB/+cKuXKYraK9cUnp3XO1UifSA05VpkpEJFdNi7gnTY2NjAE+4JldhggT/u8VKpBJd0jBIg3JOB2HNyRQ+EnQyErhLZJJzxLHac/JJ1d40bZ0ROiRSLA6LlmiyQvnCvxZkWNwAe6b+sJk6Jt9qUzgo5q92QqOWxeqwIZsQq6OQ362VWQWes8MdPHOgfedDLqo0npJkBLm+RhJEc4iI12hdvkUsJUUhQAI78cT9x2oh7FrQjs0X6I9U1IrZJoLAEPIv17BVqv9/XT98/++yza2trcpVfH5dL9rLVau4KCIIA+lKfEhmqtS/uBIKKFYkpo+KehYq8l0CL1MImTdYD90x6HaZb9VHUpaigNkuyodK7QgcqCvb1LWu6RMmkejvKlHnXK23KCF9YFoUhfrZaLS1u4JI0YK1cLm9tbeGnKEUHiAXUeDNW3mosuqc+DkEjQ0yMumetVtOCOJmtHtg4fEGhlstlfCdAeRj/XeNQtBgLpAlAwLBUKsmvq2JGQx7rIh3i/I9UZsYU/EEewjjWHVfkEQ46GxTQc9LTrIJIKzlVqVQ2NzdLpZIkLWJPvuES3Uya4SMmxt2zZg9V3I6M1D3lH4Vxw6QrnA+CAPkAgPosPo9YHbm3Tf7Yo0IFNDZIAAQ8i/VcFKpWe8tq69sDtA9HbqDyWX7kUOYankmfubjoMAnkm4D7N9s08bp3OSdYGw6Hjz76KC4dJPTkKRIggVkR8CzWuVWo7s2p+J2pyPsEtIqd1RrQzoIJeCb9gr3idCRAAskE9A56ck+fs2bjOXkItooTdpqTLfAsCZDAuAQ8i3VuFaro0fPnz+ufEWg2m3iES0tS0x6XNfunhIBn0qfEW7pBAsUk0Ol09L8XJbc9TCwQG42GuWFG33biSbjVarmX8j3HshsJkMC4BDyL9bQKdTAYGHmX9beDwWBc1uyfEgKeSZ8Sb+kGCRSTgFzTx22y5gbQcZmY+1NxV6inHQzXMtdzLLuRAAlMRsCzWE+rUEejUdYlqfF/NBpNRpyjlk7AM+mX7icdIAESIAESIIHCEvAs1tMq1DAMDw4OjMjL7tuDg4PCZkwOAvdM+hxEyhBIgARIgARIIKMEPIv1DBRqGIaj0Sjrl/sHgwF3TzOa63DbM+nRnw0SIAESIAESIIEFE/As1rNRqAuOjdORQCQBz6SPHMuDJEACJEACJEACCyDgWaypUBewFpxiQQQ8k35B3nAaEiABEiABEiABh4BnsaZCdcjxQGYJeCZ9ZuOj4yRAAiRAAiSQeQKexZoKNfMrzQBAwDPp0Z8NEiABEiABEiCBBRPwLNZUqAteF043RwKeST9HD2iaBEiABEiABEggkYBnsaZCTaTIk5ki4Jn0mYqJzpIACZAACZBArgh4FusIhXqDLxIgARIgARIgARIgARKYDwEfxR2hUH2GsQ8JpJCA559lKfScLpEACZAACZBAQQh4Fmsq1ILkQyHC9Ez6QrBgkCRAAiRAAiSQSgKexZoKNZWrR6cmIuCZ9BPZ5iASIAESIAESIIEZEPAs1lSoM2BNEykh4Jn0KfGWbpAACZAACZBAAQl4Fmsq1ALmRm5D9kz63MbPwEiABEiABEgg9QQ8izUVaupXkg56E/BMem977EgCJEACJEACJDBjAp7Fmgp1xtxpbokEPJN+iR5yahIgARIgARIoOAHPYk2FWvA8yVX4nkmfq5gZDAmQAAmQAAlkioBnsaZCzdSq0tlEAp5Jn2iDJ0mABEiABEiABOZIwLNYU6HOcQ1oesEEPJN+wV5xOhIgARIgARIgARDwLNazUaij0WgwGPTz+BoMBqPRCFjjGjkg4BlpHIE0HPdM+jS4Sh9IgARIgARIoJgEPIv1DBTqwcFBHqXpTTEdHBwkpFGeCCRHmgAhDac8kz4NrtIHEiABEiABEigmAc9iPa1CHY1GN0m5/L6J20nNH4G4SNP/QfJM+vQHQg9JgARIgARIIK8EPIv1tAo1rxf3XaU9GAwicyV/BOIijQw/VQc9k34CnxuNRrlc7vV6E4zNwZAZht9qtUqlUqfTyQEWhkACJEACJDABAc9iPa1CdZVcjo+YZeh0OqVS6f/+7//yF7KJNCtvPZNeh9Pr9crlcnDzq9VqhWFYq9UqlcpwOAzDcIYSTc+elfYMw0+nQm21WkEQyLpnZVHoJwmQAAlklIBnsaZCHUNemlRoNBqVSmWM8dnpaiLNylvPpNfhiEJtNBr6oLQTFGrt8OUOyesRo1CnCT+FClVygPI0LntrtVoQBPLXWqvVivywxI3lcRIgARJwCXgW64Iq1GazWa1WoRi73e758+fb7TaORDY05eFwWKlUGo1GZM/0HKwfvuDP9vb2+vr69vY2jkQ2dKQZansmvY4oQaHqbjOUaNpsVtozDD+FCrVWq1F1xaVir9er1WrD4VC2mYt8r0scIh4nARIYl4BnsZ6jQt3e3l5dXZXLp1oOttvtUqlUr9e1NqpWq9JzfX292+3qUzNvN5vNUqlk9Giz2VxdXU2WbnoNWq2WfFmP5Z7PLGMZTO5cr9fdoOr1+pGQdaQZansmvY6IClXTiGvnWKEOh8PC3l4ct9w8TgIkQAJzJeBZrOelULvd7vr6uham0FKRClXORoqndrt98uRJIyhhbdyG6OZms+kOrFarydJNLxgudLp2Eo4sUqHGcUtYGniuI81Q2zPpdUQJCjXyKr/sJOG2VfkrRe732NzcLB2+5DGgRqOBbsnPBokP6Gz287Qd3BerQ+h0OuVyeXNzs1KpBEGA4XogDoZhqEMQ/+WCQK1W02b9w5fh8N84qaMrl8sbGxuGhvbTbNG5rmoPpa3tB0Ggo5APqdwvLu4Z34zneqzcfBwXFNzQHibcyWomMm7oEAyicRfXuH3p0qVKpYK49ESGVRiG5qzkjDkIU5HwdZoBERskQAIkYAh4Fut5KdQEIQgZ5DYWoFAjpxBPjvQZiKVsiBBxo0g4skiFWj18RToTJ17RGZFmq+GZ9DooKcCRlTVSoslY/H0ib2WL8dFHH5XHqqTYy7VR9DfaCz6IxIEDIqegA/Tm5XA4vHTpEqaABcnGM2fO6Afka7UaZhSbMoW5yH758uVer+evUBEOPBTJC/+FJ87qqSGOoVBlXvgpT6fhbKSriBqNRqOBW0jNdAIB6yK+QR0a1OasD/nhcFir1bAF22g04Dzck4a+fXMsRGMtrgAET8hiLEcCK0Oj0+lsbGyI3o3Dm5y6hgDfkgAJkAAIeBbrhSpUfd3fXOUXbWTko+y2YhtDGhgoe4FyUO991uv1arXabDbllN7HlSGRG6jiQIKq6/f7gCt7ZqIVoOrQcGXo9vb22tpau92WU88++6zrdr/fx60O+tK8jH311VfX19eDIND3J8QR6Pf7mBFe6YYMBEl9StqINFsNz6TXQYlckOWQ/6LAj6VQ46SJzKX/pNGzi4aAvJNTWpkZKazHom1kWRiGcgTCQv8WgU5dWJhSocKONPQUrv9axuFWGVjQnmg76HBkpq4xSAAAFd1JREFUQ8+oZboM1GR0T5+zR04tuaSxxw3RobluaERjLa6bZkYNG38wtcZu+pi3ZkhC6pqBfEsCJEACIOBZrGevUCENUfW1qOr3+wnyyChUUUuRG35iBOpTX6Cv1+tBEIjIM9uikaa0Pms2m1rs6lNQqEZVmD79fr/dbq+trelbWnFE4MgU4htkogkBIhWyXnoCUQKBfr/vqmTjp+h4cxBvkUbZangmvQ5KSrgptNJhLIUKXauNH3kJ2JUUuNgqLskV8Ej3MJFWXXJQCyA5AtUrLmFTTc5GChT/8MWIPPGtVX6kYoMnsuFnPNFiOtJVmcv8V/zHFw52SSGn0B/LHemb5uBDXswKf8yesFhxiMwQjWisxdX7vuKbjkgfgbfCyp0FxMIwjMR7ZOpqC2yTAAmQgCbgWaxnr1BF5RhpCOkzK4UKzSeWtfTUjwcZNXykbkvuIHzNxo8ODbHLjimcRMPYx5at2fLU9IyQhQXYdAn0+30IWdc9OZLcQWdShtqeSa8jgmTRB6XtL9FcRSglH7I1TgFoLQIHjEuQuRBe6CkNVytoJQQtgl1ecSYIArjn6pjkn4M1yk/EHLQmdFJk1Ag5clKtULEZrF01sYuf+u5bvWrGT63+I30zLh1JXlYKYM3CaVcnQyQEyuWyuX8Da4qG+KBjl9lNRJIYEMToj0XRPkt7rCEJBFzLPEICJFBYAp7FOqsKNWGnNkF7Qd7F6bbkDpJMpuy5pkQWN5vNer1++vTp5uFL9k2NfSjUyPsZ5G4ErVb1XAkEqFD9P/YJNRX128gmd/PPKFQjC6C03Ou/rrjUKkpHIX5CU+pTrhHjj+6MtjgJdWWy2l+hulIPClV8NlFrMeRO6qLGHh5cRQhyY6s5rlfNtQ+X0NDW3IXDckSS13OhJ/QfLCcgck+ZoMZaXOMP0MkfD5q8+Ib+7izSYdwhQtUlABRskAAJkEAYhjlXqGYHUUu3BIWqt1r1ELSPvMrvfpVjrG5Uq9Xvfe97cjvsk08+iUvqcQrV7KFqU3EKNYEAr/L7fwUk1FTUb1c2GeljFKErdGQLzWi1OE3jygIJx829uONxFgwWrdJ0sHAMu7YQnWJBh280lsQues7lIMIXmtKYNYpKe6td1cdNpNINbrv3oaJ/pG8mFkwUR95Akz1XV58Zs2MhcqdGCHAPDfeUTB2pUDUrabueG4NHDjH94RgbJEACJKAJ5Eehmsvcot7MXZha0iUoVHPRX4+SNjY13VNyH6rRImEYRvas1+vnz59/8sknu91utVoVkeoKRz2dvg9V24xTqAkE5Emp1dXVuGfCjuSgMylDbc+k1xHF1ebkTUQjrdys0NpIVELcTxEZWSOdoRXkWXtx2EyKKFwRozWQdMOj2RsbG7hkrPWEcUOu7ULqman1WwGoL/Hri/LGrLyFQnX91NziXEXg2JwGLuO2vIVvWq5hLM6aQHzI60eaZLi+3wB+Gsvy5wo2ZZMRjbW4hqe8xa9KmdQyrIwbkjDjDimVSrIWMjXyByjYIAESIIGU7qG6F6blUScRYbinCs85QajpgXi0SGQWRuEJpwSFmnz5O04Lwg352kU5lDzDWd0Qh0UgypNb0o7bQ5WxeJZfE0jwKo4ArOFJMu2bPMuV/BOzGf0ILUyhQo6IznAVKsSB/HOR8lOp7h6qcBYdgEzW3URGyCloGrM6roiRDpFjRR6JQShF6a9PtVotvUGoJSl2WKFEtf+Nw5d2VaSPzFir1bQsdv3Umkb7Y1zVBLR947bs9Wo75sOLdRT39NlIenpe43y5XN7a2iqXy9oI+k+MaKzFxSY01ld+JRcqPIEVJDvGyl8y/kP032BUqFh6NkiABFwCnsV6XvehGkmUnrci+CBztWN6R1MfR9s8IyXQcTZtDbm31d1GPXIDFb9a4GZVyo94Jn3Ko6B7syKg70aYlc0F2In8npls3sg/qhNM9Xq9SqWCX3hN6MlTJEACJDAxAc9iXTiFKpfazQ9gudffXbnZ7Xb1v86ChXF7pueI/lkDeJW8xyzdEF22Gp5Jn62g6O3EBDKqUPXu9cSxy0DZu9W78skGsansPyTZIM+SAAmQgEvAs1gXUaGKHtVXwLvd7vnz54/8h1VdynH3oUIOLr1RP3zBje3t7fX1df1brTilG5GRpv+gZ9KnPxB6OBMCmVCo+t95kmfyEm5pSMbS6/X0v2Rm7n9NHqvPNhoN3Bigj7NNAiRAAjMh4Fmsp1Wog8FAK5sctweDQeTC5I9AXKSR4afqoGfSp8pnOjM/AplQqPpGT9zaOxkTffeze2etj025Z3diiewzBfuQAAmQgGexnlahjkajHKtSHdpoNIrMqvwRiIs0MvxUHfRM+lT5TGdIgARIgARIoFAEPIv1tAo1DMODgwOt5HLZPjg4SMiePBFIjjQBQhpOeSZ9GlylDyRAAiRAAiRQTAKexXoGCjUMw9FolL+L3SK1B4OBz55iDgh4Rprmj5Nn0qc5BPpGAiRAAiRAAvkm4FmsZ6NQ842S0WWFgGfSZyUc+kkCJEACJEAC+SPgWaypUPO39MWNyDPpiwuIkZMACZAACZDAsgl4Fmsq1GUvFOefHQHPpJ/dhLREAiRAAiRAAiQwHgHPYk2FOh5W9k4zAc+kT3MI9I0ESIAESIAE8k3As1hToeY7DYoVnWfSFwsKoyUBEiABEiCBNBHwLNZUqGlaNPoyHQHPpJ9uEo4mARIgARIgARKYnIBnsY5QqDf4IgESIAESIAESIAESIIH5EPCRtxEK1WcY+5BACgl4/lmWQs/pEgmQAAmQAAkUhIBnsaZCLUg+FCJMz6QvBAsGSQIkQAIkQAKpJOBZrKlQU7l6dGoiAp5JP5FtDiIBEiABEiABEpgBAc9iTYU6A9Y0kRICnkmfEm/pBgmQAAmQAAkUkIBnsaZCLWBu5DZkz6TPbfwMjARIgARIgARST8CzWFOhpn4l6aA3Ac+k97bHjiRAAiRAAiRAAjMm4FmsqVBnzJ3mlkjAM+mX6CGnJgESIAESIIGCE/As1lSoBc+TXIXvmfS5ipnBkAAJkAAJkECmCHgWayrUTK0qnU0k4Jn0iTZ4kgRIgARIgARIYI4EPIs1Feoc14CmF0zAM+kX7BWnIwESIAESIAESAAHPYj0bhToajQaDQb9gr8FgMBqNQJyNpRPwTPql+0kHSIAESIAESKCwBDyL9QwU6sHBQcGk6U3hHhwcFDbJ0ha4Z9KnzW36QwIkQAIkQALFIeBZrKdVqKPR6Ca9Vsg33ElNyefKM+lT4i3dIAESIAESIIECEvAs1tMq1AJe3HdF+GAwKGCGpTBkz6Sfk+fD4bBSqdRqtTnZz6LZXq9XLpcbjcb0zhNvGIatVqtUKnU6nel50gIJkAAJLIuAZ7GeVqG6cq2YR5a1zJxXE/BMej0E7UajEajXBEKTEgow0aBCBYqZNKhQZ4KRRkiABJZLwLNYU6HORlEvd7E5uxDwTHqDS1RUuVzu9XpySrTmuJtVVKgGbBiGRqF2Op1yuTzZFiDxcg/VTTAeIQESyCIBz2JNhXqTQu12u+fPn2+32zhaP3zhbVwjiymSP589k14HLrqnUqkMh0N9PAzDWq2mZas5676lhHKZUKG6TKY5wj3UaehxLAmQQEoIeBbrNCrUer2+vr7e7Xbj5GDC8W63u76+jqu1pVJJy82Egf1+X8ZWq1XdbXt7e3V1tdls6oNuOyWrXnA3PJNeU0oo+UZd6VGRbSpUF4thyD1UF9FYRxLSdSw77EwCJEACSyTgWazzqVDr9bqIyHq9vrq6ur297WpK90icMm42m0cq3SWuNKcGAc+kR3/ZKI3cQJU+tVpNzoq02tzcrFQqQRDg0R999+qlS5fMk1KdTqdUKsnfS3qW2uFLn4VBXBnHX1nJd8S2Wi30NLcliDrE2VarpQOXdqPRqFQqm5ubpcOXXH/XA80uso5XInI1k8Ql00GhinyHM2Co5wqCwASrp3PxGpsJYzV8DUHbN/QkN+DwxsYGHvkSn1utVq1W0z7rBTUzmlOXLl0CWBOFGaj5lMvljY0N46cOATYlRp0b5pSGwDYJkAAJLJiAZ7HOuUJtt9tra2s+CjV5r7R6+HJFLY4seHU5XSQBz6TH2CN3PRuNhpR2UahnzpzR91Dq2wCgM6CTRB+IUJOzEB+ibPBW9wzDsNFoQE2KstH6Fc6LhNJ6RcSKkYbSv3X40mOlLQE++uijuMnBzKhjBI0wDIfD4aVLl4bDoadClencPdSEYPXULl7xE7RFyQFppKsm/F6vV6vVELg7HaxBJspCyNszZ85gmeQO0SAIIpfbXd8gCCAZW60W1lcsIyizFmIHKy5MYMfkg1mXy5cv4zZrw4FvSYAESGDBBDyL9VwUqr7Urncft7e319bWXn31VbkQr0/pIUEQ6Kv8zWYTOxn6anu1WpWbROWs7JuKHeyhQlm6V/CbzabeXm02m3pSSE9pmM7mbL/fX/DqcrpIAp5Jj7FS4yEIcBwNCB2jFcIwdMWWlheuZbEgCkaLIVF7ZvMVDojsiPTQdUA6i66KPKvNSrvRaEDxyBFsG8tbCUoklGz9GiNGCQmZUqkUKZSP9ApTuD013kgshnAkNOO8fqtnbLVaWvkhKK1Qtf2E5ZZT0KAyo0kA7YbsaotuBg100OvlOqnd0HYwnA0SIAESSAMBz2I9e4VqtKC+RC77lEEQiILEVXUzBMf7/b4e3m63S6USRGq1WoWWbbfbJ0+ebLfbYgqK1mhQvJVuELL9fh9a1lWf/X5ftHXCLa1pWHL64Jn0AKUrOg7qBsq8Vj/SAafQX1vTckc6JEs9owvFFNIYm3mYS7Za3ePQizKdkVl6uLQhwbWTemtQByV7tEZsYUYY16x01JGyHgLdBJuMV8xqP2FHhGOkq/BQN2RjErPjTwjDVgei22IqYbk1DcxrsIvghg+yapExatqufpWskOESl5bRmJ0NEiABElguAc9iPXuFCrEoUk9rQVGo0IXYmDTX4rVClY1SqEatI6vVKnY9cY1eT9fv9/V9qOjT7/cTnMRcuqHH6uNoL3exObsQ8Ex6jctIQ31Kb9S5EsQdqMWc0T0QH3Gbkdqa3AMAIahPafcij2sFo2WuEXOwY4SgyCl4iwaEDuKCgNMzilmtyYyYi8SIe1L1HrAbncarp0AsugMuuwdBAFfRU/sJEQ+bxo501oG42hFYQEwacg+D2aXWOlLa+mZWiFf4o90G7UgnjWWxoO8o0KbYJgESIIFlEfAs1rNXqNCdUG+QlXE6zwyBQjUbovKlj2ftYRYT4Xl8iGCxgG3Xer0uw9GQsUbXaoPSjvMcPZe1zJxXE/BMej0EJV8flLYWIq60MtrO7OG5/bV9d/cLgsz1B6e0BdEirvZyh0MDQfJqOyYKHbLuZtrSTbSdG6mWVtITU5vOrrcI1jhm8Eb6GSnatKs6Crcz3HZP4fE1CcSd3cSlJ3Jj1DoSk2IIFKo7i/k9VDeLtGUYlHBclYwObJAACZDAggl4FuvZK9SE7ck4nRenUOXiO+Qm5KA0fBSqmVE2a9966y3zo6e8yr/g7JzTdJ5Jr2eX+u1KPb2fF3l52lUeojZku1HkBZSZnlFvzeI4lJkxK3Yi3TM9xRTswDKOYx9UnzJCMFKc6f5oQ5NFaiw8M2Q4YJTYMSHoYM0p3AkqUUT66Xois5hJ5aBrQT9nBpmIeGWXNE6hmjAxykhbPTX0Pe7ZhQqXU66HkjnQmq6TkUPgQ9w+uvaWbRIgARJYAAHPYj17hSr7kdjpjLvOruWm1pH1eh13l5r7UPWQOE1pdkP17NC1p0+fhnuwaVQyjksj+SyflFpAQvtM4Zn0xpTIC1ztNUJBOrsqR9QARslbc7kWQk1sysPvyQpVZBakrXnq33heq9WgV2T/DG87nc7Gxob0T9BPRqHi4jgcCMMQj4GjoffqDAfxH4Gbqc3bhGCNWRevjIXsFst4G+mqSw/LF+k2/jAQ47gbQd4awacFrlluc0reytTGbX3KXQtRyVhig0jyChFtbGzgdycg92UI4jJA+JYESIAEFkPAs1jPXqHKc0Wrq6tyUR4PJ+E4rrlrFYgH9tfX17/3ve/hBlMRqfruLgxP2ENFf20HWvPXN2bBCHzQKhkH0YicC2epUBeT00fO4pn0kXZEHCBztESL3EOFkJUhpVJJfi0VIgkKAzahadzrs3rvU9/UKD+6mSAptNtQJ9hxxNQmHBBwFWrCWJHLYlPPBQEnN33Kr6tKsHJKzw6H5WBCsFClQRBE4tXzQj5KaHGuInCzfPhRWKyRNl4ul7e2ttzfQ9XWEpZbBL1eC739CXEsIehTxmatVoPWxNQ6Up0n4Cz0RK1SoYIbGyRAAksk4Fms56JQtXRLWzthN9TdcBXnE4YguiWuNKcGAc+kR382SMCTgAhW6FfPUXHdIv8wiOvM4yRAAiSQMwKexbpYCjV5o9TcnyDqM3kIFWqqPjaeSZ8qn+lMJgi4m5cTuy0bmXqvfWJTHEgCJEACWSTgWayLolDlt1TxU6xQlqbR7XbNQ1TyjwKYbu7bLKZI/nz2TPr8Bc6IZkug0+lcvHgRNs39sjju2bh48SJuCTV3i3paYDcSIAESyBMBz2I9rUIdDAauXCvakcFgkKfUyW4snkmf3QDp+WII6JtQ5f7Raa7v61tCE36fdTGhcRYSIAESWDoBz2I9rUIdjUZF06NuvKPRaOnrTQfCMPRMerIiARIgARIgARJYFgHPYj2tQg3D8ODgwBVtxTlycHCwrDXmvIaAZ9KbUXxLAiRAAiRAAiSwMAKexXoGCjUMw9FoVMDL/YPBgLunC0ton4k8k97HFPuQAAmQAAmQAAnMg4BnsbYKdWdn59NPP52HQ7RJAvMm4Jn083aD9kmABEiABEiABCIJfPrppzs7O5GnzEGrUPf29n71q1+ZTnxLApkgQIWaiWWikyRAAiRAAoUl8Ktf/Wpvb88nfKtQP/nkE8+RPtbZhwQWSYAKdZG0ORcJkAAJkAAJjEtgb2/vk08+8RllFWoYhru7u56DfSZgHxJYGAEq1IWh5kQkQAIkQAIkMC6BTz75ZHd313NUhEIdjUY7OzsUqZ4E2S09BKhQ07MW9IQESIAESIAENIFPPvlkZ2fH/xHzCIUqz+bv7u7KPal8cErzZTvNBKhQ07w69I0ESIAESKCABD799FO593R3d9dfnoZhGK1QhaDck7qzs3ODLxIgARIgARIgARIgARIYk8DOzo7/vadawScpVN2PbRIgARIgARIgARIgARJYDAEq1MVw5iwkQAIkQAIkQAIkQAK+BKhQfUmxHwmQAAmQAAmQAAmQwGIIUKEuhjNnIQESIAESIAESIAES8CVAhepLiv1IgARIgARIgARIgAQWQ4AKdTGcOQsJkAAJkAAJkAAJkIAvASpUX1LsRwIkQAIkQAIkQAIksBgCVKiL4cxZSIAESIAESIAESIAEfAn8f7Te8l3FKlfeAAAAAElFTkSuQmCC)"
      ],
      "metadata": {
        "id": "hvGRN6GMYqIQ"
      }
    },
    {
      "cell_type": "code",
      "source": [
        "'''\n",
        "Selecionando todos os atributos de todos os funcionários\n",
        "'''\n",
        "funcionarios.select('*').show()"
      ],
      "metadata": {
        "colab": {
          "base_uri": "https://localhost:8080/"
        },
        "id": "ekgyGwXAYsKi",
        "outputId": "7541648c-7011-40e8-b550-12149e186dfa"
      },
      "execution_count": null,
      "outputs": [
        {
          "output_type": "stream",
          "name": "stdout",
          "text": [
            "+---------+--------+---------+------+------+-----+------------+-----------+-------+------------+----+\n",
            "|matricula|    nome|   cidade|estado|  pais|idade|departamento|      cargo|salario|escolaridade|nota|\n",
            "+---------+--------+---------+------+------+-----+------------+-----------+-------+------------+----+\n",
            "|        1|   Lucas|  Atibaia|    SP|Brasil|   35|     Compras|    Gerente|25000.0|    Superior|   8|\n",
            "|        2|     Ana|São Paulo|    SP|Brasil|   29|      Vendas|Coordenador|12000.0|    Superior|   6|\n",
            "|        3|   Luiza|   Santos|    SP|Brasil|   38|    Finanças|    Gerente|28000.0|         MBA|   9|\n",
            "|        4|Fernando|  Atibaia|    SP|Brasil|   36|   Marketing|    Diretor|40000.0|    Mestrado|   7|\n",
            "|        5|  Sandra|  Atibaia|    SP|Brasil|   28|    Produção|   Analista|23000.0|    Superior|   5|\n",
            "|        6| Douglas| Bragança|    SP|Brasil|   29|    Finanças|   Analista|11000.0|    Superior|   9|\n",
            "|        7| Eduardo|  Extrema|    MG|Brasil|   30|   Marketing|    Gerente|12000.0|         MBA|   4|\n",
            "|        8|   Ester|  Itapeva|    MG|Brasil|   29|     Compras|   Analista|10000.0|    Superior|   2|\n",
            "|        9|   Pedro|  Extrema|    MG|Brasil|   30|   Marketing|   Analista|13000.0|    Superior|   1|\n",
            "|       10|   Maria|  Extrema|    MG|Brasil|   40|    Produção|   Analista|12000.0|         MBA|   7|\n",
            "+---------+--------+---------+------+------+-----+------------+-----------+-------+------------+----+\n",
            "\n"
          ]
        }
      ]
    },
    {
      "cell_type": "code",
      "source": [
        "'''\n",
        "Selecionar todos os nomes\n",
        "'''\n",
        "funcionarios.select('nome').show()"
      ],
      "metadata": {
        "colab": {
          "base_uri": "https://localhost:8080/"
        },
        "id": "zzszYr08aXFc",
        "outputId": "f5a1b832-a3a3-4c9b-a68c-517d4fab6bf6"
      },
      "execution_count": null,
      "outputs": [
        {
          "output_type": "stream",
          "name": "stdout",
          "text": [
            "+--------+\n",
            "|    nome|\n",
            "+--------+\n",
            "|   Lucas|\n",
            "|     Ana|\n",
            "|   Luiza|\n",
            "|Fernando|\n",
            "|  Sandra|\n",
            "| Douglas|\n",
            "| Eduardo|\n",
            "|   Ester|\n",
            "|   Pedro|\n",
            "|   Maria|\n",
            "+--------+\n",
            "\n"
          ]
        }
      ]
    },
    {
      "cell_type": "code",
      "source": [
        "'''\n",
        "Selecionar todos os nomes, cargos e departamentos dos funcionarios\n",
        "'''\n",
        "funcionarios.select('nome','cargo','departamento').show()"
      ],
      "metadata": {
        "colab": {
          "base_uri": "https://localhost:8080/"
        },
        "id": "8L0DZRKIa5nH",
        "outputId": "b9f74da9-196b-4b08-d4a4-d1f39d68b23f"
      },
      "execution_count": null,
      "outputs": [
        {
          "output_type": "stream",
          "name": "stdout",
          "text": [
            "+--------+-----------+------------+\n",
            "|    nome|      cargo|departamento|\n",
            "+--------+-----------+------------+\n",
            "|   Lucas|    Gerente|     Compras|\n",
            "|     Ana|Coordenador|      Vendas|\n",
            "|   Luiza|    Gerente|    Finanças|\n",
            "|Fernando|    Diretor|   Marketing|\n",
            "|  Sandra|   Analista|    Produção|\n",
            "| Douglas|   Analista|    Finanças|\n",
            "| Eduardo|    Gerente|   Marketing|\n",
            "|   Ester|   Analista|     Compras|\n",
            "|   Pedro|   Analista|   Marketing|\n",
            "|   Maria|   Analista|    Produção|\n",
            "+--------+-----------+------------+\n",
            "\n"
          ]
        }
      ]
    },
    {
      "cell_type": "code",
      "source": [
        "'''\n",
        "Selecione todos os estados distintos\n",
        "'''\n",
        "funcionarios.select('estado').distinct().show()"
      ],
      "metadata": {
        "colab": {
          "base_uri": "https://localhost:8080/"
        },
        "id": "Zkl8to8jg-Mw",
        "outputId": "eda1e0f5-a89e-4857-de73-9b94f3f5fa7a"
      },
      "execution_count": null,
      "outputs": [
        {
          "output_type": "stream",
          "name": "stdout",
          "text": [
            "+------+\n",
            "|estado|\n",
            "+------+\n",
            "|    SP|\n",
            "|    MG|\n",
            "+------+\n",
            "\n"
          ]
        }
      ]
    },
    {
      "cell_type": "code",
      "source": [
        "'''\n",
        "Filtrar os dados: Usa-se .filter() ou .where() para aplicar condições de\n",
        "filtragem.\n",
        "'''"
      ],
      "metadata": {
        "id": "6ZNvI4C8hjDo"
      },
      "execution_count": null,
      "outputs": []
    },
    {
      "cell_type": "code",
      "source": [
        "'''\n",
        "Selecione todos os nomes que começam com a letra E\n",
        "'''\n",
        "funcionarios.select('nome').filter(funcionarios.nome.startswith('E')).show()"
      ],
      "metadata": {
        "colab": {
          "base_uri": "https://localhost:8080/"
        },
        "id": "Drb3oRZ9hsOC",
        "outputId": "0957c591-f804-4fac-bcc2-1302275ab526"
      },
      "execution_count": null,
      "outputs": [
        {
          "output_type": "stream",
          "name": "stdout",
          "text": [
            "+-------+\n",
            "|   nome|\n",
            "+-------+\n",
            "|Eduardo|\n",
            "|  Ester|\n",
            "+-------+\n",
            "\n"
          ]
        }
      ]
    },
    {
      "cell_type": "code",
      "source": [
        "# Alternativa com where\n",
        "'''\n",
        "Selecione todos os nomes que começam com a letra E\n",
        "'''\n",
        "funcionarios.select('nome').where(funcionarios.nome.startswith('E')).show()"
      ],
      "metadata": {
        "colab": {
          "base_uri": "https://localhost:8080/"
        },
        "id": "Jfu2zsdpiYez",
        "outputId": "6636ceb0-42e9-4e72-a1a5-709e66ccc8cb"
      },
      "execution_count": null,
      "outputs": [
        {
          "output_type": "stream",
          "name": "stdout",
          "text": [
            "+-------+\n",
            "|   nome|\n",
            "+-------+\n",
            "|Eduardo|\n",
            "|  Ester|\n",
            "+-------+\n",
            "\n"
          ]
        }
      ]
    },
    {
      "cell_type": "code",
      "source": [
        "'''\n",
        "Selecione nome, cargo e departamento de todos os Analistas\n",
        "'''\n",
        "funcionarios.select('nome','cargo','departamento')\\\n",
        ".where(funcionarios.cargo == 'Analista').show()"
      ],
      "metadata": {
        "colab": {
          "base_uri": "https://localhost:8080/"
        },
        "id": "BFpC1he8i01y",
        "outputId": "1f6f9818-f325-47fc-d482-641c99e9b2a0"
      },
      "execution_count": null,
      "outputs": [
        {
          "output_type": "stream",
          "name": "stdout",
          "text": [
            "+-------+--------+------------+\n",
            "|   nome|   cargo|departamento|\n",
            "+-------+--------+------------+\n",
            "| Sandra|Analista|    Produção|\n",
            "|Douglas|Analista|    Finanças|\n",
            "|  Ester|Analista|     Compras|\n",
            "|  Pedro|Analista|   Marketing|\n",
            "|  Maria|Analista|    Produção|\n",
            "+-------+--------+------------+\n",
            "\n"
          ]
        }
      ]
    },
    {
      "cell_type": "code",
      "source": [
        "# Alternativa com filter\n",
        "'''\n",
        "Selecione nome, cargo e departamento de todos os Analistas\n",
        "'''\n",
        "funcionarios.select('nome','cargo','departamento')\\\n",
        ".filter(funcionarios.cargo == 'Analista').show()"
      ],
      "metadata": {
        "colab": {
          "base_uri": "https://localhost:8080/"
        },
        "id": "QmdJnMr_jnKJ",
        "outputId": "f0d8c1c2-b68d-427c-9925-7c469b676f48"
      },
      "execution_count": null,
      "outputs": [
        {
          "output_type": "stream",
          "name": "stdout",
          "text": [
            "+-------+--------+------------+\n",
            "|   nome|   cargo|departamento|\n",
            "+-------+--------+------------+\n",
            "| Sandra|Analista|    Produção|\n",
            "|Douglas|Analista|    Finanças|\n",
            "|  Ester|Analista|     Compras|\n",
            "|  Pedro|Analista|   Marketing|\n",
            "|  Maria|Analista|    Produção|\n",
            "+-------+--------+------------+\n",
            "\n"
          ]
        }
      ]
    },
    {
      "cell_type": "code",
      "source": [
        "'''\n",
        "Selecione nome, cargo e departamento de todos os Analistas ordenado por\n",
        "departamento\n",
        "'''\n",
        "funcionarios.select('nome','cargo','departamento')\\\n",
        ".where(funcionarios.cargo == 'Analista').orderBy('departamento').show()"
      ],
      "metadata": {
        "colab": {
          "base_uri": "https://localhost:8080/"
        },
        "id": "aSE_WisMj2MI",
        "outputId": "2bc3f236-b635-4eab-9456-ddac0f9b363c"
      },
      "execution_count": null,
      "outputs": [
        {
          "output_type": "stream",
          "name": "stdout",
          "text": [
            "+-------+--------+------------+\n",
            "|   nome|   cargo|departamento|\n",
            "+-------+--------+------------+\n",
            "|  Ester|Analista|     Compras|\n",
            "|Douglas|Analista|    Finanças|\n",
            "|  Pedro|Analista|   Marketing|\n",
            "| Sandra|Analista|    Produção|\n",
            "|  Maria|Analista|    Produção|\n",
            "+-------+--------+------------+\n",
            "\n"
          ]
        }
      ]
    },
    {
      "cell_type": "code",
      "source": [
        "'''\n",
        "Selecione nome, cargo e departamento de todos os Analistas ordenado por\n",
        "departamento de forma inversa\n",
        "'''\n",
        "funcionarios.select('nome','cargo','departamento')\\\n",
        ".where(funcionarios.cargo == 'Analista')\\\n",
        ".orderBy('departamento',ascending=False).show()"
      ],
      "metadata": {
        "colab": {
          "base_uri": "https://localhost:8080/"
        },
        "id": "6g8dZd1wkS59",
        "outputId": "b4ed0bc0-b92b-4193-80c8-e60041c04bb2"
      },
      "execution_count": null,
      "outputs": [
        {
          "output_type": "stream",
          "name": "stdout",
          "text": [
            "+-------+--------+------------+\n",
            "|   nome|   cargo|departamento|\n",
            "+-------+--------+------------+\n",
            "| Sandra|Analista|    Produção|\n",
            "|  Maria|Analista|    Produção|\n",
            "|  Pedro|Analista|   Marketing|\n",
            "|Douglas|Analista|    Finanças|\n",
            "|  Ester|Analista|     Compras|\n",
            "+-------+--------+------------+\n",
            "\n"
          ]
        }
      ]
    },
    {
      "cell_type": "code",
      "source": [
        "'''\n",
        "Selecione cargo e salário (como salario_medio)\n",
        "agrupado por cargo\n",
        "'''\n",
        "funcionarios.groupby('cargo').agg(F.round(F.avg('salario'),2)\\\n",
        "                                  .alias('salario_medio')).show()"
      ],
      "metadata": {
        "colab": {
          "base_uri": "https://localhost:8080/"
        },
        "id": "R68o8ivvlReM",
        "outputId": "5b05f5db-c496-454d-c369-e8849f421994"
      },
      "execution_count": null,
      "outputs": [
        {
          "output_type": "stream",
          "name": "stdout",
          "text": [
            "+-----------+-------------+\n",
            "|      cargo|salario_medio|\n",
            "+-----------+-------------+\n",
            "|    Gerente|     21666.67|\n",
            "|Coordenador|      12000.0|\n",
            "|    Diretor|      40000.0|\n",
            "|   Analista|      13800.0|\n",
            "+-----------+-------------+\n",
            "\n"
          ]
        }
      ]
    },
    {
      "cell_type": "code",
      "source": [
        "'''\n",
        "Calcule e exiba o salário médio por estado\n",
        "'''\n",
        "funcionarios.groupby('estado').agg(F.round(F.avg('salario'),2)\\\n",
        "                                   .alias('salario_medio')).show()"
      ],
      "metadata": {
        "colab": {
          "base_uri": "https://localhost:8080/"
        },
        "id": "VMInxBb5oL2k",
        "outputId": "6c310d2d-edd9-41e5-95ad-b0028fc76529"
      },
      "execution_count": null,
      "outputs": [
        {
          "output_type": "stream",
          "name": "stdout",
          "text": [
            "+------+-------------+\n",
            "|estado|salario_medio|\n",
            "+------+-------------+\n",
            "|    SP|     23166.67|\n",
            "|    MG|      11750.0|\n",
            "+------+-------------+\n",
            "\n"
          ]
        }
      ]
    },
    {
      "cell_type": "code",
      "source": [
        "'''\n",
        "Calcule e exiba a nota média por departamento\n",
        "'''\n",
        "funcionarios.groupby('departamento').agg(F.round(F.avg('nota'),1)\\\n",
        "                                         .alias('nota_media')).show()"
      ],
      "metadata": {
        "colab": {
          "base_uri": "https://localhost:8080/"
        },
        "id": "lV4YpektsYqM",
        "outputId": "c5bc2683-b68d-4da0-9254-8888cfcf7038"
      },
      "execution_count": null,
      "outputs": [
        {
          "output_type": "stream",
          "name": "stdout",
          "text": [
            "+------------+----------+\n",
            "|departamento|nota_media|\n",
            "+------------+----------+\n",
            "|      Vendas|       6.0|\n",
            "|    Finanças|       9.0|\n",
            "|   Marketing|       4.0|\n",
            "|     Compras|       5.0|\n",
            "|    Produção|       6.0|\n",
            "+------------+----------+\n",
            "\n"
          ]
        }
      ]
    },
    {
      "cell_type": "code",
      "source": [
        "'''\n",
        "Selecione departamento e idade (como idade_media)\n",
        "agrupado por departamento\n",
        "'''\n",
        "funcionarios.groupby('departamento').agg(F.round(F.avg('idade'),1)\\\n",
        "                                         .alias('idade_media')).show()"
      ],
      "metadata": {
        "colab": {
          "base_uri": "https://localhost:8080/"
        },
        "id": "jeLuaeldtZJC",
        "outputId": "5c06117e-8cd9-4668-dd5e-16905e7da120"
      },
      "execution_count": null,
      "outputs": [
        {
          "output_type": "stream",
          "name": "stdout",
          "text": [
            "+------------+-----------+\n",
            "|departamento|idade_media|\n",
            "+------------+-----------+\n",
            "|      Vendas|       29.0|\n",
            "|    Finanças|       33.5|\n",
            "|   Marketing|       32.0|\n",
            "|     Compras|       32.0|\n",
            "|    Produção|       34.0|\n",
            "+------------+-----------+\n",
            "\n"
          ]
        }
      ]
    }
  ]
}